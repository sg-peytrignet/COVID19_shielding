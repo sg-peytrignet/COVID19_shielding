{
  "cells": [
    {
      "cell_type": "code",
      "source": [
        "# COLAB VERSION"
      ],
      "metadata": {
        "id": "aS078KQiSTY6"
      },
      "execution_count": null,
      "outputs": []
    },
    {
      "cell_type": "code",
      "execution_count": null,
      "metadata": {
        "id": "dif-NBruSNe2"
      },
      "outputs": [],
      "source": [
        "import geopandas as gpd\n",
        "import pandas as pd\n",
        "import matplotlib.pyplot as plt\n",
        "from matplotlib.patches import Patch\n",
        "import numpy as np\n",
        "import math\n",
        "import osmnx as ox\n",
        "from shapely.ops import unary_union\n",
        "import contextily as cx\n",
        "from summarytools import dfSummary\n",
        "import ipywidgets as widgets\n",
        "from IPython.display import display\n",
        "import uuid\n",
        "import pycountry\n",
        "import os"
      ]
    },
    {
      "cell_type": "code",
      "execution_count": null,
      "metadata": {
        "id": "nNGUO2zmSNe4"
      },
      "outputs": [],
      "source": [
        "# from google.colab import data_table"
      ]
    },
    {
      "cell_type": "code",
      "execution_count": null,
      "metadata": {
        "id": "R9jL84DTSNe4"
      },
      "outputs": [],
      "source": [
        "fetch_data = False"
      ]
    },
    {
      "cell_type": "markdown",
      "metadata": {
        "id": "okIG6cWvSNe5"
      },
      "source": [
        "## Get country boundaries"
      ]
    },
    {
      "cell_type": "code",
      "execution_count": null,
      "metadata": {
        "id": "Pj0qy2MYSNe7"
      },
      "outputs": [],
      "source": [
        "un_boundaries = gpd.read_file(\"https://zstagigaprodeuw1.blob.core.windows.net/gigainframapkit-public-container/country_boundary_data/boundaries.geojson\")\n",
        "algeria = un_boundaries[un_boundaries.romnam == \"Algeria\"]"
      ]
    },
    {
      "cell_type": "code",
      "execution_count": null,
      "metadata": {
        "id": "POFswjpqSNe7",
        "outputId": "8453f86e-622f-496d-a4e6-1479d5d0c9a3"
      },
      "outputs": [
        {
          "data": {
            "text/plain": [
              "<Axes: >"
            ]
          },
          "execution_count": 5,
          "metadata": {},
          "output_type": "execute_result"
        },
        {
          "data": {
            "image/png": "[encoded data removed]",
            "text/plain": [
              "<Figure size 640x480 with 1 Axes>"
            ]
          },
          "metadata": {},
          "output_type": "display_data"
        }
      ],
      "source": [
        "algeria.plot()"
      ]
    },
    {
      "cell_type": "code",
      "execution_count": null,
      "metadata": {
        "id": "ArNfAC38SNe7",
        "outputId": "8d48b804-3dd0-4d67-86cd-56b132294b81"
      },
      "outputs": [
        {
          "name": "stderr",
          "output_type": "stream",
          "text": [
            "/var/folders/ww/ybnnslt14m96q4bwh3jfbd5h0000gn/T/ipykernel_46689/4143853990.py:3: UserWarning: Geometry is in a geographic CRS. Results from 'centroid' are likely incorrect. Use 'GeoSeries.to_crs()' to re-project geometries to a projected CRS before this operation.\n",
            "\n",
            "  algeria_latitude = algeria.centroid.y.squeeze()\n"
          ]
        }
      ],
      "source": [
        "algeria_boundary = algeria.total_bounds\n",
        "algeria_utm = algeria.estimate_utm_crs()\n",
        "algeria_latitude = algeria.centroid.y.squeeze()"
      ]
    },
    {
      "cell_type": "code",
      "execution_count": null,
      "metadata": {
        "id": "XWwzG2XTSNe9"
      },
      "outputs": [],
      "source": [
        "def get_iso3_country_code(country_name):\n",
        "    try:\n",
        "        country = pycountry.countries.get(name=country_name)\n",
        "        return country.alpha_3\n",
        "    except AttributeError:\n",
        "        return None"
      ]
    },
    {
      "cell_type": "code",
      "execution_count": null,
      "metadata": {
        "id": "5eYmbGQfSNe9",
        "outputId": "2ee166c7-9da1-4827-ca51-7c515ed4b7c6"
      },
      "outputs": [
        {
          "name": "stdout",
          "output_type": "stream",
          "text": [
            "The ISO3 code for Algeria is DZA\n"
          ]
        }
      ],
      "source": [
        "algeria_iso3 = get_iso3_country_code(\"Algeria\")\n",
        "print(f\"The ISO3 code for Algeria is {algeria_iso3}\")"
      ]
    },
    {
      "cell_type": "markdown",
      "metadata": {
        "id": "61YcRM3KSNe-"
      },
      "source": [
        "## Get point of interest (POI) data"
      ]
    },
    {
      "cell_type": "code",
      "execution_count": null,
      "metadata": {
        "id": "IurMcJhaSNe_"
      },
      "outputs": [],
      "source": [
        "if fetch_data:\n",
        "    place = \"Algeria\"\n",
        "    tags = {\"amenity\": \"school\"}\n",
        "    algeria_schools_gdf = ox.features_from_place(place, tags)\n",
        "else:\n",
        "    algeria_schools_gdf = gpd.read_file(\"https://zstagigaprodeuw1.blob.core.windows.net/gigainframapkit-public-container/algeria/algeria-schools.geojson\")"
      ]
    },
    {
      "cell_type": "code",
      "execution_count": null,
      "metadata": {
        "id": "suYfl9BtSNe_"
      },
      "outputs": [],
      "source": [
        "algeria_schools_gdf = algeria_schools_gdf[[\"osmid\",\"amenity\",\"element_type\",\"addr:city\",\"isced:level\",\"operator\", \"geometry\"]]"
      ]
    },
    {
      "cell_type": "markdown",
      "metadata": {
        "id": "97KSnGxPSNe_"
      },
      "source": [
        "## Get Ookla data"
      ]
    },
    {
      "cell_type": "code",
      "execution_count": null,
      "metadata": {
        "id": "v0_zuHsLSNe_"
      },
      "outputs": [],
      "source": [
        "def get_perf_tiles_parquet_url(service: str, year: int, quarter: int) -> str:\n",
        "    quarter_start = f\"{year}-{(((quarter - 1) * 3) + 1):02}-01\"\n",
        "    url = f\"s3://ookla-open-data/parquet/performance/type={service}/year={year}/quarter={quarter}/{quarter_start}_performance_{service}_tiles.parquet\"\n",
        "    return url"
      ]
    },
    {
      "cell_type": "markdown",
      "metadata": {
        "id": "HmPpyAAPSNe_"
      },
      "source": [
        "### Mobile"
      ]
    },
    {
      "cell_type": "code",
      "execution_count": null,
      "metadata": {
        "id": "W1YqPrAvSNe_"
      },
      "outputs": [],
      "source": [
        "if fetch_data:\n",
        "    mobile_perf_tiles_url = get_perf_tiles_parquet_url(\"mobile\", 2024, 2)\n",
        "    bbox_filters = [('tile_y', '<=', algeria_boundary[3]), ('tile_y', '>=', algeria_boundary[1]),\n",
        "                ('tile_x', '<=', algeria_boundary[2]), ('tile_x', '>=', algeria_boundary[0])]\n",
        "    mobile_tiles_df = pd.read_parquet(mobile_perf_tiles_url,\n",
        "                           filters=bbox_filters,\n",
        "                           columns=['tile_x', 'tile_y', 'tests', 'avg_d_kbps', 'avg_lat_ms'],\n",
        "                           storage_options={\"s3\": {\"anon\": True}}\n",
        "                           )\n",
        "else:\n",
        "    mobile_tiles_df = pd.read_csv(\"https://zstagigaprodeuw1.blob.core.windows.net/gigainframapkit-public-container/algeria/algeria-ookla-mobile-tiles.csv\",index_col=0)"
      ]
    },
    {
      "cell_type": "code",
      "execution_count": null,
      "metadata": {
        "id": "gfHQ7UlxSNfA"
      },
      "outputs": [],
      "source": [
        "mobile_tiles_gdf = gpd.GeoDataFrame(mobile_tiles_df, geometry=gpd.points_from_xy(mobile_tiles_df.tile_x, mobile_tiles_df.tile_y), crs=\"EPSG:4326\").drop(columns=[\"tile_x\", \"tile_y\"])"
      ]
    },
    {
      "cell_type": "markdown",
      "metadata": {
        "id": "sNisNCITSNfA"
      },
      "source": [
        "#### Generate mobile coverage area"
      ]
    },
    {
      "cell_type": "code",
      "execution_count": null,
      "metadata": {
        "id": "ioAkcwNASNfA"
      },
      "outputs": [],
      "source": [
        "tile_size_at_latitude=610.8*np.cos(math.radians(algeria_latitude))\n",
        "buffers = mobile_tiles_gdf.to_crs(algeria_utm).buffer(tile_size_at_latitude).to_crs(\"EPSG:4326\")\n",
        "single_polygon = unary_union(buffers)\n",
        "algeria_mobile_coverage_gdf = gpd.GeoDataFrame(geometry=[single_polygon], crs=\"EPSG:4326\")"
      ]
    },
    {
      "cell_type": "markdown",
      "metadata": {
        "id": "9ACu1A6fSNfA"
      },
      "source": [
        "### Fixed"
      ]
    },
    {
      "cell_type": "code",
      "execution_count": null,
      "metadata": {
        "id": "a0A_6qq_SNfA"
      },
      "outputs": [],
      "source": [
        "if fetch_data:\n",
        "    fixed_perf_tiles_url = get_perf_tiles_parquet_url(\"fixed\", 2024, 2)\n",
        "    fixed_tiles_df = pd.read_parquet(fixed_perf_tiles_url,\n",
        "                           filters=bbox_filters,\n",
        "                           columns=['tile_x', 'tile_y', 'tests', 'avg_d_kbps', 'avg_lat_ms'],\n",
        "                           storage_options={\"s3\": {\"anon\": True}}\n",
        "                           )\n",
        "else:\n",
        "    fixed_tiles_df = pd.read_csv(\"https://zstagigaprodeuw1.blob.core.windows.net/gigainframapkit-public-container/algeria/algeria-ookla-fixed-tiles.csv\")"
      ]
    },
    {
      "cell_type": "markdown",
      "metadata": {
        "id": "JELT4Zh0SNfA"
      },
      "source": [
        "## Get cell site data"
      ]
    },
    {
      "cell_type": "code",
      "execution_count": null,
      "metadata": {
        "id": "ywGDJWHtSNfA"
      },
      "outputs": [],
      "source": [
        "algeria_cell_sites = pd.read_csv(\"https://zstagigaprodeuw1.blob.core.windows.net/gigainframapkit-public-container/algeria/algeria-cell-sites.csv\")"
      ]
    },
    {
      "cell_type": "code",
      "execution_count": null,
      "metadata": {
        "id": "ZUjCO4vBSNfB"
      },
      "outputs": [],
      "source": [
        "algeria_cell_sites_gdf = gpd.GeoDataFrame(algeria_cell_sites, geometry=gpd.points_from_xy(algeria_cell_sites.lon, algeria_cell_sites.lat), crs=\"EPSG:4326\").drop(columns=[\"lon\", \"lat\"])"
      ]
    },
    {
      "cell_type": "markdown",
      "metadata": {
        "id": "yVlmdu80SNfB"
      },
      "source": [
        "## Get transmission node data"
      ]
    },
    {
      "cell_type": "code",
      "execution_count": null,
      "metadata": {
        "id": "7DVGTMLOSNfB"
      },
      "outputs": [],
      "source": [
        "algeria_nodes = pd.read_csv(\"https://zstagigaprodeuw1.blob.core.windows.net/gigainframapkit-public-container/algeria/algeria-transmission-nodes.csv\")"
      ]
    },
    {
      "cell_type": "code",
      "execution_count": null,
      "metadata": {
        "id": "bg50obixSNfB"
      },
      "outputs": [],
      "source": [
        "algeria_nodes_gdf = gpd.GeoDataFrame(algeria_nodes, geometry=gpd.points_from_xy(algeria_nodes.lon, algeria_nodes.lat), crs=\"EPSG:4326\").drop(columns=[\"lon\", \"lat\"])"
      ]
    },
    {
      "cell_type": "markdown",
      "metadata": {
        "id": "VSmTyT2vSNfB"
      },
      "source": [
        "# Tabular data analysis"
      ]
    },
    {
      "cell_type": "markdown",
      "metadata": {
        "id": "4v1PplMSSNfB"
      },
      "source": [
        "## Point of interest (POI) data"
      ]
    },
    {
      "cell_type": "code",
      "execution_count": null,
      "metadata": {
        "id": "YoHLvoBZSNfB"
      },
      "outputs": [],
      "source": [
        "# data_table.DataTable(algeria_schools_gdf, num_rows_per_page=10)"
      ]
    },
    {
      "cell_type": "code",
      "execution_count": null,
      "metadata": {
        "id": "leyy96IoSNfC",
        "outputId": "27690209-a006-4188-8dc2-96ed68746702"
      },
      "outputs": [
        {
          "data": {
            "text/html": [
              "<style type=\"text/css\">\n",
              "#T_959c4 thead>tr>th {\n",
              "  text-align: left;\n",
              "}\n",
              "#T_959c4_row0_col0, #T_959c4_row1_col0, #T_959c4_row2_col0, #T_959c4_row3_col0, #T_959c4_row4_col0, #T_959c4_row5_col0, #T_959c4_row6_col0 {\n",
              "  text-align: left;\n",
              "  font-size: 12px;\n",
              "  vertical-align: middle;\n",
              "  width: 5%;\n",
              "  max-width: 50px;\n",
              "  min-width: 20px;\n",
              "}\n",
              "#T_959c4_row0_col1, #T_959c4_row1_col1, #T_959c4_row2_col1, #T_959c4_row3_col1, #T_959c4_row4_col1, #T_959c4_row5_col1, #T_959c4_row6_col1 {\n",
              "  text-align: left;\n",
              "  font-size: 12px;\n",
              "  vertical-align: middle;\n",
              "  width: 15%;\n",
              "  max-width: 200px;\n",
              "  min-width: 100px;\n",
              "  word-break: break-word;\n",
              "}\n",
              "#T_959c4_row0_col2, #T_959c4_row1_col2, #T_959c4_row2_col2, #T_959c4_row3_col2, #T_959c4_row4_col2, #T_959c4_row5_col2, #T_959c4_row6_col2 {\n",
              "  text-align: left;\n",
              "  font-size: 12px;\n",
              "  vertical-align: middle;\n",
              "  width: 30%;\n",
              "  min-width: 100px;\n",
              "}\n",
              "#T_959c4_row0_col3, #T_959c4_row1_col3, #T_959c4_row2_col3, #T_959c4_row3_col3, #T_959c4_row4_col3, #T_959c4_row5_col3, #T_959c4_row6_col3 {\n",
              "  text-align: left;\n",
              "  font-size: 12px;\n",
              "  vertical-align: middle;\n",
              "  width: 25%;\n",
              "  min-width: 100px;\n",
              "}\n",
              "#T_959c4_row0_col4, #T_959c4_row1_col4, #T_959c4_row2_col4, #T_959c4_row3_col4, #T_959c4_row4_col4, #T_959c4_row5_col4, #T_959c4_row6_col4 {\n",
              "  text-align: left;\n",
              "  font-size: 12px;\n",
              "  vertical-align: middle;\n",
              "  width: 20%;\n",
              "  min-width: 150px;\n",
              "}\n",
              "#T_959c4_row0_col5, #T_959c4_row1_col5, #T_959c4_row2_col5, #T_959c4_row3_col5, #T_959c4_row4_col5, #T_959c4_row5_col5, #T_959c4_row6_col5 {\n",
              "  text-align: left;\n",
              "  font-size: 12px;\n",
              "  vertical-align: middle;\n",
              "  width: 10%;\n",
              "}\n",
              "</style>\n",
              "<table id=\"T_959c4\">\n",
              "  <caption><strong>Data Frame Summary</strong><br>algeria_schools_gdf<br>Dimensions: 10,647 x 7<br>Duplicates: 0</caption>\n",
              "  <thead>\n",
              "    <tr>\n",
              "      <th id=\"T_959c4_level0_col0\" class=\"col_heading level0 col0\" >No</th>\n",
              "      <th id=\"T_959c4_level0_col1\" class=\"col_heading level0 col1\" >Variable</th>\n",
              "      <th id=\"T_959c4_level0_col2\" class=\"col_heading level0 col2\" >Stats / Values</th>\n",
              "      <th id=\"T_959c4_level0_col3\" class=\"col_heading level0 col3\" >Freqs / (% of Valid)</th>\n",
              "      <th id=\"T_959c4_level0_col4\" class=\"col_heading level0 col4\" >Graph</th>\n",
              "      <th id=\"T_959c4_level0_col5\" class=\"col_heading level0 col5\" >Missing</th>\n",
              "    </tr>\n",
              "  </thead>\n",
              "  <tbody>\n",
              "    <tr>\n",
              "      <td id=\"T_959c4_row0_col0\" class=\"data row0 col0\" >1</td>\n",
              "      <td id=\"T_959c4_row0_col1\" class=\"data row0 col1\" ><strong>osmid</strong><br>[int64]</td>\n",
              "      <td id=\"T_959c4_row0_col2\" class=\"data row0 col2\" >Mean (sd) : 1615171916.7 (2253123721.3)<br>min < med < max:<br>4028212.0 < 462852539.0 < 12227517643.0<br>IQR (CV) : 936196757.0 (0.7)</td>\n",
              "      <td id=\"T_959c4_row0_col3\" class=\"data row0 col3\" >10,647 distinct values</td>\n",
              "      <td id=\"T_959c4_row0_col4\" class=\"data row0 col4\" ><img src = \"data:image/png;base64, iVBORw0KGgoAAAANSUhEUgAAAKoAAABGCAYAAABc8A97AAAAOXRFWHRTb2Z0d2FyZQBNYXRwbG90bGliIHZlcnNpb24zLjkuMiwgaHR0cHM6Ly9tYXRwbG90bGliLm9yZy8hTgPZAAAACXBIWXMAAA9hAAAPYQGoP6dpAAACwElEQVR4nO3ZP2/aQBiA8fcgoOOPfBBSZ2PpwFCpQ0aWTl3zYbN2ayT2fACGrihOOAsHF8u4Q6suqUp8Jkpe9PzmvHeH9OjAjqmqSoD3rvXWBwBe4uzQHxhjeiLSDVx/V1XVNnAW+Ou/oRpjepPJ5DqKonHI4mmaPhpjbogVTR26UbtRFI3n8/nWOZfXWdh7bxeLxThJkq6IECoaOfjVLyLinMvjOH4KWL8XMAM8w8MUVCBUqECoUIFQoQKhQgVChQqEChUIFSoQKlQgVKhAqFCBUKECoUIFQoUKhAoVCBUqECpUIFSoQKhQgVChAqFCBUKFCoQKFQgVKhAqVCBUqECoUIFQoQKhQgVChQqEChUIFSoQKlQgVKhAqFCBUKECoUIFQoUKhAoVCBUqECpUIFSoQKhQgVChAqFCBUKFCoQKFQgVKhAqVCBUqECoUIFQoQKhQoWztz7AazHG9ESk22CJXVVV22OdB82cZKjGmN5kMrmOomgcukaapo/GmBtifR9OMlQR6UZRNJ7P51vnXF532HtvF4vFOEmSrogQ6jtwqqGKiIhzLo/j+ClwvHfUw6ARHqagAqFChZP+6m+iLMuOiETGmJBx3hgcGaH+Q5ZlnaIoPk+n03a73a79MMYbg+N71VAb3koiv3+a7APmov1+3wnddLfbnVlr+1dXV/nl5eVjnVnvvb29vY2TJLkwxqQh2xP4c68WatNbqSzLTpZlH4fD4bLVahV1ZouisGVZfsrz/LuIhD71y2AwqP3WoOnnXq/XG2PMNxGpPftHcOhH+CdJ6MUicuDcLwrVe2/r7vrw8DC01vZns5kZjUY/687f39/b5XL5YTab/RiNRpuA2b73frBarXZ1995sNlZEJMsyu1qt+nVmm3zu9Xo9vLu7+zKdTi9CIv+zRmjo9vz8/Ktzbhiyb5OLReTwz6VfOMzqGy9u1NoAAAAASUVORK5CYII=\"></img></td>\n",
              "      <td id=\"T_959c4_row0_col5\" class=\"data row0 col5\" >0<br>(0.0%)</td>\n",
              "    </tr>\n",
              "    <tr>\n",
              "      <td id=\"T_959c4_row1_col0\" class=\"data row1 col0\" >2</td>\n",
              "      <td id=\"T_959c4_row1_col1\" class=\"data row1 col1\" ><strong>amenity</strong><br>[object]</td>\n",
              "      <td id=\"T_959c4_row1_col2\" class=\"data row1 col2\" >1. school</td>\n",
              "      <td id=\"T_959c4_row1_col3\" class=\"data row1 col3\" >10,647 (100.0%)</td>\n",
              "      <td id=\"T_959c4_row1_col4\" class=\"data row1 col4\" ><img src = \"data:image/png;base64, iVBORw0KGgoAAAANSUhEUgAAAJsAAAAXCAYAAAAcEz0vAAAAOXRFWHRTb2Z0d2FyZQBNYXRwbG90bGliIHZlcnNpb24zLjkuMiwgaHR0cHM6Ly9tYXRwbG90bGliLm9yZy8hTgPZAAAACXBIWXMAAA9hAAAPYQGoP6dpAAAAnUlEQVR4nO3bsQ0CMRBE0TlkoSPx6mTJxbgIUvovYZPjQgJqYCyZ/yqY4Ie7m6SHpLuAHyuttWet9Zg9BOsrtdZjjPGOiGv2GKwrM/ciSRFx9d7P2YOwttvsAfgfxAYbYoMNscGG2GBDbLAhNtgQG2yIDTbEBhtigw2xwYbYYENssCE22BAbbIgNNkX6nuzOHoK1Zea+tdZePLzA4QPFNA/EDSh7IQAAAABJRU5ErkJggg==\"></img></td>\n",
              "      <td id=\"T_959c4_row1_col5\" class=\"data row1 col5\" >0<br>(0.0%)</td>\n",
              "    </tr>\n",
              "    <tr>\n",
              "      <td id=\"T_959c4_row2_col0\" class=\"data row2 col0\" >3</td>\n",
              "      <td id=\"T_959c4_row2_col1\" class=\"data row2 col1\" ><strong>element_type</strong><br>[object]</td>\n",
              "      <td id=\"T_959c4_row2_col2\" class=\"data row2 col2\" >1. way<br>2. node<br>3. relation</td>\n",
              "      <td id=\"T_959c4_row2_col3\" class=\"data row2 col3\" >8,011 (75.2%)<br>2,615 (24.6%)<br>21 (0.2%)</td>\n",
              "      <td id=\"T_959c4_row2_col4\" class=\"data row2 col4\" ><img src = \"data:image/png;base64, iVBORw0KGgoAAAANSUhEUgAAAJsAAABFCAYAAABdVZTTAAAAOXRFWHRTb2Z0d2FyZQBNYXRwbG90bGliIHZlcnNpb24zLjkuMiwgaHR0cHM6Ly9tYXRwbG90bGliLm9yZy8hTgPZAAAACXBIWXMAAA9hAAAPYQGoP6dpAAABnUlEQVR4nO3bQU6DUBSF4fMIqXYCIU26BN0Di3CxLoJFuAdCeANbO8GBs8aJiOfd4P+t4Cb924amJy3LIsChKn0A/o8k6SjpUPoQbOq2LMul9BH36tPp9NI0TVf6EGwn5zyllF6jBVc3TdP1fX9p2/Za+hj83jzPj8MwdOM4HiTFik2S2ra9ns/n99LHYDPH0gd8hwcE2BAbbIgNNsQGG2KDDbHBhthgQ2ywITbYEBtsiA02xAYbYoMNscGmlr7+A1X6EGwj8mtZ55ynYRg6Bf0PFH4u5zxJupW+4x4bhH0KuUFITPngEvmTLeS7E+uFXVdFXQhhvZDrqsgLIawXeV3F0/HO8KMubIgNNsQGG2KDDbHBhthgQ2ywITbYEBtsiA02xAYbYoMNscGG2GATcl0V7R5sI+y6KupCCOuxQYAN6yrY8IAAG2KDTZVSek4p8fSHP1dJepL0UPoQ7B9fo7AhNtgQG2yIDTbEBhtigw2xwYbYYENssCE22BAbbIgNNsQGG2KDDbHBhthgU0l6k/RR+hDsH+sq2PA1CptP50VzOsNf1j4AAAAASUVORK5CYII=\"></img></td>\n",
              "      <td id=\"T_959c4_row2_col5\" class=\"data row2 col5\" >0<br>(0.0%)</td>\n",
              "    </tr>\n",
              "    <tr>\n",
              "      <td id=\"T_959c4_row3_col0\" class=\"data row3 col0\" >4</td>\n",
              "      <td id=\"T_959c4_row3_col1\" class=\"data row3 col1\" ><strong>addr:city</strong><br>[object]</td>\n",
              "      <td id=\"T_959c4_row3_col2\" class=\"data row3 col2\" >1. None<br>2. Oum El Bouaghi<br>3. تبسة<br>4. Oran<br>5. Blida<br>6. El Eulma<br>7. Tiaret<br>8. Bouira<br>9. Batna<br>10. Ouled Yaïch<br>11. other</td>\n",
              "      <td id=\"T_959c4_row3_col3\" class=\"data row3 col3\" >8,447 (79.3%)<br>70 (0.7%)<br>64 (0.6%)<br>42 (0.4%)<br>41 (0.4%)<br>29 (0.3%)<br>29 (0.3%)<br>26 (0.2%)<br>22 (0.2%)<br>19 (0.2%)<br>1,858 (17.5%)</td>\n",
              "      <td id=\"T_959c4_row3_col4\" class=\"data row3 col4\" ><img src = \"data:image/png;base64, iVBORw0KGgoAAAANSUhEUgAAAJsAAAD+CAYAAAAtWHdlAAAAOXRFWHRTb2Z0d2FyZQBNYXRwbG90bGliIHZlcnNpb24zLjkuMiwgaHR0cHM6Ly9tYXRwbG90bGliLm9yZy8hTgPZAAAACXBIWXMAAA9hAAAPYQGoP6dpAAAD9klEQVR4nO3cwW0bVxhG0X8EQrE2QxAEVELSg4pwsS6CRaQHQdAsIkUbZmGnBN0RzHMaeAP4Qo8k5vNyvV4HCnd7PwC3Q2xkxEZGbGTERkZsZMRGRmxkxEZmmZmHmbnf+0FIfFyv17e9Dj+cz+fv67qe9noAOtu2vSzL8mOv4A7rup6enp7ejsfj+x4PQOP19fXb5XI5PT8/38/MPrHNzByPx/fHx8d/9ngAUg97Hu4LAhmxkREbGbGRERsZsZERGxmxkREbGbGRERsZsZERGxmxkTnM/HzXae8H4XN9hX/jw7ZtL5fL5TQ7v+vE59u27WVmPvY63wbhtuy6QVj8l1lU/v/LNnsWz204nM/n7zMze65uuA1367qefk35fG7jU/mdjYzYyIiNjNjIiI2M2MiIjYzYyIiNjNjIiI2M2MiIjYzYyIiNzOHXCGJmxyEEt8Fr4WQMXsj4y0bG4IWMwQsZP32QERsZsZERGxmxkREbGbGRERsZsZERGxmxkREbGbGRERsZsZExeCHjtXAyBi9kfGYj4xolY11FxrqKjM9sZMRGRmxkxEZGbGTERkZsZMRGRmxkxEZGbGTERkZsZMRGRmxkrKvIeC2cjHUVGX/ZyBi8kDF4IeOnDzJiIyM2MmIjIzYyYiMjNjJiIyM2MmIjIzYyYiMjNjJiIyM2MgYvZLwWTsbghYzPbGTulmX5a1mWb3s/CL+/u5n5c2b+2PtB+P25RsmIjYzYyIiNjNjIiI2M2MiIjYzYyIiNjNjIiI2M2MiIjYzYyIiNzN3M/D0z/+79IPz+DF7IuEbJiI2MdRUZ6yoyrlEyYiMjNjJiIyM2MmIjIzYyYiMjNjJiIyM2MmIjIzYyYiMjNjIGL2QMXsi4RsmIjYzBCxmDFzKuUTJiIyM2MmIjIzYyYiMjNjJiIyM2MmIjIzYyYiMjNjJiIyM2MgYvZAxeyLhGyYiNjNjIWFeRsa4i4xolIzYyYiMjNjJiIyM2MmIjIzYyYiMjNjJiIyM2MmIjIzYyYiNjXUXGuoqMa5SM2MgYvJAxeCHjGiUjNjJiIyM2MmIjIzYyYiMjNjJiIyM2MmIjIzYyYiMjNjJiI2PwQsbghYxrlMwyMw8zcx+d93G9Xt+is/hiDufz+fu6rqfisG3bXpZl+SG423RY1/X09PT0djwe3z/zoNfX12+Xy+X0/Px8PzNiu0GHmZnj8fj++Pj4T3DeQ3AGX5QvCGTERkZsZMRGRmxkxEZGbGTERkZsZMRGRmxkxEZGbGQOMz9f//nsg4oz+NoO27a9XC6X0wSv/2zb9jIzH599Dl+T18LJWFeR8QWBjNjIiI2M2MiIjYzYyIiNjNjIiI3Mfzoe3vyvs0YCAAAAAElFTkSuQmCC\"></img></td>\n",
              "      <td id=\"T_959c4_row3_col5\" class=\"data row3 col5\" >8,447<br>(79.3%)</td>\n",
              "    </tr>\n",
              "    <tr>\n",
              "      <td id=\"T_959c4_row4_col0\" class=\"data row4 col0\" >5</td>\n",
              "      <td id=\"T_959c4_row4_col1\" class=\"data row4 col1\" ><strong>isced:level</strong><br>[object]</td>\n",
              "      <td id=\"T_959c4_row4_col2\" class=\"data row4 col2\" >1. None<br>2. 2<br>3. 1<br>4. 3<br>5. primary<br>6. 0;1<br>7. secondary<br>8. 2;3;4</td>\n",
              "      <td id=\"T_959c4_row4_col3\" class=\"data row4 col3\" >9,119 (85.6%)<br>1,261 (11.8%)<br>172 (1.6%)<br>89 (0.8%)<br>3 (0.0%)<br>1 (0.0%)<br>1 (0.0%)<br>1 (0.0%)</td>\n",
              "      <td id=\"T_959c4_row4_col4\" class=\"data row4 col4\" ><img src = \"data:image/png;base64, iVBORw0KGgoAAAANSUhEUgAAAJsAAAC4CAYAAAD0WZ4UAAAAOXRFWHRTb2Z0d2FyZQBNYXRwbG90bGliIHZlcnNpb24zLjkuMiwgaHR0cHM6Ly9tYXRwbG90bGliLm9yZy8hTgPZAAAACXBIWXMAAA9hAAAPYQGoP6dpAAADE0lEQVR4nO3dMW4jdRyG4d9E1sI2tiJLOQLcwYfYw3IIH4I7RFFckGUbU5BFgBCimHmzMc/TpRlN8cb/2JrPWa7X60Dh7q1vgP8PsZERGxmxkREbGbGRWWbm48x8eOsb4Zvy5Xq9vqx90d3xePy03+/v174w79flcnlaluWntYPb7ff7+9Pp9HI4HD6veWHep+fn5+/P5/P94+Pjh5lZN7aZmcPh8Pnh4eGXNS/Mu/Zxi4t6g0BGbGTERkZsZMRGRmxkxEZGbGTERkZsZMRGRmxkxEZmN/P7YyVvfSN8G7ZsYXe5XJ7O5/P9bPRYCe/P5XJ5mpkva1/XY+H8k00eC198/QKVNV/ZNvlt4HasNnjZaiTB7Vhl8LLlSILbsebgxbtZ/pUPdcmIjYzYyIiNjNjIiI2M2MiIjYzYyIiNjNjIiI2M2MisMngxmOG/WG3wstVIgtvhsXAyBi9kvEEg8/dj1FHIZv6yrrKQYkt3X9dVp9Pp5TU663g28ce66vVnCyk24w0CGbGRERsZsZERGxmxkREbGbGRERsZsZERGxmxkREbGf9OiMyf11UWUmzKY+FkrKvIfH1lG69obG13PB4/zcwYurC1u/1+f2/oQsHnbGTERkZsZMRGRmxkxEZGbGTERkZsZMRGRmxkxEZGbGTERkZsZHavI5cZQxc25rFwMgYvZPzNRkZsZO6WZflxWRZfv8Dm7mbmh5n57q1vhNvnGCUjNjJiIyM2MmIjIzYyYiMjNjJiIyM2MmIjIzYyYiMjNjJiI3M3Mz/PzK9vfSPcPoMXMo5RMmIjY/BCxuCFjGOUjNjIiI2M2MiIjYzYyIiNjNjIiI2M2MiIjYzYyIiNjNjIiI2M2MhYV5GxriLjGCUjNjLWVWSsq8g4RsmIjYzYyIiNjNjIiI2M2MiIjYzYyIiNjNjIiI2M2MiIjYzYyBi8kDF4IeMYJSM2MgYvZAxeyDhGyYiNjNjIiI2M2MiIjYzYyIiNjNjIiI2M2MiIjYzYyIiNjNjIiI2MdRUZ6yoyjlEyYiMjNjJiIyM2MmIj8xurs8H4w53KfwAAAABJRU5ErkJggg==\"></img></td>\n",
              "      <td id=\"T_959c4_row4_col5\" class=\"data row4 col5\" >9,119<br>(85.6%)</td>\n",
              "    </tr>\n",
              "    <tr>\n",
              "      <td id=\"T_959c4_row5_col0\" class=\"data row5 col0\" >6</td>\n",
              "      <td id=\"T_959c4_row5_col1\" class=\"data row5 col1\" ><strong>operator</strong><br>[object]</td>\n",
              "      <td id=\"T_959c4_row5_col2\" class=\"data row5 col2\" >1. None<br>2. Public<br>3. public<br>4. Ministère de l'éducation natio<br>5. Direction de l'éducation<br>6. Ministère de l'éducation<br>7. Publique<br>8. Mairie de Bourouba<br>9. وزارة التربية الوطنية<br>10. مديرية التربية<br>11. other</td>\n",
              "      <td id=\"T_959c4_row5_col3\" class=\"data row5 col3\" >10,508 (98.7%)<br>9 (0.1%)<br>8 (0.1%)<br>6 (0.1%)<br>6 (0.1%)<br>5 (0.0%)<br>4 (0.0%)<br>4 (0.0%)<br>4 (0.0%)<br>3 (0.0%)<br>90 (0.8%)</td>\n",
              "      <td id=\"T_959c4_row5_col4\" class=\"data row5 col4\" ><img src = \"data:image/png;base64, iVBORw0KGgoAAAANSUhEUgAAAJsAAAD+CAYAAAAtWHdlAAAAOXRFWHRTb2Z0d2FyZQBNYXRwbG90bGliIHZlcnNpb24zLjkuMiwgaHR0cHM6Ly9tYXRwbG90bGliLm9yZy8hTgPZAAAACXBIWXMAAA9hAAAPYQGoP6dpAAADiUlEQVR4nO3csW0jZxRG0TcCIVvJEAQBlWD3oCK22C2CRWwPgqAJVmsl48AbuADvHYA+J1L4Bxd4JMBPy77vA4WHox/A/4fYyIiNjNjIiI2M2MiIjYzYyIiNzDIzTzPzePRDuGuf+75/nK7X65d1XS9Hv4b7tW3b27IsX0/rul5eXl4+zufzj6Mfxf15f3///Xa7XV5fXx9PMzPn8/nH8/Pz96Mfxt16mvEFgZDYyIiNjNjIiI2M2MiIjYzYyIiNjNjIiI2M2MiIjYzYyJxm/vnN0dEP4T79u63Ttm1vt9vtMj9/cwT/tW3b3mbm0waBwue+7x+Lf5lFxRcEMg/Lsvy5LIsvCPxyDzPzx8z8dvRDuH/OKBmxkREbGbGRERsZsZERGxmxkREbGbGRERsZsZERGxmxkREbmYeZ+TYzfx39EO6fDQIZZ5SM2MgYvJAxeCHjjJIRGxmxkREbGbGRERsZsZERGxmxkREbGbGRERsZsZERGxmxkTF4IWPwQsYZJSM2MmIjY11FxrqKjDNKRmxkxEZGbGTERkZsZMRGRmxkxEZGbGTERkZsZMRGRmxkxEbGuoqMdRUZZ5SM2MgYvJAxeCHjjJIRGxmxkREbGbGRERsZsZERGxmxkREbGbGRERsZsZERGxmxkTF4IWPwQsYZJSM2MgYvZAxeyDijZMRGRmxkxEZGbGTERkZsZMRGRmxkxEZGbGTERkZsZMRGRmxkxEbGuoqMdRUZZ5SM2MhYV5GxriLjjJIRGxmxkREbGbGRERsZsZERGxmxkREbGbGRERsZsZERGxmxkTF4IWPwQsYZJSM2MgYvZAxeyDijZMRGRmxkxEZGbGTERkZsZMRGRmxkxEZGbGTERkZsZMRGRmxkDF7IGLyQcUbJiI2M2MhYV5GxriLjjJIRGxmxkREbGbGRERsZsZERGxmxkREbGbGRERsZsZERGxmxkbGuImNdRcYZJSM2MgYvZAxeyDijZMRGRmxkxEZGbGTERkZsZMRGRmxkxEZGbGTERkZsZMRGRmxkDF7IGLyQcUbJLDPzNDOz7/vHwW/hzp2u1+uXmZllWb4Kjl/pYV3Xy7qul5l5PPox3Def2ciIjYzYyIiNjNjIiI2M2MiIjYzYyIiNjNjIiI2M2MiIjYzYyJy2bXv7+ffnoS/h7vlZOBnrKjI+s5ERGxmxkREbGbGRERsZsZERGxmxkfkbm215a0cUSpUAAAAASUVORK5CYII=\"></img></td>\n",
              "      <td id=\"T_959c4_row5_col5\" class=\"data row5 col5\" >10,508<br>(98.7%)</td>\n",
              "    </tr>\n",
              "    <tr>\n",
              "      <td id=\"T_959c4_row6_col0\" class=\"data row6 col0\" >7</td>\n",
              "      <td id=\"T_959c4_row6_col1\" class=\"data row6 col1\" ><strong>geometry</strong><br>[geometry]</td>\n",
              "      <td id=\"T_959c4_row6_col2\" class=\"data row6 col2\" >not supported dtype geometry</td>\n",
              "      <td id=\"T_959c4_row6_col3\" class=\"data row6 col3\" >nan</td>\n",
              "      <td id=\"T_959c4_row6_col4\" class=\"data row6 col4\" >nan</td>\n",
              "      <td id=\"T_959c4_row6_col5\" class=\"data row6 col5\" >0<br>(0.0%)</td>\n",
              "    </tr>\n",
              "  </tbody>\n",
              "</table>\n"
            ],
            "text/plain": [
              "<pandas.io.formats.style.Styler at 0x168b09160>"
            ]
          },
          "execution_count": 19,
          "metadata": {},
          "output_type": "execute_result"
        }
      ],
      "source": [
        "dfSummary(algeria_schools_gdf)"
      ]
    },
    {
      "cell_type": "markdown",
      "metadata": {
        "id": "hQPzkRlaSNfC"
      },
      "source": [
        "## Cell site data"
      ]
    },
    {
      "cell_type": "code",
      "execution_count": null,
      "metadata": {
        "id": "EqoE6T6JSNfC"
      },
      "outputs": [],
      "source": [
        "# data_table.DataTable(algeria_cell_sites_gdf, num_rows_per_page=10)"
      ]
    },
    {
      "cell_type": "code",
      "execution_count": null,
      "metadata": {
        "id": "hloHWaO7SNfC",
        "outputId": "0091984d-c662-480b-ebaa-bb2adc370cd5"
      },
      "outputs": [
        {
          "data": {
            "text/html": [
              "<style type=\"text/css\">\n",
              "#T_2e16c thead>tr>th {\n",
              "  text-align: left;\n",
              "}\n",
              "#T_2e16c_row0_col0, #T_2e16c_row1_col0, #T_2e16c_row2_col0, #T_2e16c_row3_col0, #T_2e16c_row4_col0, #T_2e16c_row5_col0, #T_2e16c_row6_col0, #T_2e16c_row7_col0, #T_2e16c_row8_col0, #T_2e16c_row9_col0, #T_2e16c_row10_col0, #T_2e16c_row11_col0, #T_2e16c_row12_col0 {\n",
              "  text-align: left;\n",
              "  font-size: 12px;\n",
              "  vertical-align: middle;\n",
              "  width: 5%;\n",
              "  max-width: 50px;\n",
              "  min-width: 20px;\n",
              "}\n",
              "#T_2e16c_row0_col1, #T_2e16c_row1_col1, #T_2e16c_row2_col1, #T_2e16c_row3_col1, #T_2e16c_row4_col1, #T_2e16c_row5_col1, #T_2e16c_row6_col1, #T_2e16c_row7_col1, #T_2e16c_row8_col1, #T_2e16c_row9_col1, #T_2e16c_row10_col1, #T_2e16c_row11_col1, #T_2e16c_row12_col1 {\n",
              "  text-align: left;\n",
              "  font-size: 12px;\n",
              "  vertical-align: middle;\n",
              "  width: 15%;\n",
              "  max-width: 200px;\n",
              "  min-width: 100px;\n",
              "  word-break: break-word;\n",
              "}\n",
              "#T_2e16c_row0_col2, #T_2e16c_row1_col2, #T_2e16c_row2_col2, #T_2e16c_row3_col2, #T_2e16c_row4_col2, #T_2e16c_row5_col2, #T_2e16c_row6_col2, #T_2e16c_row7_col2, #T_2e16c_row8_col2, #T_2e16c_row9_col2, #T_2e16c_row10_col2, #T_2e16c_row11_col2, #T_2e16c_row12_col2 {\n",
              "  text-align: left;\n",
              "  font-size: 12px;\n",
              "  vertical-align: middle;\n",
              "  width: 30%;\n",
              "  min-width: 100px;\n",
              "}\n",
              "#T_2e16c_row0_col3, #T_2e16c_row1_col3, #T_2e16c_row2_col3, #T_2e16c_row3_col3, #T_2e16c_row4_col3, #T_2e16c_row5_col3, #T_2e16c_row6_col3, #T_2e16c_row7_col3, #T_2e16c_row8_col3, #T_2e16c_row9_col3, #T_2e16c_row10_col3, #T_2e16c_row11_col3, #T_2e16c_row12_col3 {\n",
              "  text-align: left;\n",
              "  font-size: 12px;\n",
              "  vertical-align: middle;\n",
              "  width: 25%;\n",
              "  min-width: 100px;\n",
              "}\n",
              "#T_2e16c_row0_col4, #T_2e16c_row1_col4, #T_2e16c_row2_col4, #T_2e16c_row3_col4, #T_2e16c_row4_col4, #T_2e16c_row5_col4, #T_2e16c_row6_col4, #T_2e16c_row7_col4, #T_2e16c_row8_col4, #T_2e16c_row9_col4, #T_2e16c_row10_col4, #T_2e16c_row11_col4, #T_2e16c_row12_col4 {\n",
              "  text-align: left;\n",
              "  font-size: 12px;\n",
              "  vertical-align: middle;\n",
              "  width: 20%;\n",
              "  min-width: 150px;\n",
              "}\n",
              "#T_2e16c_row0_col5, #T_2e16c_row1_col5, #T_2e16c_row2_col5, #T_2e16c_row3_col5, #T_2e16c_row4_col5, #T_2e16c_row5_col5, #T_2e16c_row6_col5, #T_2e16c_row7_col5, #T_2e16c_row8_col5, #T_2e16c_row9_col5, #T_2e16c_row10_col5, #T_2e16c_row11_col5, #T_2e16c_row12_col5 {\n",
              "  text-align: left;\n",
              "  font-size: 12px;\n",
              "  vertical-align: middle;\n",
              "  width: 10%;\n",
              "}\n",
              "</style>\n",
              "<table id=\"T_2e16c\">\n",
              "  <caption><strong>Data Frame Summary</strong><br>algeria_cell_sites_gdf<br>Dimensions: 2,192 x 13<br>Duplicates: 0</caption>\n",
              "  <thead>\n",
              "    <tr>\n",
              "      <th id=\"T_2e16c_level0_col0\" class=\"col_heading level0 col0\" >No</th>\n",
              "      <th id=\"T_2e16c_level0_col1\" class=\"col_heading level0 col1\" >Variable</th>\n",
              "      <th id=\"T_2e16c_level0_col2\" class=\"col_heading level0 col2\" >Stats / Values</th>\n",
              "      <th id=\"T_2e16c_level0_col3\" class=\"col_heading level0 col3\" >Freqs / (% of Valid)</th>\n",
              "      <th id=\"T_2e16c_level0_col4\" class=\"col_heading level0 col4\" >Graph</th>\n",
              "      <th id=\"T_2e16c_level0_col5\" class=\"col_heading level0 col5\" >Missing</th>\n",
              "    </tr>\n",
              "  </thead>\n",
              "  <tbody>\n",
              "    <tr>\n",
              "      <td id=\"T_2e16c_row0_col0\" class=\"data row0 col0\" >1</td>\n",
              "      <td id=\"T_2e16c_row0_col1\" class=\"data row0 col1\" ><strong>radio</strong><br>[object]</td>\n",
              "      <td id=\"T_2e16c_row0_col2\" class=\"data row0 col2\" >1. GSM<br>2. LTE<br>3. UMTS</td>\n",
              "      <td id=\"T_2e16c_row0_col3\" class=\"data row0 col3\" >1,785 (81.4%)<br>266 (12.1%)<br>141 (6.4%)</td>\n",
              "      <td id=\"T_2e16c_row0_col4\" class=\"data row0 col4\" ><img src = \"data:image/png;base64, iVBORw0KGgoAAAANSUhEUgAAAJsAAABFCAYAAABdVZTTAAAAOXRFWHRTb2Z0d2FyZQBNYXRwbG90bGliIHZlcnNpb24zLjkuMiwgaHR0cHM6Ly9tYXRwbG90bGliLm9yZy8hTgPZAAAACXBIWXMAAA9hAAAPYQGoP6dpAAABkUlEQVR4nO3bQUrDUBiF0T9SRCcJpdDFdBEu1kVkN6X0DVScxIFjsdJwn6XnbOAF+rUhJXdYlqUg4aH3BXA/hqp6rqrH3hdC3OeyLO/JAze73e5lHMdt8lD6a62dhmF4TQa3Gcdxezgc3qdp+kgdSl/n8/lpnuft8Xh8rKpcbFVV0zR97Pf7t9Sh/AvP6QM9IBAjNmLERozYiBEbMWIjRmzEiI0YsREjNmLERozYiBEbMWIjZlP1/X5T7wshp9fnvWmtneZ53laH95vop7V2qqrP5Jk2CPcrvkEYTPlIWfuXLf5t4Xasuq7qsdjhdqy2ruq12OF2rL2u8kTLj/ypS4zYiBEbMWIjRmzEiI0YsREjNmLERozYiBEbMWIjRmzEiI2Y1dZVFlr8ZtV1VY/FDrfDBoEY6ypiPCAQ85fbqFskV7l4ymemx7UumvKZ6bGGv0z5zPS4igcEYsRGjNiIERsxYiNGbMSIjRixESM2YsRGjNiIERsxYiNGbMRcNOUz02MNF0/5zPS4lg0CMaZ8xHwBSryjSve78XYAAAAASUVORK5CYII=\"></img></td>\n",
              "      <td id=\"T_2e16c_row0_col5\" class=\"data row0 col5\" >0<br>(0.0%)</td>\n",
              "    </tr>\n",
              "    <tr>\n",
              "      <td id=\"T_2e16c_row1_col0\" class=\"data row1 col0\" >2</td>\n",
              "      <td id=\"T_2e16c_row1_col1\" class=\"data row1 col1\" ><strong>mcc</strong><br>[int64]</td>\n",
              "      <td id=\"T_2e16c_row1_col2\" class=\"data row1 col2\" >1. 603</td>\n",
              "      <td id=\"T_2e16c_row1_col3\" class=\"data row1 col3\" >2,192 (100.0%)</td>\n",
              "      <td id=\"T_2e16c_row1_col4\" class=\"data row1 col4\" ><img src = \"data:image/png;base64, iVBORw0KGgoAAAANSUhEUgAAAJsAAAAXCAYAAAAcEz0vAAAAOXRFWHRTb2Z0d2FyZQBNYXRwbG90bGliIHZlcnNpb24zLjkuMiwgaHR0cHM6Ly9tYXRwbG90bGliLm9yZy8hTgPZAAAACXBIWXMAAA9hAAAPYQGoP6dpAAAAnUlEQVR4nO3bsQ0CMRBE0TlkoSPx6mTJxbgIUvovYZPjQgJqYCyZ/yqY4Ie7m6SHpLuAHyuttWet9Zg9BOsrtdZjjPGOiGv2GKwrM/ciSRFx9d7P2YOwttvsAfgfxAYbYoMNscGG2GBDbLAhNtgQG2yIDTbEBhtigw2xwYbYYENssCE22BAbbIgNNkX6nuzOHoK1Zea+tdZePLzA4QPFNA/EDSh7IQAAAABJRU5ErkJggg==\"></img></td>\n",
              "      <td id=\"T_2e16c_row1_col5\" class=\"data row1 col5\" >0<br>(0.0%)</td>\n",
              "    </tr>\n",
              "    <tr>\n",
              "      <td id=\"T_2e16c_row2_col0\" class=\"data row2 col0\" >3</td>\n",
              "      <td id=\"T_2e16c_row2_col1\" class=\"data row2 col1\" ><strong>net</strong><br>[int64]</td>\n",
              "      <td id=\"T_2e16c_row2_col2\" class=\"data row2 col2\" >1. 1<br>2. 2<br>3. 3</td>\n",
              "      <td id=\"T_2e16c_row2_col3\" class=\"data row2 col3\" >1,277 (58.3%)<br>813 (37.1%)<br>102 (4.7%)</td>\n",
              "      <td id=\"T_2e16c_row2_col4\" class=\"data row2 col4\" ><img src = \"data:image/png;base64, iVBORw0KGgoAAAANSUhEUgAAAJsAAABFCAYAAABdVZTTAAAAOXRFWHRTb2Z0d2FyZQBNYXRwbG90bGliIHZlcnNpb24zLjkuMiwgaHR0cHM6Ly9tYXRwbG90bGliLm9yZy8hTgPZAAAACXBIWXMAAA9hAAAPYQGoP6dpAAABl0lEQVR4nO3bMW7iYBSF0ecRiiaNLYTEYljELHYW4d0ghIskSuMUqZM0zP09/s9ZwQN9Ahlxh3VdCxJ+tT6AfgxV9VxVT60P6cD7uq6vrY9o6XA6nf6M43hsfcjeLctyG4bhb8/BHcZxPF4ul9dpmt5aH7NX9/v99zzPx+v1+lRV/cZWVTVN09v5fH5pfczOPbc+oDUPCMSIjRixESM2YsRGjNiIERsxYiNGbMSIjRixESM2YsRGjNiIOVR9/t+q9SF75v39dFiW5TbP87H83+qfWpblVlXvre9oyQYhp/sNwmDKR0ovn2zdf6psQRfrKsumbdj9usqyaTt6WVd50t4AP+oSIzZixEaM2IgRGzFiI0ZsxIiNGLERIzZixEaM2IgRGzFiI2b366o9v7b/TRfrKsumbbBBIMa6ihgPCMT89DXq64eH+XbKZwLHI3055TOB49F+mvLt9ucQ8jwgECM2YsRGjNiIERsxYiNGbMSIjRixESM2YsRGjNiIERsxYiPmyymfCRyP9u2UzwSOR7JBIMaUj5gP1nijSgEVoecAAAAASUVORK5CYII=\"></img></td>\n",
              "      <td id=\"T_2e16c_row2_col5\" class=\"data row2 col5\" >0<br>(0.0%)</td>\n",
              "    </tr>\n",
              "    <tr>\n",
              "      <td id=\"T_2e16c_row3_col0\" class=\"data row3 col0\" >4</td>\n",
              "      <td id=\"T_2e16c_row3_col1\" class=\"data row3 col1\" ><strong>area</strong><br>[int64]</td>\n",
              "      <td id=\"T_2e16c_row3_col2\" class=\"data row3 col2\" >Mean (sd) : 13878.8 (11994.9)<br>min < med < max:<br>21.0 < 16102.0 < 47401.0<br>IQR (CV) : 16333.0 (1.2)</td>\n",
              "      <td id=\"T_2e16c_row3_col3\" class=\"data row3 col3\" >89 distinct values</td>\n",
              "      <td id=\"T_2e16c_row3_col4\" class=\"data row3 col4\" ><img src = \"data:image/png;base64, iVBORw0KGgoAAAANSUhEUgAAAKoAAABGCAYAAABc8A97AAAAOXRFWHRTb2Z0d2FyZQBNYXRwbG90bGliIHZlcnNpb24zLjkuMiwgaHR0cHM6Ly9tYXRwbG90bGliLm9yZy8hTgPZAAAACXBIWXMAAA9hAAAPYQGoP6dpAAACt0lEQVR4nO3dv07bUBiG8e/kDz1JLCcRAjaWDhkqZWDkInqxvYQOXABizVCxRUBkFDdpHDsdulKIjx3h13p++4kteBI434lkdzgcDGi6zmffAHCM3mffwKk45wZmdlbhJXaHw2FT1/2gmlaG6pwbnJ+ff4/jeBr6Gq+vryvn3A9ibYZWhmpmZ3EcT29vbzfj8XhbdnGSJP7u7m76/Px8ZmaE2gBtDdXMzMbj8fby8vJ34PJBrTeDSthMQQKhQgKhQgKhQgKhQgKhQgKhQsKHc9SKR5EcQ6IW74Za9SiSY0jU5aNP1OCjSI4hUaejjlArHEVyDIlasJmCBEKFBEKFBEKFBEKFBEKFBEKFBEKFBEKFBEKFBEKFBEKFBEKFBEKFBEKFBEKFBEKFBEKFBEKFBEKFBEKFBEKFBEKFBEKFBEKFBEKFBEKFBEKFBEKFBEKFBEKFBEKFBEKFBEKFBEKFBEKFhKMeNgEdbX0uGKG2SJufC0ao7dLa54IRagu18blgbKYggVAhgVAhgf9RG6bieCkuiqJf5/00BaE2SNXxUpZlPs/zb9vt9qeZhWymGotQ/yPP876Zxc65kOWhg/Pg8ZKZ2ePj4/Th4WG43++7AdduNEJ9Q5qm/SzL5tfX191ut1s6mKqD89Dx0mq1aux4qSpCfcNut+t574c3Nzfbq6urVZm1TR+cqyLUd4xGo9YNzlUxnoKEk36iVtyQmP17IxUB61o7pmmyU35z62ShVt2Q5HneT9P0axRFi06nk5VZ2+YxTVOd+ptbR4WaJIkve+GXl5fIez+czWZuMpn8Kbv+6enJLxaLi9ls9msymawD1g6TJBktl8td2Wuv12tvZpamqV8ul8Mya5Mk8Xme9yzsL0lcFEUv5Odt9qn3bWYWR1F0MZ/P94PBoNTve7PZfLm/v393A/oXKucbtL9gi1kAAAAASUVORK5CYII=\"></img></td>\n",
              "      <td id=\"T_2e16c_row3_col5\" class=\"data row3 col5\" >0<br>(0.0%)</td>\n",
              "    </tr>\n",
              "    <tr>\n",
              "      <td id=\"T_2e16c_row4_col0\" class=\"data row4 col0\" >5</td>\n",
              "      <td id=\"T_2e16c_row4_col1\" class=\"data row4 col1\" ><strong>cell</strong><br>[int64]</td>\n",
              "      <td id=\"T_2e16c_row4_col2\" class=\"data row4 col2\" >Mean (sd) : 11334842.5 (37953119.4)<br>min < med < max:<br>22.0 < 14825.0 < 259304490.0<br>IQR (CV) : 19104.0 (0.3)</td>\n",
              "      <td id=\"T_2e16c_row4_col3\" class=\"data row4 col3\" >2,087 distinct values</td>\n",
              "      <td id=\"T_2e16c_row4_col4\" class=\"data row4 col4\" ><img src = \"data:image/png;base64, iVBORw0KGgoAAAANSUhEUgAAAKoAAABGCAYAAABc8A97AAAAOXRFWHRTb2Z0d2FyZQBNYXRwbG90bGliIHZlcnNpb24zLjkuMiwgaHR0cHM6Ly9tYXRwbG90bGliLm9yZy8hTgPZAAAACXBIWXMAAA9hAAAPYQGoP6dpAAACIUlEQVR4nO3XsW7aUBSH8XMKRXZLfYVNGXmBSmws7O2Yh83anaHvwM6AFWxVhcS1brcuVUtsJyL/9PvNPsdX4rMtPMZowEv35toHAB5jfOkCd0/NbNJz/0OM8dRzFvjtn6G6e1oUxU2WZbM+y+u6vnP3W2LFUJfeqJMsy2abzeYUQjh3WVxVVbLdbmdlWU7MjFAxyMVPv5lZCOG8WCx+9Nif9pgB/sCfKUggVEggVEggVEggVEggVEggVEggVEggVEggVEggVEggVEggVEggVEggVEggVEggVEggVEggVEggVEggVEggVEggVEggVEggVEggVEggVEggVEggVEggVEggVEggVEggVEggVEggVEggVEggVEggVEggVEggVEggVEggVEggVEggVEggVEggVEggVEggVEggVEggVEggVEggVEggVEggVEggVEggVEggVEggVEggVEggVEgYX/sAL5W7p2Y26Tn+EGM8PeV5/nevNtSBoSV5nn8JIbzvM1zX9Z273xLr03nWUNu2fWtmmbv3XdHrzeTuaVEUN1mWzfrctGmaxMw+rdfrb/P5vO4yW1VVst1uZ2VZTsxMKtSBD7fZM35JHhVqVVVJ18X7/f5D0zSr5XI5Go1G5+5HMzsej9/d/auZdZ3PptPpx9Vq9TNN0/uu9z0cDslut3vXtu2o66yZWdu2Yxv2gF5Dkuf55xDCtO+CAb+Xmdl9jPGvc78AMVB0Gc1pTM0AAAAASUVORK5CYII=\"></img></td>\n",
              "      <td id=\"T_2e16c_row4_col5\" class=\"data row4 col5\" >0<br>(0.0%)</td>\n",
              "    </tr>\n",
              "    <tr>\n",
              "      <td id=\"T_2e16c_row5_col0\" class=\"data row5 col0\" >6</td>\n",
              "      <td id=\"T_2e16c_row5_col1\" class=\"data row5 col1\" ><strong>unit</strong><br>[int64]</td>\n",
              "      <td id=\"T_2e16c_row5_col2\" class=\"data row5 col2\" >Mean (sd) : 11.5 (61.7)<br>min < med < max:<br>-1.0 < -1.0 < 502.0<br>IQR (CV) : 1.0 (0.2)</td>\n",
              "      <td id=\"T_2e16c_row5_col3\" class=\"data row5 col3\" >84 distinct values</td>\n",
              "      <td id=\"T_2e16c_row5_col4\" class=\"data row5 col4\" ><img src = \"data:image/png;base64, iVBORw0KGgoAAAANSUhEUgAAAKoAAABGCAYAAABc8A97AAAAOXRFWHRTb2Z0d2FyZQBNYXRwbG90bGliIHZlcnNpb24zLjkuMiwgaHR0cHM6Ly9tYXRwbG90bGliLm9yZy8hTgPZAAAACXBIWXMAAA9hAAAPYQGoP6dpAAABsUlEQVR4nO3XQY4SQRSA4fc6SCAhXQESLjC3YO/Ww7p1zy08ApEiIjimLXdujDLds2B+83/rfi/VyZ/qdLbWQnrrukcfQHqJ2b0HMnMZEfOJ+59ba9eJs9Jv/ww1M5fb7fZD3/frKcvP5/OXzPxorHqtezfqvO/79X6/v5ZSbmMW11oXh8NhfTwe5xFhqHqVu5/+iIhSym23232bsH85YUb6gz9TQjBUIRiqEAxVCIYqBEMVgqEKwVCFYKhCMFQhGKoQDFUIhioEQxWCoQrBUIVgqEIwVCEYqhAMVQiGKgRDFYKhCsFQhWCoQjBUIRiqEAxVCIYqBEMVgqEKwVCFYKhCMFQhGKoQDFUIhioEQxWCoQrBUIVgqEIwVCEYqhAMVQiGKgRDFYKhCsFQhWCoQjBUIRiqEAxVCIYqBEMVgqEKwVCFYKhCMFQhGKoQDFUIhioEQxXC7NEHeKsycxkR84njXUT8nDj73Fq7Tpz9b70o1FrrYuziWutiGIZZRPSZOfpgD7bYbDbvSymrsYPDMLy7XC5Pq9Xqc9d1P8bOn06nr5n5KSJuY2fhvrfW/vrOvwDS5UIqwpRyWgAAAABJRU5ErkJggg==\"></img></td>\n",
              "      <td id=\"T_2e16c_row5_col5\" class=\"data row5 col5\" >0<br>(0.0%)</td>\n",
              "    </tr>\n",
              "    <tr>\n",
              "      <td id=\"T_2e16c_row6_col0\" class=\"data row6 col0\" >7</td>\n",
              "      <td id=\"T_2e16c_row6_col1\" class=\"data row6 col1\" ><strong>range</strong><br>[int64]</td>\n",
              "      <td id=\"T_2e16c_row6_col2\" class=\"data row6 col2\" >Mean (sd) : 1316.9 (1306.6)<br>min < med < max:<br>500.0 < 1000.0 < 23270.0<br>IQR (CV) : 0.0 (1.0)</td>\n",
              "      <td id=\"T_2e16c_row6_col3\" class=\"data row6 col3\" >432 distinct values</td>\n",
              "      <td id=\"T_2e16c_row6_col4\" class=\"data row6 col4\" ><img src = \"data:image/png;base64, iVBORw0KGgoAAAANSUhEUgAAAKoAAABGCAYAAABc8A97AAAAOXRFWHRTb2Z0d2FyZQBNYXRwbG90bGliIHZlcnNpb24zLjkuMiwgaHR0cHM6Ly9tYXRwbG90bGliLm9yZy8hTgPZAAAACXBIWXMAAA9hAAAPYQGoP6dpAAABuUlEQVR4nO3Xv07CUBiG8e+zQIohp5Aaxq5sXgCLd+DFurqzcyFgS0D+hRw3F6PAQdTXPL+5502TPmlTjzEa8Nfd/PYNAKdoHbvA3btm1knc38UY14lngXdfhuru3bIsH0MIg5TxxWLx4u5PxIpLHXujdkIIg/F4vC6KYnPOcNM0+WQyGcxms46ZESoucvTTb2ZWFMVmOBy+Jux3E84AH/AzBQmECgmECgmECgmECgmECgmECgmECgmECgmECgmECgmECgmECgmECgmECgmECgmECgmECgmECgmECgmECgmECgmECgmECgmECgmECgmECgmECgmECgmECgmECgmECgmECgmECgmECgmECgmECgmECgmECgmECgmECgmECgmECgmECgmECgmECgmECgmECgmECgmECgmECgmECgmECgmECgmECgmECgmECgmECgmECgmECgmECgmta44fDoe2mQV3T53YxRjX33hLEHW1UFerVXu/399XVZVlWbZJ2ajreunuz2aWcp7I/5GTQm2aJj93eD6f9/I8vx2NRt7v97fnnq/rujedTh+qqrpLCf3CyPHztjHGT5/VG1KQUuEbo1MLAAAAAElFTkSuQmCC\"></img></td>\n",
              "      <td id=\"T_2e16c_row6_col5\" class=\"data row6 col5\" >0<br>(0.0%)</td>\n",
              "    </tr>\n",
              "    <tr>\n",
              "      <td id=\"T_2e16c_row7_col0\" class=\"data row7 col0\" >8</td>\n",
              "      <td id=\"T_2e16c_row7_col1\" class=\"data row7 col1\" ><strong>samples</strong><br>[int64]</td>\n",
              "      <td id=\"T_2e16c_row7_col2\" class=\"data row7 col2\" >Mean (sd) : 14.2 (21.2)<br>min < med < max:<br>1.0 < 7.0 < 200.0<br>IQR (CV) : 14.0 (0.7)</td>\n",
              "      <td id=\"T_2e16c_row7_col3\" class=\"data row7 col3\" >109 distinct values</td>\n",
              "      <td id=\"T_2e16c_row7_col4\" class=\"data row7 col4\" ><img src = \"data:image/png;base64, iVBORw0KGgoAAAANSUhEUgAAAKoAAABGCAYAAABc8A97AAAAOXRFWHRTb2Z0d2FyZQBNYXRwbG90bGliIHZlcnNpb24zLjkuMiwgaHR0cHM6Ly9tYXRwbG90bGliLm9yZy8hTgPZAAAACXBIWXMAAA9hAAAPYQGoP6dpAAACH0lEQVR4nO3ZsY7aQBRG4XsDi8wS2QIi0/EIKSjp0+Zht02J5IdZyYKx8EJAaNKliRKW8bLhZ89XM9eDdIQ1g8cYDbh1n/73BoDX6J/7gLsPzWyQOP8QY9wlrgV++2eo7j6cTqff8zwfpwxvmmbt7k/Eiq7O/aIO8jwfL5fLXVEU+0sGhxCyqqrGdV0PzIxQ0cnZV7+ZWVEU+7IsXxLmDxPWAH/gMAUJhAoJhAoJhAoJhAoJhAoJhAoJhAoJhAoJhAoJhAoJhAoJhAoJhAoJhAoJhAoJhAoJhAoJhAoJhAoJhAoJhAoJhAoJhAoJhAoJhAoJhAoJhAoJhAoJhAoJhAoJhAoJhAoJhAoJhAoJhAoJhAoJhAoJhAoJhAoJhAoJhAoJhAoJhAoJhAoJhAoJhAoJhAoJhAoJhAoJhAoJhAoJ/WsOP51OD2aWu3vqiEOMcfeGW4Koq4Xatu3D8Xj8Op/Pe71eb58yo2matbs/ESuuFurhcOhnWfa4WCz2s9lsfen6EEJWVdW4ruuBmRHqB3fVV7+Z2Wg02pdl+ZK4fPimm4EsDlOQQKiQQKiQQKiQcPXDVBcd72G5g70jNxtq13tY7mDvy82G2uUeNoSQrVarsq7rL+7epG4hNXJ3H5rZ4L2fe89eFWoIIbt08Ha7zczM2rbNnp+fH1PXp9jtdp3/FdtsNlt3/2Fml67PJpPJt6IoPr/zc9X9jDH+9Tv/AkEOoDu7jqtPAAAAAElFTkSuQmCC\"></img></td>\n",
              "      <td id=\"T_2e16c_row7_col5\" class=\"data row7 col5\" >0<br>(0.0%)</td>\n",
              "    </tr>\n",
              "    <tr>\n",
              "      <td id=\"T_2e16c_row8_col0\" class=\"data row8 col0\" >9</td>\n",
              "      <td id=\"T_2e16c_row8_col1\" class=\"data row8 col1\" ><strong>changeable</strong><br>[int64]</td>\n",
              "      <td id=\"T_2e16c_row8_col2\" class=\"data row8 col2\" >1. 1</td>\n",
              "      <td id=\"T_2e16c_row8_col3\" class=\"data row8 col3\" >2,192 (100.0%)</td>\n",
              "      <td id=\"T_2e16c_row8_col4\" class=\"data row8 col4\" ><img src = \"data:image/png;base64, iVBORw0KGgoAAAANSUhEUgAAAJsAAAAXCAYAAAAcEz0vAAAAOXRFWHRTb2Z0d2FyZQBNYXRwbG90bGliIHZlcnNpb24zLjkuMiwgaHR0cHM6Ly9tYXRwbG90bGliLm9yZy8hTgPZAAAACXBIWXMAAA9hAAAPYQGoP6dpAAAAnUlEQVR4nO3bsQ0CMRBE0TlkoSPx6mTJxbgIUvovYZPjQgJqYCyZ/yqY4Ie7m6SHpLuAHyuttWet9Zg9BOsrtdZjjPGOiGv2GKwrM/ciSRFx9d7P2YOwttvsAfgfxAYbYoMNscGG2GBDbLAhNtgQG2yIDTbEBhtigw2xwYbYYENssCE22BAbbIgNNkX6nuzOHoK1Zea+tdZePLzA4QPFNA/EDSh7IQAAAABJRU5ErkJggg==\"></img></td>\n",
              "      <td id=\"T_2e16c_row8_col5\" class=\"data row8 col5\" >0<br>(0.0%)</td>\n",
              "    </tr>\n",
              "    <tr>\n",
              "      <td id=\"T_2e16c_row9_col0\" class=\"data row9 col0\" >10</td>\n",
              "      <td id=\"T_2e16c_row9_col1\" class=\"data row9 col1\" ><strong>created</strong><br>[int64]</td>\n",
              "      <td id=\"T_2e16c_row9_col2\" class=\"data row9 col2\" >Mean (sd) : 1608225991.9 (118292089.4)<br>min < med < max:<br>1223544407.0 < 1682556949.0 < 1728389886.0<br>IQR (CV) : 233452775.8 (13.6)</td>\n",
              "      <td id=\"T_2e16c_row9_col3\" class=\"data row9 col3\" >1,723 distinct values</td>\n",
              "      <td id=\"T_2e16c_row9_col4\" class=\"data row9 col4\" ><img src = \"data:image/png;base64, iVBORw0KGgoAAAANSUhEUgAAAKoAAABGCAYAAABc8A97AAAAOXRFWHRTb2Z0d2FyZQBNYXRwbG90bGliIHZlcnNpb24zLjkuMiwgaHR0cHM6Ly9tYXRwbG90bGliLm9yZy8hTgPZAAAACXBIWXMAAA9hAAAPYQGoP6dpAAACcklEQVR4nO3dMW/aQBiH8fdKQAZanwAJNr5ApQ6M7F37Ybt265AhM9+ABSGQAUGDAJtOqToEUvtwnT96fis54UiPuAPxYnc+nw147z5UfQHAv3io+gJwP5xzTTNrFFx+OJ/Pz5ceJFTchHOu2ev1vsVx3CmyfrPZJM6575diJVTcSiOO4854PH723u/zLFyv19Hj42NnuVw2zIxQUT7v/b7f7/8qsLR57UHeTEECoUICoUICoUICoUICoUICoUICoUICoUICoUICoUICoUICoUICoUICoUICoUICoUICoUICoUICoUICoUICoUICoUICoUICoUICoUICoUICoUICoUICoUICoUICoUICoUICoUICoUICv+F/QZm3okF+hPqKsm9Fg/wI9XWl3ooG+RHqFWXdigb58WYKEggVEggVEggVEggVEggVEggVEggVEggVEggVEggVEggVEggVEggVEggVEggVEvjiNP4InBOLsyyr3/J6/kaoMLPwObHj8Rilafp5v9//NLMiUxFXESpeFJ4TMzObTqedyWTSOp1OtTIujlBLkKZp3cxi51yR5UGj1gHbd5xlWd17nxSZE0uSpNQ5sbsNtarz1m63qx+Pxy/D4bBWq9VyvzKFjFqHbN9lb92h7jLUKs9bh8PhIYqi1mg02g8GgyTP2huMWhfevsveukPdZaj2Ds5b7Xa7slHrImPeZW/dod4MtcqftrnX89Y1gefbUj8iqtLVUEO30NVqtXXO/TCz3K9qZhZ1u92v3vuPeRe+bN2LxeKpwPPadruNzMx2u100n89b/2vtbDb7FHK+Dfm/Q647dP16vY7e+pvfifoYUUioahsAAAAASUVORK5CYII=\"></img></td>\n",
              "      <td id=\"T_2e16c_row9_col5\" class=\"data row9 col5\" >0<br>(0.0%)</td>\n",
              "    </tr>\n",
              "    <tr>\n",
              "      <td id=\"T_2e16c_row10_col0\" class=\"data row10 col0\" >11</td>\n",
              "      <td id=\"T_2e16c_row10_col1\" class=\"data row10 col1\" ><strong>updated</strong><br>[int64]</td>\n",
              "      <td id=\"T_2e16c_row10_col2\" class=\"data row10 col2\" >Mean (sd) : 1709449133.7 (14820304.1)<br>min < med < max:<br>1682222639.0 < 1711135195.0 < 1729620830.0<br>IQR (CV) : 28660951.5 (115.3)</td>\n",
              "      <td id=\"T_2e16c_row10_col3\" class=\"data row10 col3\" >1,556 distinct values</td>\n",
              "      <td id=\"T_2e16c_row10_col4\" class=\"data row10 col4\" ><img src = \"data:image/png;base64, iVBORw0KGgoAAAANSUhEUgAAAKoAAABGCAYAAABc8A97AAAAOXRFWHRTb2Z0d2FyZQBNYXRwbG90bGliIHZlcnNpb24zLjkuMiwgaHR0cHM6Ly9tYXRwbG90bGliLm9yZy8hTgPZAAAACXBIWXMAAA9hAAAPYQGoP6dpAAACrUlEQVR4nO3dQY6iQBSA4cfYdmhNIMZEd15gklm49BBz2DnCLDyBN3BnYghGuokIzGLSk14pVlFUPef/9giRH7FIpYjathUgdN98HwDQxYvvA0A4oih6E5FXi4+4tG370dfxfEWoEJG/kc7n859JksxMP+N0OmVRFP1yESuh4tNrkiSzzWbzkaZp+ejGeZ7H2+12djweX0WEUOFWmqblYrF4N9z8rdeD+YLBFFQgVKhAqFCBUKECoUIFQoUKhAoVCBUqECpUIFSoQKhQgVChApNS0Ju6rscikkRRZLL5zbmshIpeFEUxrqrqx2q1Go1Go4enCd6by0qo6MXlcnmJ43iyXq/L5XKZPbJtl7mshIpeTadT0/msN+eyMpiCCoQKFQgVKhAqVCBUqECoUIFQoQKhQgVChQqEChUIFSoQKlQgVKgQ9Owpy4VlnS0qi+EFG6rtwrIuF5XF8IINVSwWlnW9qCyGF3KoImK1sKyzRWUxPAZTUIFQoULwt35feOIQFqehWp7spGmacZ/H0xVPHMLjLFTbk11VVVzX9feyLH+LiOlbOkzxxCEwLn9Rrd5btN/vZ7vdbnK9XkcuDq4LnjiEw/l/VNOTnWUZJxv/MOqHCoz6AxPyi3N9uhuqxRfnbdSuVegvzvXpZqg2X5znUbtWQb8416d7v6jGX5zvUbvlWp1WdwOLfSdN04zTNM1CfHGuT53+o5qM3H2O2m3X6rS5G9jsu4+7kO1FYrLPITzlYMpmrU4Ru7uBzb5t70K+LxKXnjLUT6ZrdfZxNzDZt+1+fV4krj11qP8rHxeJazzwhwqEChUIFSoQKlQgVKhAqFCBUKECoUIFQoUKhAoVCBUqECpUIFSoQKhQodM0vzzP40c/+Hw+xyIiRVHEh8NhMuT2Wvet9bhtt+/S1x8n+rLUF2ijMAAAAABJRU5ErkJggg==\"></img></td>\n",
              "      <td id=\"T_2e16c_row10_col5\" class=\"data row10 col5\" >0<br>(0.0%)</td>\n",
              "    </tr>\n",
              "    <tr>\n",
              "      <td id=\"T_2e16c_row11_col0\" class=\"data row11 col0\" >12</td>\n",
              "      <td id=\"T_2e16c_row11_col1\" class=\"data row11 col1\" ><strong>averageSignal</strong><br>[int64]</td>\n",
              "      <td id=\"T_2e16c_row11_col2\" class=\"data row11 col2\" >1. 0</td>\n",
              "      <td id=\"T_2e16c_row11_col3\" class=\"data row11 col3\" >2,192 (100.0%)</td>\n",
              "      <td id=\"T_2e16c_row11_col4\" class=\"data row11 col4\" ><img src = \"data:image/png;base64, iVBORw0KGgoAAAANSUhEUgAAAJsAAAAXCAYAAAAcEz0vAAAAOXRFWHRTb2Z0d2FyZQBNYXRwbG90bGliIHZlcnNpb24zLjkuMiwgaHR0cHM6Ly9tYXRwbG90bGliLm9yZy8hTgPZAAAACXBIWXMAAA9hAAAPYQGoP6dpAAAAnUlEQVR4nO3bsQ0CMRBE0TlkoSPx6mTJxbgIUvovYZPjQgJqYCyZ/yqY4Ie7m6SHpLuAHyuttWet9Zg9BOsrtdZjjPGOiGv2GKwrM/ciSRFx9d7P2YOwttvsAfgfxAYbYoMNscGG2GBDbLAhNtgQG2yIDTbEBhtigw2xwYbYYENssCE22BAbbIgNNkX6nuzOHoK1Zea+tdZePLzA4QPFNA/EDSh7IQAAAABJRU5ErkJggg==\"></img></td>\n",
              "      <td id=\"T_2e16c_row11_col5\" class=\"data row11 col5\" >0<br>(0.0%)</td>\n",
              "    </tr>\n",
              "    <tr>\n",
              "      <td id=\"T_2e16c_row12_col0\" class=\"data row12 col0\" >13</td>\n",
              "      <td id=\"T_2e16c_row12_col1\" class=\"data row12 col1\" ><strong>geometry</strong><br>[geometry]</td>\n",
              "      <td id=\"T_2e16c_row12_col2\" class=\"data row12 col2\" >not supported dtype geometry</td>\n",
              "      <td id=\"T_2e16c_row12_col3\" class=\"data row12 col3\" >nan</td>\n",
              "      <td id=\"T_2e16c_row12_col4\" class=\"data row12 col4\" >nan</td>\n",
              "      <td id=\"T_2e16c_row12_col5\" class=\"data row12 col5\" >0<br>(0.0%)</td>\n",
              "    </tr>\n",
              "  </tbody>\n",
              "</table>\n"
            ],
            "text/plain": [
              "<pandas.io.formats.style.Styler at 0x1778f2b50>"
            ]
          },
          "execution_count": 21,
          "metadata": {},
          "output_type": "execute_result"
        }
      ],
      "source": [
        "dfSummary(algeria_cell_sites_gdf)"
      ]
    },
    {
      "cell_type": "markdown",
      "metadata": {
        "id": "pyzXxiE5SNfC"
      },
      "source": [
        "## Transmission node data"
      ]
    },
    {
      "cell_type": "code",
      "execution_count": null,
      "metadata": {
        "id": "JQjQe5fQSNfD"
      },
      "outputs": [],
      "source": [
        "# data_table.DataTable(algeria_nodes_gdf, num_rows_per_page=10)"
      ]
    },
    {
      "cell_type": "code",
      "execution_count": null,
      "metadata": {
        "id": "rUtd9SxaSNfD",
        "outputId": "8a9737a9-5ac3-4669-9f9d-e0cfe3b6e10f"
      },
      "outputs": [
        {
          "data": {
            "text/html": [
              "<style type=\"text/css\">\n",
              "#T_2e6ed thead>tr>th {\n",
              "  text-align: left;\n",
              "}\n",
              "#T_2e6ed_row0_col0, #T_2e6ed_row1_col0, #T_2e6ed_row2_col0, #T_2e6ed_row3_col0, #T_2e6ed_row4_col0, #T_2e6ed_row5_col0, #T_2e6ed_row6_col0, #T_2e6ed_row7_col0, #T_2e6ed_row8_col0, #T_2e6ed_row9_col0, #T_2e6ed_row10_col0 {\n",
              "  text-align: left;\n",
              "  font-size: 12px;\n",
              "  vertical-align: middle;\n",
              "  width: 5%;\n",
              "  max-width: 50px;\n",
              "  min-width: 20px;\n",
              "}\n",
              "#T_2e6ed_row0_col1, #T_2e6ed_row1_col1, #T_2e6ed_row2_col1, #T_2e6ed_row3_col1, #T_2e6ed_row4_col1, #T_2e6ed_row5_col1, #T_2e6ed_row6_col1, #T_2e6ed_row7_col1, #T_2e6ed_row8_col1, #T_2e6ed_row9_col1, #T_2e6ed_row10_col1 {\n",
              "  text-align: left;\n",
              "  font-size: 12px;\n",
              "  vertical-align: middle;\n",
              "  width: 15%;\n",
              "  max-width: 200px;\n",
              "  min-width: 100px;\n",
              "  word-break: break-word;\n",
              "}\n",
              "#T_2e6ed_row0_col2, #T_2e6ed_row1_col2, #T_2e6ed_row2_col2, #T_2e6ed_row3_col2, #T_2e6ed_row4_col2, #T_2e6ed_row5_col2, #T_2e6ed_row6_col2, #T_2e6ed_row7_col2, #T_2e6ed_row8_col2, #T_2e6ed_row9_col2, #T_2e6ed_row10_col2 {\n",
              "  text-align: left;\n",
              "  font-size: 12px;\n",
              "  vertical-align: middle;\n",
              "  width: 30%;\n",
              "  min-width: 100px;\n",
              "}\n",
              "#T_2e6ed_row0_col3, #T_2e6ed_row1_col3, #T_2e6ed_row2_col3, #T_2e6ed_row3_col3, #T_2e6ed_row4_col3, #T_2e6ed_row5_col3, #T_2e6ed_row6_col3, #T_2e6ed_row7_col3, #T_2e6ed_row8_col3, #T_2e6ed_row9_col3, #T_2e6ed_row10_col3 {\n",
              "  text-align: left;\n",
              "  font-size: 12px;\n",
              "  vertical-align: middle;\n",
              "  width: 25%;\n",
              "  min-width: 100px;\n",
              "}\n",
              "#T_2e6ed_row0_col4, #T_2e6ed_row1_col4, #T_2e6ed_row2_col4, #T_2e6ed_row3_col4, #T_2e6ed_row4_col4, #T_2e6ed_row5_col4, #T_2e6ed_row6_col4, #T_2e6ed_row7_col4, #T_2e6ed_row8_col4, #T_2e6ed_row9_col4, #T_2e6ed_row10_col4 {\n",
              "  text-align: left;\n",
              "  font-size: 12px;\n",
              "  vertical-align: middle;\n",
              "  width: 20%;\n",
              "  min-width: 150px;\n",
              "}\n",
              "#T_2e6ed_row0_col5, #T_2e6ed_row1_col5, #T_2e6ed_row2_col5, #T_2e6ed_row3_col5, #T_2e6ed_row4_col5, #T_2e6ed_row5_col5, #T_2e6ed_row6_col5, #T_2e6ed_row7_col5, #T_2e6ed_row8_col5, #T_2e6ed_row9_col5, #T_2e6ed_row10_col5 {\n",
              "  text-align: left;\n",
              "  font-size: 12px;\n",
              "  vertical-align: middle;\n",
              "  width: 10%;\n",
              "}\n",
              "</style>\n",
              "<table id=\"T_2e6ed\">\n",
              "  <caption><strong>Data Frame Summary</strong><br>algeria_nodes_gdf<br>Dimensions: 118 x 11<br>Duplicates: 0</caption>\n",
              "  <thead>\n",
              "    <tr>\n",
              "      <th id=\"T_2e6ed_level0_col0\" class=\"col_heading level0 col0\" >No</th>\n",
              "      <th id=\"T_2e6ed_level0_col1\" class=\"col_heading level0 col1\" >Variable</th>\n",
              "      <th id=\"T_2e6ed_level0_col2\" class=\"col_heading level0 col2\" >Stats / Values</th>\n",
              "      <th id=\"T_2e6ed_level0_col3\" class=\"col_heading level0 col3\" >Freqs / (% of Valid)</th>\n",
              "      <th id=\"T_2e6ed_level0_col4\" class=\"col_heading level0 col4\" >Graph</th>\n",
              "      <th id=\"T_2e6ed_level0_col5\" class=\"col_heading level0 col5\" >Missing</th>\n",
              "    </tr>\n",
              "  </thead>\n",
              "  <tbody>\n",
              "    <tr>\n",
              "      <td id=\"T_2e6ed_row0_col0\" class=\"data row0 col0\" >1</td>\n",
              "      <td id=\"T_2e6ed_row0_col1\" class=\"data row0 col1\" ><strong>id</strong><br>[int64]</td>\n",
              "      <td id=\"T_2e6ed_row0_col2\" class=\"data row0 col2\" >Mean (sd) : 285.4 (97.0)<br>min < med < max:<br>205.0 < 267.5 < 686.0<br>IQR (CV) : 66.5 (2.9)</td>\n",
              "      <td id=\"T_2e6ed_row0_col3\" class=\"data row0 col3\" >118 distinct values</td>\n",
              "      <td id=\"T_2e6ed_row0_col4\" class=\"data row0 col4\" ><img src = \"data:image/png;base64, iVBORw0KGgoAAAANSUhEUgAAAKoAAABGCAYAAABc8A97AAAAOXRFWHRTb2Z0d2FyZQBNYXRwbG90bGliIHZlcnNpb24zLjkuMiwgaHR0cHM6Ly9tYXRwbG90bGliLm9yZy8hTgPZAAAACXBIWXMAAA9hAAAPYQGoP6dpAAACI0lEQVR4nO3cQYriQBSH8fdGW2ILVUga3XmEWbjMIfqwcwXBwzSEpsSMosTMymFWbRJ1xr/z/da+IouPkgg+b5rGgEf37V8/ANDG8NIH3H1sZqOe5x+aptn1nAV++zJUdx/nef4eQpj2OXyz2Xy6+w9ixbUu3aijEMK0KIpdjHHf5eCUUrZarWZlWb65+6bn83Ejw8xafPWbmcUY97PZ7GeXg6uqejkej98Xi8VgMBh0ivyMGxlnrULt43A4DLMse10ul/v5fP7ZdT6llK3X62lZliMzI9T/3N1CPZtMJp1v4z+Mb/owkMXPU5BAqJBAqJBAqJBAqJBAqJBAqJBAqJBAqJBAqJBAqJBAqJBAqJBAqJBAqJBAqJBAqJBAqJBAqJBAqJBAqJBAqJBAqJBAqJBAqJBAqJBAqJBw991T16jr+sXMgrv3GWdl5RN52FCvXVvJysrn8rChXrO2kpWVz+dhQz27Ym0lKyufCC9TkECokECokECokECokECokECokECokECokECokECokECokECokECokECokECokECokECokECokECokECokPDw/0KFDncfm9mo5/iXC0MIFTfh7uM8z99DCNM+85cWhhAqbmUUQpgWRbGLMXbabNNmYQih4qZijHdZGMLLFCQQKiQQKiQQKiQQKiS0eutPKWVdD95ut5mZWVVV2cfHx+vfnE8pZXVdD63/tmp0F06n07BPK21mfgF07a6Zy7dbVgAAAABJRU5ErkJggg==\"></img></td>\n",
              "      <td id=\"T_2e6ed_row0_col5\" class=\"data row0 col5\" >0<br>(0.0%)</td>\n",
              "    </tr>\n",
              "    <tr>\n",
              "      <td id=\"T_2e6ed_row1_col0\" class=\"data row1 col0\" >2</td>\n",
              "      <td id=\"T_2e6ed_row1_col1\" class=\"data row1 col1\" ><strong>type</strong><br>[int64]</td>\n",
              "      <td id=\"T_2e6ed_row1_col2\" class=\"data row1 col2\" >1. 3</td>\n",
              "      <td id=\"T_2e6ed_row1_col3\" class=\"data row1 col3\" >118 (100.0%)</td>\n",
              "      <td id=\"T_2e6ed_row1_col4\" class=\"data row1 col4\" ><img src = \"data:image/png;base64, iVBORw0KGgoAAAANSUhEUgAAAJsAAAAXCAYAAAAcEz0vAAAAOXRFWHRTb2Z0d2FyZQBNYXRwbG90bGliIHZlcnNpb24zLjkuMiwgaHR0cHM6Ly9tYXRwbG90bGliLm9yZy8hTgPZAAAACXBIWXMAAA9hAAAPYQGoP6dpAAAAnUlEQVR4nO3bsQ0CMRBE0TlkoSPx6mTJxbgIUvovYZPjQgJqYCyZ/yqY4Ie7m6SHpLuAHyuttWet9Zg9BOsrtdZjjPGOiGv2GKwrM/ciSRFx9d7P2YOwttvsAfgfxAYbYoMNscGG2GBDbLAhNtgQG2yIDTbEBhtigw2xwYbYYENssCE22BAbbIgNNkX6nuzOHoK1Zea+tdZePLzA4QPFNA/EDSh7IQAAAABJRU5ErkJggg==\"></img></td>\n",
              "      <td id=\"T_2e6ed_row1_col5\" class=\"data row1 col5\" >0<br>(0.0%)</td>\n",
              "    </tr>\n",
              "    <tr>\n",
              "      <td id=\"T_2e6ed_row2_col0\" class=\"data row2 col0\" >3</td>\n",
              "      <td id=\"T_2e6ed_row2_col1\" class=\"data row2 col1\" ><strong>node_id</strong><br>[int64]</td>\n",
              "      <td id=\"T_2e6ed_row2_col2\" class=\"data row2 col2\" >1. 3<br>2. 2<br>3. 4<br>4. 1</td>\n",
              "      <td id=\"T_2e6ed_row2_col3\" class=\"data row2 col3\" >82 (69.5%)<br>28 (23.7%)<br>7 (5.9%)<br>1 (0.8%)</td>\n",
              "      <td id=\"T_2e6ed_row2_col4\" class=\"data row2 col4\" ><img src = \"data:image/png;base64, iVBORw0KGgoAAAANSUhEUgAAAJsAAABcCAYAAAB5jMeAAAAAOXRFWHRTb2Z0d2FyZQBNYXRwbG90bGliIHZlcnNpb24zLjkuMiwgaHR0cHM6Ly9tYXRwbG90bGliLm9yZy8hTgPZAAAACXBIWXMAAA9hAAAPYQGoP6dpAAAB/UlEQVR4nO3bQW6bYBSF0UeEomaCZSF5MV5EFttFeDeWZQZNlAkdNB26Rq59geScFfySP4FB3GYcx4KEp7kPwPchNmKaqnqpque5D8JkH+M4vs19iFu0fd+/dl23nfsgTDMMw6lpmp9rDK7tum673+/fNpvN+9yH4d/O5/OPw+GwPR6Pz1W1vtiqqjabzftut/s192GY5GXuA9zKAwIxYiNGbMSIjRixESM2YsRGjNiIERsxYiNGbMSIjRixEdNW/fl0Ze6DcN3af6d2GIbT4XDY1oo/XflOhmE4VdXH3Oe4hc/C12e1n4U3pnykeEAgZqm30dXeKrhskeuqNS+IuGxx66q1L4i4bKnrKq9hviAPCMSIjRixESM2YsRGjNiIERsxYiNGbMSIjRixESM2YsRGjNiIWdyUb0ln4b4WOeVb81yNy2wQiDHlI2bqlc2Vhv82aV1l7cQ9XF1XWTtxL1PXVYt5UmW9vNQlRmzEiI0YsREjNmLERozYiBEbMWIjRmzEiI0YsREjNmLERszVdZW1E/cyaV1l7cQ92CAQY11FzN8rW7ly8Wht3/evVVXWUzzaU9d1288p39JW8Xwx3rMRIzZixEaM2IgRGzFiI0ZsxIiNGLERIzZixEaM2IgRGzFiI0ZsxIiNmPZzOVVlPcWD2SAQY11FjP9sxPwGJ2W42+f7DxgAAAAASUVORK5CYII=\"></img></td>\n",
              "      <td id=\"T_2e6ed_row2_col5\" class=\"data row2 col5\" >0<br>(0.0%)</td>\n",
              "    </tr>\n",
              "    <tr>\n",
              "      <td id=\"T_2e6ed_row3_col0\" class=\"data row3 col0\" >4</td>\n",
              "      <td id=\"T_2e6ed_row3_col1\" class=\"data row3 col1\" ><strong>region</strong><br>[object]</td>\n",
              "      <td id=\"T_2e6ed_row3_col2\" class=\"data row3 col2\" >1. ARB</td>\n",
              "      <td id=\"T_2e6ed_row3_col3\" class=\"data row3 col3\" >118 (100.0%)</td>\n",
              "      <td id=\"T_2e6ed_row3_col4\" class=\"data row3 col4\" ><img src = \"data:image/png;base64, iVBORw0KGgoAAAANSUhEUgAAAJsAAAAXCAYAAAAcEz0vAAAAOXRFWHRTb2Z0d2FyZQBNYXRwbG90bGliIHZlcnNpb24zLjkuMiwgaHR0cHM6Ly9tYXRwbG90bGliLm9yZy8hTgPZAAAACXBIWXMAAA9hAAAPYQGoP6dpAAAAnUlEQVR4nO3bsQ0CMRBE0TlkoSPx6mTJxbgIUvovYZPjQgJqYCyZ/yqY4Ie7m6SHpLuAHyuttWet9Zg9BOsrtdZjjPGOiGv2GKwrM/ciSRFx9d7P2YOwttvsAfgfxAYbYoMNscGG2GBDbLAhNtgQG2yIDTbEBhtigw2xwYbYYENssCE22BAbbIgNNkX6nuzOHoK1Zea+tdZePLzA4QPFNA/EDSh7IQAAAABJRU5ErkJggg==\"></img></td>\n",
              "      <td id=\"T_2e6ed_row3_col5\" class=\"data row3 col5\" >0<br>(0.0%)</td>\n",
              "    </tr>\n",
              "    <tr>\n",
              "      <td id=\"T_2e6ed_row4_col0\" class=\"data row4 col0\" >5</td>\n",
              "      <td id=\"T_2e6ed_row4_col1\" class=\"data row4 col1\" ><strong>country</strong><br>[object]</td>\n",
              "      <td id=\"T_2e6ed_row4_col2\" class=\"data row4 col2\" >1. Algeria</td>\n",
              "      <td id=\"T_2e6ed_row4_col3\" class=\"data row4 col3\" >118 (100.0%)</td>\n",
              "      <td id=\"T_2e6ed_row4_col4\" class=\"data row4 col4\" ><img src = \"data:image/png;base64, iVBORw0KGgoAAAANSUhEUgAAAJsAAAAXCAYAAAAcEz0vAAAAOXRFWHRTb2Z0d2FyZQBNYXRwbG90bGliIHZlcnNpb24zLjkuMiwgaHR0cHM6Ly9tYXRwbG90bGliLm9yZy8hTgPZAAAACXBIWXMAAA9hAAAPYQGoP6dpAAAAnUlEQVR4nO3bsQ0CMRBE0TlkoSPx6mTJxbgIUvovYZPjQgJqYCyZ/yqY4Ie7m6SHpLuAHyuttWet9Zg9BOsrtdZjjPGOiGv2GKwrM/ciSRFx9d7P2YOwttvsAfgfxAYbYoMNscGG2GBDbLAhNtgQG2yIDTbEBhtigw2xwYbYYENssCE22BAbbIgNNkX6nuzOHoK1Zea+tdZePLzA4QPFNA/EDSh7IQAAAABJRU5ErkJggg==\"></img></td>\n",
              "      <td id=\"T_2e6ed_row4_col5\" class=\"data row4 col5\" >0<br>(0.0%)</td>\n",
              "    </tr>\n",
              "    <tr>\n",
              "      <td id=\"T_2e6ed_row5_col0\" class=\"data row5 col0\" >6</td>\n",
              "      <td id=\"T_2e6ed_row5_col1\" class=\"data row5 col1\" ><strong>name</strong><br>[object]</td>\n",
              "      <td id=\"T_2e6ed_row5_col2\" class=\"data row5 col2\" >1. Undefined<br>2. Oum el Bouaghi<br>3. Medea<br>4. Djebel Onk<br>5. Dj Dris<br>6. El Kantara<br>7. Relizaine<br>8. El Golea<br>9. Haoud El Hamra<br>10. Ouargla<br>11. other</td>\n",
              "      <td id=\"T_2e6ed_row5_col3\" class=\"data row5 col3\" >9 (7.6%)<br>1 (0.8%)<br>1 (0.8%)<br>1 (0.8%)<br>1 (0.8%)<br>1 (0.8%)<br>1 (0.8%)<br>1 (0.8%)<br>1 (0.8%)<br>1 (0.8%)<br>100 (84.7%)</td>\n",
              "      <td id=\"T_2e6ed_row5_col4\" class=\"data row5 col4\" ><img src = \"data:image/png;base64, iVBORw0KGgoAAAANSUhEUgAAAJsAAAD+CAYAAAAtWHdlAAAAOXRFWHRTb2Z0d2FyZQBNYXRwbG90bGliIHZlcnNpb24zLjkuMiwgaHR0cHM6Ly9tYXRwbG90bGliLm9yZy8hTgPZAAAACXBIWXMAAA9hAAAPYQGoP6dpAAAD2UlEQVR4nO3cMWrjaACG4d+DCZNGwhh8GB8ih91D6DYmWMUkpPEWk4EtFtYp9GYn8zy1nbh4kRXxf9ndbrcBhW+f/QH4c4iNjNjIiI2M2MiIjYzYyIiNjNjI7MYYj2OMhw+85+12u71s9Hn4wvbH4/FpmqbDvW9Y1/V5t9v9JTg+aj9N0+F8Pr/M8/z6Xy++Xq/fl2U5XC6XhzGG2PiQ/RhjzPP8ejqdftz5nscNPw9fmD8QyIiNjNjIiI2M2MiIjYzYyIiNjNjIiI2M2MiIjYzYyIiNzH6Mn+fU7nnxva+Df7Nf1/V5WZbDuPOc2rquz2OMt20/Fl+RDQKZnX+ZReXXlW24WrG1/fF4fBpjDIsptvZtmqbD+5TvI/dt8GGes5ERGxmxkREbGbGRERsZsZERGxmxkREbGbGRERsZsZERGxmxkdm/D1jGMGJhY46FkzF4IePKRsbghYzBCxmPPsiIjYzYyIiNjNjIiI2M2MiIjYzYyIiNjNjIiI2M2MiIjYzYyBi8kHEsnIzBCxn3bGR8jZKxriJjXUXGPRsZsZERGxmxkREbGbGRERsZsZERGxmxkREbGbGRERsZsZERGxnrKjKOhZOxriLjykbG4IWMwQsZjz7IiI2M2MiIjYzYyIiNjNjIiI2M2MiIjYzYyIiNjNjIiI2M2MgYvJBxLJyMwQsZVzYyBi9kDF7IePRBRmxkxEZGbGTERkZsZMRGRmxkxEZGbGTERkZsZMRGRmxkxEZGbGSsq8jYIJCxriLjykbGuoqMdRUZjz7IiI2M2MiIjYzYyIiNjNjIiI2M2MiIjYzYyIiNjNjIiI2M2MgYvJBxLJyMwQsZVzYyBi9kDF7IePRBRmxkxEZGbGTERkZsZMRGRmxkxEZGbGTERkZsZMRGRmxkxEbG4IWMY+FkDF7IuGcj42uUjHUVGesqMu7ZyIiNjNjIiI2M2MiIjYzYyIiNjNjIiI2M2MiIjYzYyIiNjNjIWFeRcSycjHUVGVc2MgYvZAxeyHj0QUZsZMRGRmxkxEZGbGTERkZsZMRGRmxkxEZGbGTERkZsZMRGxuCFjGPhZAxeyPy6sjkSzhhjvG35Dbc/Ho9P7xsE/nDruj5vOXzaT9N0OJ/PL/M8v27xC/g9XK/X78uyHC6Xy8MYY5vYxhhjnufX0+n0Y4tfwG/lccsf7jkbGbGRERsZsZERGxmxkREbGbGRERsZsZERGxmxkREbmf0YP4+XfPYH4XMVDezXdX1eluUwNj5ewv/f+/hps+GTY+H806bHwg1eyPgDgYzYyIiNjNjIiI2M2MiIjYzYyIiNzN88+jAFqi5ekAAAAABJRU5ErkJggg==\"></img></td>\n",
              "      <td id=\"T_2e6ed_row5_col5\" class=\"data row5 col5\" >0<br>(0.0%)</td>\n",
              "    </tr>\n",
              "    <tr>\n",
              "      <td id=\"T_2e6ed_row6_col0\" class=\"data row6 col0\" >7</td>\n",
              "      <td id=\"T_2e6ed_row6_col1\" class=\"data row6 col1\" ><strong>type_infr</strong><br>[object]</td>\n",
              "      <td id=\"T_2e6ed_row6_col2\" class=\"data row6 col2\" >1. Fibre Operational</td>\n",
              "      <td id=\"T_2e6ed_row6_col3\" class=\"data row6 col3\" >118 (100.0%)</td>\n",
              "      <td id=\"T_2e6ed_row6_col4\" class=\"data row6 col4\" ><img src = \"data:image/png;base64, iVBORw0KGgoAAAANSUhEUgAAAJsAAAAXCAYAAAAcEz0vAAAAOXRFWHRTb2Z0d2FyZQBNYXRwbG90bGliIHZlcnNpb24zLjkuMiwgaHR0cHM6Ly9tYXRwbG90bGliLm9yZy8hTgPZAAAACXBIWXMAAA9hAAAPYQGoP6dpAAAAnUlEQVR4nO3bsQ0CMRBE0TlkoSPx6mTJxbgIUvovYZPjQgJqYCyZ/yqY4Ie7m6SHpLuAHyuttWet9Zg9BOsrtdZjjPGOiGv2GKwrM/ciSRFx9d7P2YOwttvsAfgfxAYbYoMNscGG2GBDbLAhNtgQG2yIDTbEBhtigw2xwYbYYENssCE22BAbbIgNNkX6nuzOHoK1Zea+tdZePLzA4QPFNA/EDSh7IQAAAABJRU5ErkJggg==\"></img></td>\n",
              "      <td id=\"T_2e6ed_row6_col5\" class=\"data row6 col5\" >0<br>(0.0%)</td>\n",
              "    </tr>\n",
              "    <tr>\n",
              "      <td id=\"T_2e6ed_row7_col0\" class=\"data row7 col0\" >8</td>\n",
              "      <td id=\"T_2e6ed_row7_col1\" class=\"data row7 col1\" ><strong>validity</strong><br>[int64]</td>\n",
              "      <td id=\"T_2e6ed_row7_col2\" class=\"data row7 col2\" >1. 4</td>\n",
              "      <td id=\"T_2e6ed_row7_col3\" class=\"data row7 col3\" >118 (100.0%)</td>\n",
              "      <td id=\"T_2e6ed_row7_col4\" class=\"data row7 col4\" ><img src = \"data:image/png;base64, iVBORw0KGgoAAAANSUhEUgAAAJsAAAAXCAYAAAAcEz0vAAAAOXRFWHRTb2Z0d2FyZQBNYXRwbG90bGliIHZlcnNpb24zLjkuMiwgaHR0cHM6Ly9tYXRwbG90bGliLm9yZy8hTgPZAAAACXBIWXMAAA9hAAAPYQGoP6dpAAAAnUlEQVR4nO3bsQ0CMRBE0TlkoSPx6mTJxbgIUvovYZPjQgJqYCyZ/yqY4Ie7m6SHpLuAHyuttWet9Zg9BOsrtdZjjPGOiGv2GKwrM/ciSRFx9d7P2YOwttvsAfgfxAYbYoMNscGG2GBDbLAhNtgQG2yIDTbEBhtigw2xwYbYYENssCE22BAbbIgNNkX6nuzOHoK1Zea+tdZePLzA4QPFNA/EDSh7IQAAAABJRU5ErkJggg==\"></img></td>\n",
              "      <td id=\"T_2e6ed_row7_col5\" class=\"data row7 col5\" >0<br>(0.0%)</td>\n",
              "    </tr>\n",
              "    <tr>\n",
              "      <td id=\"T_2e6ed_row8_col0\" class=\"data row8 col0\" >9</td>\n",
              "      <td id=\"T_2e6ed_row8_col1\" class=\"data row8 col1\" ><strong>latest</strong><br>[int64]</td>\n",
              "      <td id=\"T_2e6ed_row8_col2\" class=\"data row8 col2\" >1. 0</td>\n",
              "      <td id=\"T_2e6ed_row8_col3\" class=\"data row8 col3\" >118 (100.0%)</td>\n",
              "      <td id=\"T_2e6ed_row8_col4\" class=\"data row8 col4\" ><img src = \"data:image/png;base64, iVBORw0KGgoAAAANSUhEUgAAAJsAAAAXCAYAAAAcEz0vAAAAOXRFWHRTb2Z0d2FyZQBNYXRwbG90bGliIHZlcnNpb24zLjkuMiwgaHR0cHM6Ly9tYXRwbG90bGliLm9yZy8hTgPZAAAACXBIWXMAAA9hAAAPYQGoP6dpAAAAnUlEQVR4nO3bsQ0CMRBE0TlkoSPx6mTJxbgIUvovYZPjQgJqYCyZ/yqY4Ie7m6SHpLuAHyuttWet9Zg9BOsrtdZjjPGOiGv2GKwrM/ciSRFx9d7P2YOwttvsAfgfxAYbYoMNscGG2GBDbLAhNtgQG2yIDTbEBhtigw2xwYbYYENssCE22BAbbIgNNkX6nuzOHoK1Zea+tdZePLzA4QPFNA/EDSh7IQAAAABJRU5ErkJggg==\"></img></td>\n",
              "      <td id=\"T_2e6ed_row8_col5\" class=\"data row8 col5\" >0<br>(0.0%)</td>\n",
              "    </tr>\n",
              "    <tr>\n",
              "      <td id=\"T_2e6ed_row9_col0\" class=\"data row9 col0\" >10</td>\n",
              "      <td id=\"T_2e6ed_row9_col1\" class=\"data row9 col1\" ><strong>geom</strong><br>[object]</td>\n",
              "      <td id=\"T_2e6ed_row9_col2\" class=\"data row9 col2\" >1. 0101000020110F00002FD5D5A91C43<br>2. 0101000020110F00009F8228D0E13C<br>3. 0101000020110F00003B27B060FC48<br>4. 0101000020110F0000A38281C3C962<br>5. 0101000020110F00006AEADA38B1FC<br>6. 0101000020110F00002B9D6E8BB08D<br>7. 0101000020110F00004D1E9E9F7A54<br>8. 0101000020110F00002F6FC4E5B826<br>9. 0101000020110F000092653918F95F<br>10. 0101000020110F00000FA0E7441300<br>11. other</td>\n",
              "      <td id=\"T_2e6ed_row9_col3\" class=\"data row9 col3\" >1 (0.8%)<br>1 (0.8%)<br>1 (0.8%)<br>1 (0.8%)<br>1 (0.8%)<br>1 (0.8%)<br>1 (0.8%)<br>1 (0.8%)<br>1 (0.8%)<br>1 (0.8%)<br>108 (91.5%)</td>\n",
              "      <td id=\"T_2e6ed_row9_col4\" class=\"data row9 col4\" ><img src = \"data:image/png;base64, iVBORw0KGgoAAAANSUhEUgAAAJsAAAD+CAYAAAAtWHdlAAAAOXRFWHRTb2Z0d2FyZQBNYXRwbG90bGliIHZlcnNpb24zLjkuMiwgaHR0cHM6Ly9tYXRwbG90bGliLm9yZy8hTgPZAAAACXBIWXMAAA9hAAAPYQGoP6dpAAADfElEQVR4nO3cMWobURhG0V9GmKQZIQRejBfhxWYR2o0xniI2bpQiTm8ZfEXkc6o0gSkuo8njfdmcTqeBws2lH4DvQ2xkxEZGbGTERkZsZMRGRmxkxEZmMzM/Z2ZOp9PLhZ+FK7c9HA4PMzObzeaX4PhKN8uy7Jdl2c/M7aUfhuvmm42M2MiIjYzYyIiNjNjIiI2M2MiIjYzYyIiNjNjIiI2M2MiIjYzYyGzXdX16//PbRZ+Eq2eDQGbjv8yi4s1GxrqKjHUVGUcfZMRGRmxkxEZGbGTERkZsZMRGRmxkxEZGbGTERkZsZMRGRmxkDF7IuBZOxuCFjDcbGYMXMgYvZBx9kBEbGbGRERsZsZERGxmxkREbGbGRERsZsZERGxmxkREbGbGRMXgh41o4GYMXMr7ZyPgZJWNdRca6ioxvNjJiIyM2MmIjIzYyYiMjNjJiIyM2MmIjIzYyYiMjNjJiIyM2MtZVZFwLJ2NdRcabjYzBCxmDFzKOPsiIjYzYyIiNjNjIiI2M2MiIjYzYyIiNjNjIiI2M2MiIjYzYyBi8kHEtnIzBCxlvNjIGL2QMXsg4+iAjNjJiIyM2MmIjIzYyYiMjNjJiIyM2MmIjIzYyYiMjNjJiIyM2MtZVZGwQyFhXkfFmI2NdRca6ioyjDzJiIyM2MmIjIzYyYiMjNjJiIyM2MmIjIzYyYiMjNjJiIyM2MgYvZFwLJ2PwQsabjYzBCxmDFzKOPsiIjYzYyIiNjNjIiI2M2MiIjYzYyIiNjNjIiI2M2MiIjYzYyBi8kHEtnIzBCxnfbGT8jJKxriJjXUXGNxsZsZERGxmxkREbGbGRERsZsZERGxmxkREbGbGRERsZsZERGxnrKjKuhZOxriLjzUbG4IWMwQsZRx9kxEZGbGTERkZsZMRGRmxkxEZGbGTERkZsZMRGRmxkxEZGbGQMXsi4Fk7G4IXMvzebK+Gc6+3cX8Pt4XB4eN8gwIet6/p07khquyzL/v7+/mW3271+5cNxPZ6fn38cj8f94+Pj7cx8PLaZmd1u93p3d/f7y56Oa/Tz3L/gnI2M2MiIjYzYyIiNjNjIiI2M2MiIjYzYyIiNjNjIiI3MdubvlZFLPwj/j8/2sl3X9el4PO7nE1dG+L7eh1JnjaRcC+ezzr4WbvBCxj8QyIiNjNjIiI2M2MiIjYzYyIiNjNjI/AHbChAnF4rsSwAAAABJRU5ErkJggg==\"></img></td>\n",
              "      <td id=\"T_2e6ed_row9_col5\" class=\"data row9 col5\" >0<br>(0.0%)</td>\n",
              "    </tr>\n",
              "    <tr>\n",
              "      <td id=\"T_2e6ed_row10_col0\" class=\"data row10 col0\" >11</td>\n",
              "      <td id=\"T_2e6ed_row10_col1\" class=\"data row10 col1\" ><strong>geometry</strong><br>[geometry]</td>\n",
              "      <td id=\"T_2e6ed_row10_col2\" class=\"data row10 col2\" >not supported dtype geometry</td>\n",
              "      <td id=\"T_2e6ed_row10_col3\" class=\"data row10 col3\" >nan</td>\n",
              "      <td id=\"T_2e6ed_row10_col4\" class=\"data row10 col4\" >nan</td>\n",
              "      <td id=\"T_2e6ed_row10_col5\" class=\"data row10 col5\" >0<br>(0.0%)</td>\n",
              "    </tr>\n",
              "  </tbody>\n",
              "</table>\n"
            ],
            "text/plain": [
              "<pandas.io.formats.style.Styler at 0x16657c400>"
            ]
          },
          "execution_count": 23,
          "metadata": {},
          "output_type": "execute_result"
        }
      ],
      "source": [
        "dfSummary(algeria_nodes_gdf)"
      ]
    },
    {
      "cell_type": "markdown",
      "metadata": {
        "id": "MCwiL5V5SNfD"
      },
      "source": [
        "# Geographical analysis"
      ]
    },
    {
      "cell_type": "code",
      "execution_count": null,
      "metadata": {
        "id": "tbilvz2aSNfD"
      },
      "outputs": [],
      "source": [
        "colors = {\"schools\": \"#e41a1c\", \"cell_sites\": \"#377eb8\", \"nodes\": \"#ff7f00\"}"
      ]
    },
    {
      "cell_type": "code",
      "execution_count": null,
      "metadata": {
        "id": "Z2XQF0SBSNfD"
      },
      "outputs": [],
      "source": [
        "def plot_points(points_gdf, title=\"Map\", color=\"red\", point_size=20):\n",
        "    \"\"\"\n",
        "    Plot a generic geodataframe with a basemap\n",
        "\n",
        "    Parameters:\n",
        "    gdf : GeoDataFrame with any geometry type\n",
        "    title : str, plot title\n",
        "    point_color : str, color for points/polygons (hex code or name)\n",
        "    point_size : int, size of markers (for points only)\n",
        "    \"\"\"\n",
        "    # Create figure\n",
        "    fig, ax = plt.subplots(figsize=(8, 8))\n",
        "\n",
        "    # Plot points\n",
        "    points_gdf.plot(\n",
        "            ax=ax,\n",
        "            color=color,\n",
        "            markersize=point_size,\n",
        "            alpha=0.7,\n",
        "            edgecolor='black',\n",
        "            linewidth=0.5\n",
        "        )\n",
        "\n",
        "    # Add basemap\n",
        "    cx.add_basemap(\n",
        "        ax, crs=points_gdf.crs)\n",
        "\n",
        "    # Style the plot\n",
        "    plt.title(title, pad=20, fontsize=16)\n",
        "    ax.axis('off')\n",
        "\n",
        "    # Add a text box with feature count\n",
        "    stats_text = f'Total Features: {len(points_gdf)}'\n",
        "    ax.text(\n",
        "        0.02, 0.02, stats_text,\n",
        "        transform=ax.transAxes,\n",
        "        bbox=dict(facecolor='white', alpha=0.7),\n",
        "        fontsize=12\n",
        "    )\n",
        "    plt.tight_layout()\n",
        "    plt.show()"
      ]
    },
    {
      "cell_type": "code",
      "execution_count": null,
      "metadata": {
        "id": "K703-EnwSNfE"
      },
      "outputs": [],
      "source": [
        "def plot_outside_points(points_gdf, boundary_gdf, title=\"Points Outside Boundary\", color=\"red\", point_size=20):\n",
        "    # Find points inside and outside\n",
        "    points_inside = gpd.sjoin(points_gdf, boundary_gdf, predicate='within', how='inner')\n",
        "    points_outside = points_gdf[~points_gdf.index.isin(points_inside.index)]\n",
        "\n",
        "    # Create plot and zoom to outside points\n",
        "    fig, ax = plt.subplots(figsize=(10, 10))\n",
        "    points_outside = points_outside.to_crs(epsg=4326)\n",
        "\n",
        "    # Set map bounds with different buffers for lat/lon\n",
        "    if len(points_outside) > 0:\n",
        "        minx, miny, maxx, maxy = points_outside.total_bounds\n",
        "        avg_lat = (miny + maxy) / 2\n",
        "        x_buffer = 0.5 / np.cos(np.deg2rad(avg_lat))\n",
        "        y_buffer = 0.5\n",
        "        ax.set_xlim(minx - x_buffer, maxx + x_buffer)\n",
        "        ax.set_ylim(miny - y_buffer, maxy + y_buffer)\n",
        "\n",
        "    # Plot points\n",
        "    points_outside.plot(ax=ax, color=color, markersize=point_size, edgecolor='black', linewidth=0.5)\n",
        "\n",
        "    # Manually create a legend\n",
        "    legend_elements = [Patch(facecolor=color, edgecolor='black', label='Outside')]\n",
        "    ax.legend(handles=legend_elements)\n",
        "\n",
        "    # Set title and axis off\n",
        "    ax.set_title(f\"{title}\\nOutside points: {len(points_outside)}\")\n",
        "    ax.axis('off')\n",
        "\n",
        "    # Add basemap\n",
        "    cx.add_basemap(ax, crs=points_outside.crs)\n",
        "\n",
        "    # Add a text box with the total feature count\n",
        "    stats_text = f'Total Features: {len(points_outside)}'\n",
        "    ax.text(\n",
        "        0.02, 0.02, stats_text,\n",
        "        transform=ax.transAxes,\n",
        "        bbox=dict(facecolor='white', alpha=0.7),\n",
        "        fontsize=12\n",
        "    )\n",
        "    plt.tight_layout()\n",
        "    plt.show()"
      ]
    },
    {
      "cell_type": "code",
      "execution_count": null,
      "metadata": {
        "id": "OdcwjMuDSNfE"
      },
      "outputs": [],
      "source": [
        "def show_plots_with_widgets(points_gdf, boundary_gdf, fig1_title=\"Points\", fig2_title=\"Points outside boundaries\", color=\"red\"):\n",
        "    # Create tab widget\n",
        "    tab = widgets.Tab()\n",
        "\n",
        "    # Create output widgets for each plot\n",
        "    out1 = widgets.Output()\n",
        "    out2 = widgets.Output()\n",
        "\n",
        "    # Set tab contents\n",
        "    tab.children = [out1, out2]\n",
        "\n",
        "    # Set tab titles\n",
        "    tab.set_title(0, fig1_title)\n",
        "    tab.set_title(1, fig2_title)\n",
        "\n",
        "    # Display plots in respective tabs\n",
        "    with out1:\n",
        "        plot_points(points_gdf, title=fig1_title, color=color)\n",
        "    with out2:\n",
        "        plot_outside_points(points_gdf, boundary_gdf, title=fig2_title, color=color)\n",
        "\n",
        "    display(tab)"
      ]
    },
    {
      "cell_type": "markdown",
      "metadata": {
        "id": "3uBcxmUOSNfE"
      },
      "source": [
        "## Point of interest (POI) data"
      ]
    },
    {
      "cell_type": "code",
      "execution_count": null,
      "metadata": {
        "id": "uCQL6jHvSNfE",
        "outputId": "971e91aa-e748-478f-d945-5361efb54767"
      },
      "outputs": [
        {
          "data": {
            "text/plain": [
              "Polygon    8032\n",
              "Point      2615\n",
              "Name: count, dtype: int64"
            ]
          },
          "execution_count": 28,
          "metadata": {},
          "output_type": "execute_result"
        }
      ],
      "source": [
        "algeria_schools_gdf.geometry.type.value_counts()"
      ]
    },
    {
      "cell_type": "code",
      "execution_count": null,
      "metadata": {
        "id": "pE2vGkUWSNfE",
        "outputId": "ae07723d-8822-4d5f-8301-ec901b74e47f"
      },
      "outputs": [
        {
          "name": "stderr",
          "output_type": "stream",
          "text": [
            "/var/folders/ww/ybnnslt14m96q4bwh3jfbd5h0000gn/T/ipykernel_46689/4126733621.py:1: UserWarning: Geometry is in a geographic CRS. Results from 'centroid' are likely incorrect. Use 'GeoSeries.to_crs()' to re-project geometries to a projected CRS before this operation.\n",
            "\n",
            "  algeria_schools_gdf.geometry = algeria_schools_gdf.geometry.centroid\n"
          ]
        }
      ],
      "source": [
        "algeria_schools_gdf.geometry = algeria_schools_gdf.geometry.centroid"
      ]
    },
    {
      "cell_type": "code",
      "execution_count": null,
      "metadata": {
        "id": "36uAAgCCSNfE",
        "outputId": "936e30d6-06db-4544-d0d4-b6b3d47bbad4",
        "colab": {
          "referenced_widgets": [
            "35126e23ad444784ad04040a3e41f41d"
          ]
        }
      },
      "outputs": [
        {
          "data": {
            "application/vnd.jupyter.widget-view+json": {
              "model_id": "35126e23ad444784ad04040a3e41f41d",
              "version_major": 2,
              "version_minor": 0
            },
            "text/plain": [
              "Tab(children=(Output(), Output()), selected_index=0, titles=('Schools', 'Schools outside Algeria'))"
            ]
          },
          "metadata": {},
          "output_type": "display_data"
        }
      ],
      "source": [
        "show_plots_with_widgets(algeria_schools_gdf, algeria, \"Schools\", \"Schools outside Algeria\", color=colors[\"schools\"])"
      ]
    },
    {
      "cell_type": "markdown",
      "metadata": {
        "id": "Bh8170JgSNfF"
      },
      "source": [
        "## Cell site data"
      ]
    },
    {
      "cell_type": "code",
      "execution_count": null,
      "metadata": {
        "id": "t-nc8HX6SNfF",
        "outputId": "7517b95f-4013-41f2-aca4-5741e67bd396"
      },
      "outputs": [
        {
          "data": {
            "text/plain": [
              "Point    2192\n",
              "Name: count, dtype: int64"
            ]
          },
          "execution_count": 31,
          "metadata": {},
          "output_type": "execute_result"
        }
      ],
      "source": [
        "algeria_cell_sites_gdf.geometry.type.value_counts()"
      ]
    },
    {
      "cell_type": "code",
      "execution_count": null,
      "metadata": {
        "id": "KYv2_aFaSNfF",
        "outputId": "14dac514-0059-4c4e-9c6f-ca1e888d3d3a",
        "colab": {
          "referenced_widgets": [
            "9f9c11a5d2004c9a9d841eaf0d875778"
          ]
        }
      },
      "outputs": [
        {
          "data": {
            "application/vnd.jupyter.widget-view+json": {
              "model_id": "9f9c11a5d2004c9a9d841eaf0d875778",
              "version_major": 2,
              "version_minor": 0
            },
            "text/plain": [
              "Tab(children=(Output(), Output()), selected_index=0, titles=('Cell Sites', 'Cell Sites outside Algeria'))"
            ]
          },
          "metadata": {},
          "output_type": "display_data"
        }
      ],
      "source": [
        "show_plots_with_widgets(algeria_cell_sites_gdf, algeria, \"Cell Sites\", \"Cell Sites outside Algeria\", color=colors[\"cell_sites\"])"
      ]
    },
    {
      "cell_type": "markdown",
      "metadata": {
        "id": "8Gb1vHuNSNfG"
      },
      "source": [
        "## Transmission node data"
      ]
    },
    {
      "cell_type": "code",
      "execution_count": null,
      "metadata": {
        "id": "N0CgFNapSNfH",
        "outputId": "55b99f30-d9ce-4b3d-d86e-f5dff7796ec2"
      },
      "outputs": [
        {
          "data": {
            "text/plain": [
              "Point    118\n",
              "Name: count, dtype: int64"
            ]
          },
          "execution_count": 33,
          "metadata": {},
          "output_type": "execute_result"
        }
      ],
      "source": [
        "algeria_nodes_gdf.geometry.type.value_counts()"
      ]
    },
    {
      "cell_type": "code",
      "execution_count": null,
      "metadata": {
        "id": "LH8ZtJxxSNfH",
        "outputId": "ac98538c-e5c6-4525-cc84-f3d616a8a4ad",
        "colab": {
          "referenced_widgets": [
            "45630832cfcf43ed9bea0bcc42d8e375"
          ]
        }
      },
      "outputs": [
        {
          "data": {
            "application/vnd.jupyter.widget-view+json": {
              "model_id": "45630832cfcf43ed9bea0bcc42d8e375",
              "version_major": 2,
              "version_minor": 0
            },
            "text/plain": [
              "Tab(children=(Output(), Output()), selected_index=0, titles=('Transmission Nodes', 'Transmission Nodes outside…"
            ]
          },
          "metadata": {},
          "output_type": "display_data"
        }
      ],
      "source": [
        "show_plots_with_widgets(algeria_nodes_gdf, algeria, \"Transmission Nodes\", \"Transmission Nodes outside Algeria\", color=colors[\"nodes\"])"
      ]
    },
    {
      "cell_type": "markdown",
      "metadata": {
        "id": "jS-DJ4BbSNfH"
      },
      "source": [
        "## Mobile coverage"
      ]
    },
    {
      "cell_type": "code",
      "execution_count": null,
      "metadata": {
        "id": "mia47JW5SNfH"
      },
      "outputs": [],
      "source": [
        "def plot_coverage(gdf, title=\"Mobile Coverage\", fill_color=\"#3498db\", alpha=0.3):\n",
        "    \"\"\"\n",
        "    Plot coverage polygons with a basemap\n",
        "    Parameters:\n",
        "    gdf : GeoDataFrame with polygon geometry\n",
        "    title : str, plot title\n",
        "    fill_color : str, color for polygons (hex code or name)\n",
        "    alpha : float, transparency level (0 to 1)\n",
        "    \"\"\"\n",
        "    # Create figure\n",
        "    fig, ax = plt.subplots(figsize=(8, 8))\n",
        "\n",
        "    # Plot the geodataframe\n",
        "    gdf.plot(\n",
        "        ax=ax,\n",
        "        color=fill_color,\n",
        "        alpha=alpha,\n",
        "        edgecolor='white',\n",
        "        linewidth=0.5\n",
        "    )\n",
        "\n",
        "    # Add basemap\n",
        "    cx.add_basemap(\n",
        "        ax,\n",
        "        crs=gdf.crs,\n",
        "        source=cx.providers.CartoDB.DarkMatter\n",
        "    )\n",
        "\n",
        "    # Style the plot\n",
        "    plt.title(title, pad=20, fontsize=16)\n",
        "    ax.axis('off')\n",
        "\n",
        "    # Add a text box with coverage area count\n",
        "    stats_text = f'Coverage Areas: {len(gdf)}'\n",
        "    plt.figtext(\n",
        "        0.02, 0.02, stats_text,\n",
        "        bbox=dict(facecolor='white', alpha=0.7),\n",
        "        fontsize=12\n",
        "    )\n",
        "\n",
        "    plt.tight_layout()\n",
        "    plt.show()"
      ]
    },
    {
      "cell_type": "code",
      "execution_count": null,
      "metadata": {
        "id": "JoNk71kRSNfH"
      },
      "outputs": [],
      "source": [
        "def clip_coverage(coverage_gdf, boundary_gdf):\n",
        "    \"\"\"\n",
        "    Clip coverage polygons to boundary and optionally show before/after plots\n",
        "\n",
        "    Parameters:\n",
        "    coverage_gdf : GeoDataFrame with coverage polygons\n",
        "    boundary_gdf : GeoDataFrame with country boundary\n",
        "\n",
        "    Returns:\n",
        "    GeoDataFrame with clipped coverage polygons\n",
        "    \"\"\"\n",
        "    # Ensure same CRS\n",
        "    if coverage_gdf.crs != boundary_gdf.crs:\n",
        "        coverage_gdf = coverage_gdf.to_crs(boundary_gdf.crs)\n",
        "\n",
        "    # Perform the clip operation\n",
        "    clipped_coverage = gpd.clip(coverage_gdf, boundary_gdf)\n",
        "\n",
        "    return clipped_coverage"
      ]
    },
    {
      "cell_type": "code",
      "execution_count": null,
      "metadata": {
        "id": "zSn5ivMNSNfH"
      },
      "outputs": [],
      "source": [
        "def show_coverage_plots_with_widgets(coverage_gdf, boundary_gdf, fig1_title=\"Coverage\", fig2_title=\"Clipped Coverage\"):\n",
        "    # Create tab widget\n",
        "    tab = widgets.Tab()\n",
        "\n",
        "    # Create output widgets for each plot\n",
        "    out1 = widgets.Output()\n",
        "    out2 = widgets.Output()\n",
        "\n",
        "    # Set tab contents\n",
        "    tab.children = [out1, out2]\n",
        "\n",
        "    # Set tab titles\n",
        "    tab.set_title(0, fig1_title)\n",
        "    tab.set_title(1, fig2_title)\n",
        "\n",
        "    # Display plots in respective tabs\n",
        "    with out1:\n",
        "        plot_coverage(coverage_gdf, title=fig1_title)\n",
        "    with out2:\n",
        "        clipped_coverage = clip_coverage(coverage_gdf, boundary_gdf)\n",
        "        plot_coverage(clipped_coverage, title=fig2_title)\n",
        "\n",
        "    display(tab)"
      ]
    },
    {
      "cell_type": "code",
      "execution_count": null,
      "metadata": {
        "id": "khwTdfUSSNfH"
      },
      "outputs": [],
      "source": [
        "algeria_clipped_mobile_coverage_gdf = clip_coverage(algeria_mobile_coverage_gdf, algeria)"
      ]
    },
    {
      "cell_type": "code",
      "execution_count": null,
      "metadata": {
        "id": "u6DrZC4YSNfH",
        "outputId": "62827aff-c6f7-46ea-fa3a-d680f914373e",
        "colab": {
          "referenced_widgets": [
            "27872642f8cc405aaa758b728d7449e9"
          ]
        }
      },
      "outputs": [
        {
          "data": {
            "application/vnd.jupyter.widget-view+json": {
              "model_id": "27872642f8cc405aaa758b728d7449e9",
              "version_major": 2,
              "version_minor": 0
            },
            "text/plain": [
              "Tab(children=(Output(), Output()), selected_index=0, titles=('Mobile Coverage', 'Clipped Mobile Coverage'))"
            ]
          },
          "metadata": {},
          "output_type": "display_data"
        }
      ],
      "source": [
        "show_coverage_plots_with_widgets(algeria_mobile_coverage_gdf, algeria, \"Mobile Coverage\", \"Clipped Mobile Coverage\")"
      ]
    },
    {
      "cell_type": "markdown",
      "metadata": {
        "id": "hwGZPsKLSNfI"
      },
      "source": [
        "# Standardize data"
      ]
    },
    {
      "cell_type": "code",
      "execution_count": null,
      "metadata": {
        "id": "EYttIqN6SNfI"
      },
      "outputs": [],
      "source": [
        "def extract_lat_lon(gdf, id_column='id'):\n",
        "   \"\"\"\n",
        "   Create a new dataframe with latitude, longitude and UUID columns\n",
        "   \"\"\"\n",
        "   df = pd.DataFrame({\n",
        "       id_column: [str(uuid.uuid4()) for _ in range(len(gdf))],\n",
        "       'dataset_id': str(uuid.uuid4()),\n",
        "       'lat': gdf.geometry.y,\n",
        "       'lon': gdf.geometry.x\n",
        "   })\n",
        "   return df"
      ]
    },
    {
      "cell_type": "code",
      "execution_count": null,
      "metadata": {
        "id": "kfTrGNY8SNfI"
      },
      "outputs": [],
      "source": [
        "current_directory = os.getcwd()\n",
        "data_directory = os.path.join(current_directory, \"data\", algeria_iso3, \"processed\")\n",
        "os.makedirs(data_directory, exist_ok=True)"
      ]
    },
    {
      "cell_type": "markdown",
      "metadata": {
        "id": "_Wf3x_iRSNfI"
      },
      "source": [
        "## Point of interest (POI) data"
      ]
    },
    {
      "cell_type": "code",
      "execution_count": null,
      "metadata": {
        "id": "9XA1y75jSNfI",
        "outputId": "00ce11d5-f85e-4b99-cc54-7143b286c7c9"
      },
      "outputs": [
        {
          "data": {
            "text/html": [
              "<style type=\"text/css\">\n",
              "#T_a4a7a thead {\n",
              "  background-color: #f2f2f2;\n",
              "  font-weight: bold;\n",
              "  border-bottom: 2px solid black;\n",
              "}\n",
              "#T_a4a7a tbody tr:nth-of-type(odd) {\n",
              "  background-color: #f9f9f9;\n",
              "}\n",
              "#T_a4a7a_row0_col0, #T_a4a7a_row0_col1, #T_a4a7a_row0_col2, #T_a4a7a_row0_col3, #T_a4a7a_row0_col4, #T_a4a7a_row0_col5, #T_a4a7a_row1_col0, #T_a4a7a_row1_col1, #T_a4a7a_row1_col2, #T_a4a7a_row1_col3, #T_a4a7a_row1_col4, #T_a4a7a_row1_col5, #T_a4a7a_row2_col0, #T_a4a7a_row2_col1, #T_a4a7a_row2_col2, #T_a4a7a_row2_col3, #T_a4a7a_row2_col4, #T_a4a7a_row2_col5, #T_a4a7a_row3_col0, #T_a4a7a_row3_col1, #T_a4a7a_row3_col2, #T_a4a7a_row3_col3, #T_a4a7a_row3_col4, #T_a4a7a_row3_col5, #T_a4a7a_row4_col0, #T_a4a7a_row4_col1, #T_a4a7a_row4_col2, #T_a4a7a_row4_col3, #T_a4a7a_row4_col4, #T_a4a7a_row4_col5, #T_a4a7a_row5_col0, #T_a4a7a_row5_col1, #T_a4a7a_row5_col2, #T_a4a7a_row5_col3, #T_a4a7a_row5_col4, #T_a4a7a_row5_col5, #T_a4a7a_row6_col0, #T_a4a7a_row6_col1, #T_a4a7a_row6_col2, #T_a4a7a_row6_col3, #T_a4a7a_row6_col4, #T_a4a7a_row6_col5, #T_a4a7a_row7_col0, #T_a4a7a_row7_col1, #T_a4a7a_row7_col2, #T_a4a7a_row7_col3, #T_a4a7a_row7_col4, #T_a4a7a_row7_col5, #T_a4a7a_row8_col0, #T_a4a7a_row8_col1, #T_a4a7a_row8_col2, #T_a4a7a_row8_col3, #T_a4a7a_row8_col4, #T_a4a7a_row8_col5, #T_a4a7a_row9_col0, #T_a4a7a_row9_col1, #T_a4a7a_row9_col2, #T_a4a7a_row9_col3, #T_a4a7a_row9_col4, #T_a4a7a_row9_col5 {\n",
              "  text-align: left;\n",
              "  border: 1px solid black;\n",
              "  padding: 8px;\n",
              "}\n",
              "</style>\n",
              "<table id=\"T_a4a7a\">\n",
              "  <thead>\n",
              "    <tr>\n",
              "      <th class=\"blank level0\" >&nbsp;</th>\n",
              "      <th id=\"T_a4a7a_level0_col0\" class=\"col_heading level0 col0\" >column_name</th>\n",
              "      <th id=\"T_a4a7a_level0_col1\" class=\"col_heading level0 col1\" >column_type</th>\n",
              "      <th id=\"T_a4a7a_level0_col2\" class=\"col_heading level0 col2\" >levels</th>\n",
              "      <th id=\"T_a4a7a_level0_col3\" class=\"col_heading level0 col3\" >example</th>\n",
              "      <th id=\"T_a4a7a_level0_col4\" class=\"col_heading level0 col4\" >mandatory</th>\n",
              "      <th id=\"T_a4a7a_level0_col5\" class=\"col_heading level0 col5\" >definition</th>\n",
              "    </tr>\n",
              "  </thead>\n",
              "  <tbody>\n",
              "    <tr>\n",
              "      <th id=\"T_a4a7a_level0_row0\" class=\"row_heading level0 row0\" >0</th>\n",
              "      <td id=\"T_a4a7a_row0_col0\" class=\"data row0 col0\" >poi_id</td>\n",
              "      <td id=\"T_a4a7a_row0_col1\" class=\"data row0 col1\" >UUID</td>\n",
              "      <td id=\"T_a4a7a_row0_col2\" class=\"data row0 col2\" ></td>\n",
              "      <td id=\"T_a4a7a_row0_col3\" class=\"data row0 col3\" >123e4567-e89b-12d3-a456-426614174000</td>\n",
              "      <td id=\"T_a4a7a_row0_col4\" class=\"data row0 col4\" >Yes</td>\n",
              "      <td id=\"T_a4a7a_row0_col5\" class=\"data row0 col5\" >Unique identifier for the POI</td>\n",
              "    </tr>\n",
              "    <tr>\n",
              "      <th id=\"T_a4a7a_level0_row1\" class=\"row_heading level0 row1\" >1</th>\n",
              "      <td id=\"T_a4a7a_row1_col0\" class=\"data row1 col0\" >dataset_id</td>\n",
              "      <td id=\"T_a4a7a_row1_col1\" class=\"data row1 col1\" >UUID</td>\n",
              "      <td id=\"T_a4a7a_row1_col2\" class=\"data row1 col2\" ></td>\n",
              "      <td id=\"T_a4a7a_row1_col3\" class=\"data row1 col3\" >987fcdeb-51a2-12d3-a456-426614174000</td>\n",
              "      <td id=\"T_a4a7a_row1_col4\" class=\"data row1 col4\" >Yes</td>\n",
              "      <td id=\"T_a4a7a_row1_col5\" class=\"data row1 col5\" >Unique identifier for the dataset</td>\n",
              "    </tr>\n",
              "    <tr>\n",
              "      <th id=\"T_a4a7a_level0_row2\" class=\"row_heading level0 row2\" >2</th>\n",
              "      <td id=\"T_a4a7a_row2_col0\" class=\"data row2 col0\" >lat</td>\n",
              "      <td id=\"T_a4a7a_row2_col1\" class=\"data row2 col1\" >float</td>\n",
              "      <td id=\"T_a4a7a_row2_col2\" class=\"data row2 col2\" ></td>\n",
              "      <td id=\"T_a4a7a_row2_col3\" class=\"data row2 col3\" >36.7538</td>\n",
              "      <td id=\"T_a4a7a_row2_col4\" class=\"data row2 col4\" >Yes</td>\n",
              "      <td id=\"T_a4a7a_row2_col5\" class=\"data row2 col5\" >Latitude coordinate</td>\n",
              "    </tr>\n",
              "    <tr>\n",
              "      <th id=\"T_a4a7a_level0_row3\" class=\"row_heading level0 row3\" >3</th>\n",
              "      <td id=\"T_a4a7a_row3_col0\" class=\"data row3 col0\" >lon</td>\n",
              "      <td id=\"T_a4a7a_row3_col1\" class=\"data row3 col1\" >float</td>\n",
              "      <td id=\"T_a4a7a_row3_col2\" class=\"data row3 col2\" ></td>\n",
              "      <td id=\"T_a4a7a_row3_col3\" class=\"data row3 col3\" >3.0588</td>\n",
              "      <td id=\"T_a4a7a_row3_col4\" class=\"data row3 col4\" >Yes</td>\n",
              "      <td id=\"T_a4a7a_row3_col5\" class=\"data row3 col5\" >Longitude coordinate</td>\n",
              "    </tr>\n",
              "    <tr>\n",
              "      <th id=\"T_a4a7a_level0_row4\" class=\"row_heading level0 row4\" >4</th>\n",
              "      <td id=\"T_a4a7a_row4_col0\" class=\"data row4 col0\" >poi_type</td>\n",
              "      <td id=\"T_a4a7a_row4_col1\" class=\"data row4 col1\" >string</td>\n",
              "      <td id=\"T_a4a7a_row4_col2\" class=\"data row4 col2\" ></td>\n",
              "      <td id=\"T_a4a7a_row4_col3\" class=\"data row4 col3\" >school</td>\n",
              "      <td id=\"T_a4a7a_row4_col4\" class=\"data row4 col4\" >Yes</td>\n",
              "      <td id=\"T_a4a7a_row4_col5\" class=\"data row4 col5\" >Type of point of interest</td>\n",
              "    </tr>\n",
              "    <tr>\n",
              "      <th id=\"T_a4a7a_level0_row5\" class=\"row_heading level0 row5\" >5</th>\n",
              "      <td id=\"T_a4a7a_row5_col0\" class=\"data row5 col0\" >is_public</td>\n",
              "      <td id=\"T_a4a7a_row5_col1\" class=\"data row5 col1\" >boolean</td>\n",
              "      <td id=\"T_a4a7a_row5_col2\" class=\"data row5 col2\" ></td>\n",
              "      <td id=\"T_a4a7a_row5_col3\" class=\"data row5 col3\" >True</td>\n",
              "      <td id=\"T_a4a7a_row5_col4\" class=\"data row5 col4\" >No</td>\n",
              "      <td id=\"T_a4a7a_row5_col5\" class=\"data row5 col5\" >Whether the POI is public or private</td>\n",
              "    </tr>\n",
              "    <tr>\n",
              "      <th id=\"T_a4a7a_level0_row6\" class=\"row_heading level0 row6\" >6</th>\n",
              "      <td id=\"T_a4a7a_row6_col0\" class=\"data row6 col0\" >poi_subtype</td>\n",
              "      <td id=\"T_a4a7a_row6_col1\" class=\"data row6 col1\" >string</td>\n",
              "      <td id=\"T_a4a7a_row6_col2\" class=\"data row6 col2\" ></td>\n",
              "      <td id=\"T_a4a7a_row6_col3\" class=\"data row6 col3\" >primary school</td>\n",
              "      <td id=\"T_a4a7a_row6_col4\" class=\"data row6 col4\" >No</td>\n",
              "      <td id=\"T_a4a7a_row6_col5\" class=\"data row6 col5\" >Specific subtype of the POI</td>\n",
              "    </tr>\n",
              "    <tr>\n",
              "      <th id=\"T_a4a7a_level0_row7\" class=\"row_heading level0 row7\" >7</th>\n",
              "      <td id=\"T_a4a7a_row7_col0\" class=\"data row7 col0\" >country_code</td>\n",
              "      <td id=\"T_a4a7a_row7_col1\" class=\"data row7 col1\" >string</td>\n",
              "      <td id=\"T_a4a7a_row7_col2\" class=\"data row7 col2\" ></td>\n",
              "      <td id=\"T_a4a7a_row7_col3\" class=\"data row7 col3\" >DZA</td>\n",
              "      <td id=\"T_a4a7a_row7_col4\" class=\"data row7 col4\" >Yes</td>\n",
              "      <td id=\"T_a4a7a_row7_col5\" class=\"data row7 col5\" >ISO 3166-1 alpha-3 country code</td>\n",
              "    </tr>\n",
              "    <tr>\n",
              "      <th id=\"T_a4a7a_level0_row8\" class=\"row_heading level0 row8\" >8</th>\n",
              "      <td id=\"T_a4a7a_row8_col0\" class=\"data row8 col0\" >is_connected</td>\n",
              "      <td id=\"T_a4a7a_row8_col1\" class=\"data row8 col1\" >boolean</td>\n",
              "      <td id=\"T_a4a7a_row8_col2\" class=\"data row8 col2\" ></td>\n",
              "      <td id=\"T_a4a7a_row8_col3\" class=\"data row8 col3\" >True</td>\n",
              "      <td id=\"T_a4a7a_row8_col4\" class=\"data row8 col4\" >No</td>\n",
              "      <td id=\"T_a4a7a_row8_col5\" class=\"data row8 col5\" >Whether the POI has connectivity</td>\n",
              "    </tr>\n",
              "    <tr>\n",
              "      <th id=\"T_a4a7a_level0_row9\" class=\"row_heading level0 row9\" >9</th>\n",
              "      <td id=\"T_a4a7a_row9_col0\" class=\"data row9 col0\" >connectivity_type</td>\n",
              "      <td id=\"T_a4a7a_row9_col1\" class=\"data row9 col1\" >string</td>\n",
              "      <td id=\"T_a4a7a_row9_col2\" class=\"data row9 col2\" ></td>\n",
              "      <td id=\"T_a4a7a_row9_col3\" class=\"data row9 col3\" >4G</td>\n",
              "      <td id=\"T_a4a7a_row9_col4\" class=\"data row9 col4\" >No</td>\n",
              "      <td id=\"T_a4a7a_row9_col5\" class=\"data row9 col5\" >Type of internet connectivity</td>\n",
              "    </tr>\n",
              "  </tbody>\n",
              "</table>\n"
            ],
            "text/plain": [
              "<pandas.io.formats.style.Styler at 0x169aac9d0>"
            ]
          },
          "metadata": {},
          "output_type": "display_data"
        }
      ],
      "source": [
        "poi_metadata = pd.DataFrame({\n",
        "   'column_name': ['poi_id', 'dataset_id', 'lat', 'lon', 'poi_type', 'is_public', 'poi_subtype', 'country_code', 'is_connected', 'connectivity_type'],\n",
        "   'column_type': ['UUID', 'UUID', 'float', 'float', 'string', 'boolean', 'string', 'string', 'boolean', 'string'],\n",
        "   'levels': [''] * 10,\n",
        "   'example': ['123e4567-e89b-12d3-a456-426614174000', '987fcdeb-51a2-12d3-a456-426614174000', '36.7538', '3.0588', 'school', 'True', 'primary school', 'DZA', 'True', '4G'],\n",
        "   'mandatory': ['Yes', 'Yes', 'Yes', 'Yes', 'Yes', 'No', 'No', 'Yes', 'No', 'No'],\n",
        "   'definition': [\n",
        "       'Unique identifier for the POI',\n",
        "       'Unique identifier for the dataset',\n",
        "       'Latitude coordinate',\n",
        "       'Longitude coordinate',\n",
        "       'Type of point of interest',\n",
        "       'Whether the POI is public or private',\n",
        "       'Specific subtype of the POI',\n",
        "       'ISO 3166-1 alpha-3 country code',\n",
        "       'Whether the POI has connectivity',\n",
        "       'Type of internet connectivity'\n",
        "   ]\n",
        "})\n",
        "styled_df = poi_metadata.style.set_properties(**{\n",
        "   'text-align': 'left',\n",
        "   'border': '1px solid black',\n",
        "   'padding': '8px'\n",
        "}).set_table_styles([\n",
        "   {'selector': 'thead', 'props': [('background-color', '#f2f2f2'), ('font-weight', 'bold'), ('border-bottom', '2px solid black')]},\n",
        "   {'selector': 'tbody tr:nth-of-type(odd)', 'props': [('background-color', '#f9f9f9')]}\n",
        "])\n",
        "display(styled_df)"
      ]
    },
    {
      "cell_type": "code",
      "execution_count": null,
      "metadata": {
        "id": "ZGv9Mdt_SNfI"
      },
      "outputs": [],
      "source": [
        "# Create blank dataframe with id, latitute and longitude columns\n",
        "formatted_algeria_schools = extract_lat_lon(algeria_schools_gdf, id_column='poi_id')\n",
        "\n",
        "# Fill in other columns\n",
        "formatted_algeria_schools[\"country_code\"] = algeria_iso3\n",
        "formatted_algeria_schools[\"poi_type\"] = \"school\"\n",
        "formatted_algeria_schools[\"is_connected\"] = False"
      ]
    },
    {
      "cell_type": "code",
      "execution_count": null,
      "metadata": {
        "id": "9A1x1I_eSNfI",
        "outputId": "20dd6656-e491-44f2-c02e-177fbe2acaaa"
      },
      "outputs": [
        {
          "data": {
            "text/html": [
              "<div>\n",
              "<style scoped>\n",
              "    .dataframe tbody tr th:only-of-type {\n",
              "        vertical-align: middle;\n",
              "    }\n",
              "\n",
              "    .dataframe tbody tr th {\n",
              "        vertical-align: top;\n",
              "    }\n",
              "\n",
              "    .dataframe thead th {\n",
              "        text-align: right;\n",
              "    }\n",
              "</style>\n",
              "<table border=\"1\" class=\"dataframe\">\n",
              "  <thead>\n",
              "    <tr style=\"text-align: right;\">\n",
              "      <th></th>\n",
              "      <th>poi_id</th>\n",
              "      <th>dataset_id</th>\n",
              "      <th>lat</th>\n",
              "      <th>lon</th>\n",
              "      <th>country_code</th>\n",
              "      <th>poi_type</th>\n",
              "      <th>is_connected</th>\n",
              "    </tr>\n",
              "  </thead>\n",
              "  <tbody>\n",
              "    <tr>\n",
              "      <th>0</th>\n",
              "      <td>c571c4d0-fde2-4b81-8009-48c92f32df83</td>\n",
              "      <td>3f671c29-c59e-4030-8107-5ad0b02e8e17</td>\n",
              "      <td>31.949701</td>\n",
              "      <td>3.580467</td>\n",
              "      <td>DZA</td>\n",
              "      <td>school</td>\n",
              "      <td>False</td>\n",
              "    </tr>\n",
              "    <tr>\n",
              "      <th>1</th>\n",
              "      <td>8b1e6b4b-3cce-45dd-a4ae-b105fab6d9ca</td>\n",
              "      <td>3f671c29-c59e-4030-8107-5ad0b02e8e17</td>\n",
              "      <td>31.976883</td>\n",
              "      <td>3.743190</td>\n",
              "      <td>DZA</td>\n",
              "      <td>school</td>\n",
              "      <td>False</td>\n",
              "    </tr>\n",
              "    <tr>\n",
              "      <th>2</th>\n",
              "      <td>1d9a5a31-8088-4c48-9a85-2cf17232b63e</td>\n",
              "      <td>3f671c29-c59e-4030-8107-5ad0b02e8e17</td>\n",
              "      <td>31.950062</td>\n",
              "      <td>3.541530</td>\n",
              "      <td>DZA</td>\n",
              "      <td>school</td>\n",
              "      <td>False</td>\n",
              "    </tr>\n",
              "    <tr>\n",
              "      <th>3</th>\n",
              "      <td>fef65ec8-628c-42cf-8dca-9567f5ba8f4a</td>\n",
              "      <td>3f671c29-c59e-4030-8107-5ad0b02e8e17</td>\n",
              "      <td>31.952468</td>\n",
              "      <td>3.529267</td>\n",
              "      <td>DZA</td>\n",
              "      <td>school</td>\n",
              "      <td>False</td>\n",
              "    </tr>\n",
              "    <tr>\n",
              "      <th>4</th>\n",
              "      <td>82fb906b-9a9b-4efc-872b-2466aff32966</td>\n",
              "      <td>3f671c29-c59e-4030-8107-5ad0b02e8e17</td>\n",
              "      <td>31.601909</td>\n",
              "      <td>3.676841</td>\n",
              "      <td>DZA</td>\n",
              "      <td>school</td>\n",
              "      <td>False</td>\n",
              "    </tr>\n",
              "  </tbody>\n",
              "</table>\n",
              "</div>"
            ],
            "text/plain": [
              "                                 poi_id                            dataset_id  \\\n",
              "0  c571c4d0-fde2-4b81-8009-48c92f32df83  3f671c29-c59e-4030-8107-5ad0b02e8e17   \n",
              "1  8b1e6b4b-3cce-45dd-a4ae-b105fab6d9ca  3f671c29-c59e-4030-8107-5ad0b02e8e17   \n",
              "2  1d9a5a31-8088-4c48-9a85-2cf17232b63e  3f671c29-c59e-4030-8107-5ad0b02e8e17   \n",
              "3  fef65ec8-628c-42cf-8dca-9567f5ba8f4a  3f671c29-c59e-4030-8107-5ad0b02e8e17   \n",
              "4  82fb906b-9a9b-4efc-872b-2466aff32966  3f671c29-c59e-4030-8107-5ad0b02e8e17   \n",
              "\n",
              "         lat       lon country_code poi_type  is_connected  \n",
              "0  31.949701  3.580467          DZA   school         False  \n",
              "1  31.976883  3.743190          DZA   school         False  \n",
              "2  31.950062  3.541530          DZA   school         False  \n",
              "3  31.952468  3.529267          DZA   school         False  \n",
              "4  31.601909  3.676841          DZA   school         False  "
            ]
          },
          "execution_count": 43,
          "metadata": {},
          "output_type": "execute_result"
        }
      ],
      "source": [
        "formatted_algeria_schools.head()\n",
        "# data_table.DataTable(formatted_algeria_schools, num_rows_per_page=10)"
      ]
    },
    {
      "cell_type": "code",
      "execution_count": null,
      "metadata": {
        "id": "DRVJsYyuSNfJ"
      },
      "outputs": [],
      "source": [
        "formatted_algeria_schools.to_csv(os.path.join(data_directory, \"formatted_algeria_schools.csv\"), index=False)"
      ]
    },
    {
      "cell_type": "markdown",
      "metadata": {
        "id": "pkzgkvAASNfJ"
      },
      "source": [
        "## Cell site data"
      ]
    },
    {
      "cell_type": "code",
      "execution_count": null,
      "metadata": {
        "id": "5oZO5kIGSNfJ",
        "outputId": "e5609ed2-abf6-4d71-cf33-54c0351c0fe1"
      },
      "outputs": [
        {
          "data": {
            "text/html": [
              "<style type=\"text/css\">\n",
              "#T_b7e06 thead {\n",
              "  background-color: #f2f2f2;\n",
              "  font-weight: bold;\n",
              "  border-bottom: 2px solid black;\n",
              "}\n",
              "#T_b7e06 tbody tr:nth-of-type(odd) {\n",
              "  background-color: #f9f9f9;\n",
              "}\n",
              "#T_b7e06_row0_col0, #T_b7e06_row0_col1, #T_b7e06_row0_col2, #T_b7e06_row0_col3, #T_b7e06_row0_col4, #T_b7e06_row0_col5, #T_b7e06_row1_col0, #T_b7e06_row1_col1, #T_b7e06_row1_col2, #T_b7e06_row1_col3, #T_b7e06_row1_col4, #T_b7e06_row1_col5, #T_b7e06_row2_col0, #T_b7e06_row2_col1, #T_b7e06_row2_col2, #T_b7e06_row2_col3, #T_b7e06_row2_col4, #T_b7e06_row2_col5, #T_b7e06_row3_col0, #T_b7e06_row3_col1, #T_b7e06_row3_col2, #T_b7e06_row3_col3, #T_b7e06_row3_col4, #T_b7e06_row3_col5, #T_b7e06_row4_col0, #T_b7e06_row4_col1, #T_b7e06_row4_col2, #T_b7e06_row4_col3, #T_b7e06_row4_col4, #T_b7e06_row4_col5, #T_b7e06_row5_col0, #T_b7e06_row5_col1, #T_b7e06_row5_col2, #T_b7e06_row5_col3, #T_b7e06_row5_col4, #T_b7e06_row5_col5, #T_b7e06_row6_col0, #T_b7e06_row6_col1, #T_b7e06_row6_col2, #T_b7e06_row6_col3, #T_b7e06_row6_col4, #T_b7e06_row6_col5, #T_b7e06_row7_col0, #T_b7e06_row7_col1, #T_b7e06_row7_col2, #T_b7e06_row7_col3, #T_b7e06_row7_col4, #T_b7e06_row7_col5, #T_b7e06_row8_col0, #T_b7e06_row8_col1, #T_b7e06_row8_col2, #T_b7e06_row8_col3, #T_b7e06_row8_col4, #T_b7e06_row8_col5 {\n",
              "  text-align: left;\n",
              "  border: 1px solid black;\n",
              "  padding: 8px;\n",
              "}\n",
              "</style>\n",
              "<table id=\"T_b7e06\">\n",
              "  <thead>\n",
              "    <tr>\n",
              "      <th class=\"blank level0\" >&nbsp;</th>\n",
              "      <th id=\"T_b7e06_level0_col0\" class=\"col_heading level0 col0\" >column_name</th>\n",
              "      <th id=\"T_b7e06_level0_col1\" class=\"col_heading level0 col1\" >column_type</th>\n",
              "      <th id=\"T_b7e06_level0_col2\" class=\"col_heading level0 col2\" >levels</th>\n",
              "      <th id=\"T_b7e06_level0_col3\" class=\"col_heading level0 col3\" >example</th>\n",
              "      <th id=\"T_b7e06_level0_col4\" class=\"col_heading level0 col4\" >mandatory</th>\n",
              "      <th id=\"T_b7e06_level0_col5\" class=\"col_heading level0 col5\" >definition</th>\n",
              "    </tr>\n",
              "  </thead>\n",
              "  <tbody>\n",
              "    <tr>\n",
              "      <th id=\"T_b7e06_level0_row0\" class=\"row_heading level0 row0\" >0</th>\n",
              "      <td id=\"T_b7e06_row0_col0\" class=\"data row0 col0\" >ict_id</td>\n",
              "      <td id=\"T_b7e06_row0_col1\" class=\"data row0 col1\" >UUID</td>\n",
              "      <td id=\"T_b7e06_row0_col2\" class=\"data row0 col2\" ></td>\n",
              "      <td id=\"T_b7e06_row0_col3\" class=\"data row0 col3\" >123e4567-e89b-12d3-a456-426614174000</td>\n",
              "      <td id=\"T_b7e06_row0_col4\" class=\"data row0 col4\" >Yes</td>\n",
              "      <td id=\"T_b7e06_row0_col5\" class=\"data row0 col5\" >Cell tower identifier</td>\n",
              "    </tr>\n",
              "    <tr>\n",
              "      <th id=\"T_b7e06_level0_row1\" class=\"row_heading level0 row1\" >1</th>\n",
              "      <td id=\"T_b7e06_row1_col0\" class=\"data row1 col0\" >dataset_id</td>\n",
              "      <td id=\"T_b7e06_row1_col1\" class=\"data row1 col1\" >UUID</td>\n",
              "      <td id=\"T_b7e06_row1_col2\" class=\"data row1 col2\" ></td>\n",
              "      <td id=\"T_b7e06_row1_col3\" class=\"data row1 col3\" >987fcdeb-51a2-12d3-a456-426614174000</td>\n",
              "      <td id=\"T_b7e06_row1_col4\" class=\"data row1 col4\" >Yes</td>\n",
              "      <td id=\"T_b7e06_row1_col5\" class=\"data row1 col5\" >Unique identifier for the dataset</td>\n",
              "    </tr>\n",
              "    <tr>\n",
              "      <th id=\"T_b7e06_level0_row2\" class=\"row_heading level0 row2\" >2</th>\n",
              "      <td id=\"T_b7e06_row2_col0\" class=\"data row2 col0\" >latitude</td>\n",
              "      <td id=\"T_b7e06_row2_col1\" class=\"data row2 col1\" >float</td>\n",
              "      <td id=\"T_b7e06_row2_col2\" class=\"data row2 col2\" ></td>\n",
              "      <td id=\"T_b7e06_row2_col3\" class=\"data row2 col3\" >38.988755</td>\n",
              "      <td id=\"T_b7e06_row2_col4\" class=\"data row2 col4\" >Yes</td>\n",
              "      <td id=\"T_b7e06_row2_col5\" class=\"data row2 col5\" >Cell tower geographical latitude</td>\n",
              "    </tr>\n",
              "    <tr>\n",
              "      <th id=\"T_b7e06_level0_row3\" class=\"row_heading level0 row3\" >3</th>\n",
              "      <td id=\"T_b7e06_row3_col0\" class=\"data row3 col0\" >longitude</td>\n",
              "      <td id=\"T_b7e06_row3_col1\" class=\"data row3 col1\" >float</td>\n",
              "      <td id=\"T_b7e06_row3_col2\" class=\"data row3 col2\" ></td>\n",
              "      <td id=\"T_b7e06_row3_col3\" class=\"data row3 col3\" >1.401938</td>\n",
              "      <td id=\"T_b7e06_row3_col4\" class=\"data row3 col4\" >Yes</td>\n",
              "      <td id=\"T_b7e06_row3_col5\" class=\"data row3 col5\" >Cell tower geographical longitude</td>\n",
              "    </tr>\n",
              "    <tr>\n",
              "      <th id=\"T_b7e06_level0_row4\" class=\"row_heading level0 row4\" >4</th>\n",
              "      <td id=\"T_b7e06_row4_col0\" class=\"data row4 col0\" >operator_name</td>\n",
              "      <td id=\"T_b7e06_row4_col1\" class=\"data row4 col1\" >string</td>\n",
              "      <td id=\"T_b7e06_row4_col2\" class=\"data row4 col2\" ></td>\n",
              "      <td id=\"T_b7e06_row4_col3\" class=\"data row4 col3\" >TelOperator</td>\n",
              "      <td id=\"T_b7e06_row4_col4\" class=\"data row4 col4\" >No</td>\n",
              "      <td id=\"T_b7e06_row4_col5\" class=\"data row4 col5\" >Mobile network operator name</td>\n",
              "    </tr>\n",
              "    <tr>\n",
              "      <th id=\"T_b7e06_level0_row5\" class=\"row_heading level0 row5\" >5</th>\n",
              "      <td id=\"T_b7e06_row5_col0\" class=\"data row5 col0\" >radio_type</td>\n",
              "      <td id=\"T_b7e06_row5_col1\" class=\"data row5 col1\" >string</td>\n",
              "      <td id=\"T_b7e06_row5_col2\" class=\"data row5 col2\" >LTE, UMTS, GSM, CDMA</td>\n",
              "      <td id=\"T_b7e06_row5_col3\" class=\"data row5 col3\" >LTE</td>\n",
              "      <td id=\"T_b7e06_row5_col4\" class=\"data row5 col4\" >Yes</td>\n",
              "      <td id=\"T_b7e06_row5_col5\" class=\"data row5 col5\" >Type of radio transmission technology</td>\n",
              "    </tr>\n",
              "    <tr>\n",
              "      <th id=\"T_b7e06_level0_row6\" class=\"row_heading level0 row6\" >6</th>\n",
              "      <td id=\"T_b7e06_row6_col0\" class=\"data row6 col0\" >antenna_height_m</td>\n",
              "      <td id=\"T_b7e06_row6_col1\" class=\"data row6 col1\" >float</td>\n",
              "      <td id=\"T_b7e06_row6_col2\" class=\"data row6 col2\" ></td>\n",
              "      <td id=\"T_b7e06_row6_col3\" class=\"data row6 col3\" >25</td>\n",
              "      <td id=\"T_b7e06_row6_col4\" class=\"data row6 col4\" >Yes</td>\n",
              "      <td id=\"T_b7e06_row6_col5\" class=\"data row6 col5\" >Antenna height on the tower or building</td>\n",
              "    </tr>\n",
              "    <tr>\n",
              "      <th id=\"T_b7e06_level0_row7\" class=\"row_heading level0 row7\" >7</th>\n",
              "      <td id=\"T_b7e06_row7_col0\" class=\"data row7 col0\" >backhaul_type</td>\n",
              "      <td id=\"T_b7e06_row7_col1\" class=\"data row7 col1\" >string</td>\n",
              "      <td id=\"T_b7e06_row7_col2\" class=\"data row7 col2\" >fiber, microwave, satellite</td>\n",
              "      <td id=\"T_b7e06_row7_col3\" class=\"data row7 col3\" >fiber</td>\n",
              "      <td id=\"T_b7e06_row7_col4\" class=\"data row7 col4\" >No</td>\n",
              "      <td id=\"T_b7e06_row7_col5\" class=\"data row7 col5\" >Type of backhaul connectivity of the cell tower</td>\n",
              "    </tr>\n",
              "    <tr>\n",
              "      <th id=\"T_b7e06_level0_row8\" class=\"row_heading level0 row8\" >8</th>\n",
              "      <td id=\"T_b7e06_row8_col0\" class=\"data row8 col0\" >backhaul_throughput_mbps</td>\n",
              "      <td id=\"T_b7e06_row8_col1\" class=\"data row8 col1\" >float</td>\n",
              "      <td id=\"T_b7e06_row8_col2\" class=\"data row8 col2\" ></td>\n",
              "      <td id=\"T_b7e06_row8_col3\" class=\"data row8 col3\" >1000</td>\n",
              "      <td id=\"T_b7e06_row8_col4\" class=\"data row8 col4\" >No</td>\n",
              "      <td id=\"T_b7e06_row8_col5\" class=\"data row8 col5\" >Equipped throughput of the backhaul</td>\n",
              "    </tr>\n",
              "  </tbody>\n",
              "</table>\n"
            ],
            "text/plain": [
              "<pandas.io.formats.style.Styler at 0x172711880>"
            ]
          },
          "metadata": {},
          "output_type": "display_data"
        }
      ],
      "source": [
        "cell_metadata = pd.DataFrame({\n",
        "   'column_name': ['ict_id', 'dataset_id', 'latitude', 'longitude', 'operator_name', 'radio_type', 'antenna_height_m', 'backhaul_type', 'backhaul_throughput_mbps'],\n",
        "   'column_type': ['UUID', 'UUID', 'float', 'float', 'string', 'string', 'float', 'string', 'float'],\n",
        "   'levels': [\n",
        "       '',  # ict_id\n",
        "       '',  # dataset_id\n",
        "       '',  # latitude\n",
        "       '',  # longitude\n",
        "       '',  # operator_name\n",
        "       'LTE, UMTS, GSM, CDMA',  # radio_type\n",
        "       '',  # antenna_height_m\n",
        "       'fiber, microwave, satellite',  # backhaul_type\n",
        "       ''   # backhaul_throughput_mbps\n",
        "   ],\n",
        "   'example': ['123e4567-e89b-12d3-a456-426614174000', '987fcdeb-51a2-12d3-a456-426614174000', '38.988755', '1.401938', 'TelOperator', 'LTE', '25', 'fiber', '1000'],\n",
        "   'mandatory': ['Yes', 'Yes', 'Yes', 'Yes', 'No', 'Yes', 'Yes', 'No', 'No'],\n",
        "   'definition': [\n",
        "       'Cell tower identifier',\n",
        "       'Unique identifier for the dataset',\n",
        "       'Cell tower geographical latitude',\n",
        "       'Cell tower geographical longitude',\n",
        "       'Mobile network operator name',\n",
        "       'Type of radio transmission technology',\n",
        "       'Antenna height on the tower or building',\n",
        "       'Type of backhaul connectivity of the cell tower',\n",
        "       'Equipped throughput of the backhaul'\n",
        "   ]\n",
        "})\n",
        "styled_df = cell_metadata.style.set_properties(**{\n",
        "   'text-align': 'left',\n",
        "   'border': '1px solid black',\n",
        "   'padding': '8px'\n",
        "}).set_table_styles([\n",
        "   {'selector': 'thead', 'props': [('background-color', '#f2f2f2'), ('font-weight', 'bold'), ('border-bottom', '2px solid black')]},\n",
        "   {'selector': 'tbody tr:nth-of-type(odd)', 'props': [('background-color', '#f9f9f9')]}\n",
        "])\n",
        "display(styled_df)"
      ]
    },
    {
      "cell_type": "code",
      "execution_count": null,
      "metadata": {
        "id": "yKbBulzLSNfJ",
        "outputId": "b86e625e-ade4-47ef-cef3-fc42980ace49"
      },
      "outputs": [
        {
          "data": {
            "text/plain": [
              "radio\n",
              "GSM     1785\n",
              "LTE      266\n",
              "UMTS     141\n",
              "Name: count, dtype: int64"
            ]
          },
          "execution_count": 45,
          "metadata": {},
          "output_type": "execute_result"
        }
      ],
      "source": [
        "algeria_cell_sites_gdf[\"radio\"].value_counts()"
      ]
    },
    {
      "cell_type": "code",
      "execution_count": null,
      "metadata": {
        "id": "E3DoJawCSNfJ"
      },
      "outputs": [],
      "source": [
        "# Create blank dataframe with id, latitute and longitude columns\n",
        "formatted_algeria_cell_sites = extract_lat_lon(algeria_cell_sites_gdf, id_column='ict_id')\n",
        "formatted_algeria_cell_sites[\"radio_type\"] = algeria_cell_sites_gdf[\"radio\"]\n",
        "formatted_algeria_cell_sites[\"antenna_height_m\"] = 25\n",
        "formatted_algeria_cell_sites[\"backhaul_type\"] = pd.NA\n",
        "formatted_algeria_cell_sites[\"backhaul_throughput_mbps\"] = pd.NA\n",
        "formatted_algeria_cell_sites[\"operator_name\"] = pd.NA"
      ]
    },
    {
      "cell_type": "code",
      "execution_count": null,
      "metadata": {
        "id": "mNnNH3o-SNfJ",
        "outputId": "641d1c6c-b605-4516-f95d-e4f2c8b74738"
      },
      "outputs": [
        {
          "data": {
            "text/html": [
              "<div>\n",
              "<style scoped>\n",
              "    .dataframe tbody tr th:only-of-type {\n",
              "        vertical-align: middle;\n",
              "    }\n",
              "\n",
              "    .dataframe tbody tr th {\n",
              "        vertical-align: top;\n",
              "    }\n",
              "\n",
              "    .dataframe thead th {\n",
              "        text-align: right;\n",
              "    }\n",
              "</style>\n",
              "<table border=\"1\" class=\"dataframe\">\n",
              "  <thead>\n",
              "    <tr style=\"text-align: right;\">\n",
              "      <th></th>\n",
              "      <th>ict_id</th>\n",
              "      <th>dataset_id</th>\n",
              "      <th>lat</th>\n",
              "      <th>lon</th>\n",
              "      <th>radio_type</th>\n",
              "      <th>antenna_height_m</th>\n",
              "      <th>backhaul_type</th>\n",
              "      <th>backhaul_throughput_mbps</th>\n",
              "      <th>operator_name</th>\n",
              "    </tr>\n",
              "  </thead>\n",
              "  <tbody>\n",
              "    <tr>\n",
              "      <th>0</th>\n",
              "      <td>cd780642-c84c-4a32-8b75-687172e68040</td>\n",
              "      <td>2399de6b-44a0-4b70-ba0e-c03812399aef</td>\n",
              "      <td>36.7380</td>\n",
              "      <td>2.9742</td>\n",
              "      <td>GSM</td>\n",
              "      <td>25</td>\n",
              "      <td>&lt;NA&gt;</td>\n",
              "      <td>&lt;NA&gt;</td>\n",
              "      <td>&lt;NA&gt;</td>\n",
              "    </tr>\n",
              "    <tr>\n",
              "      <th>1</th>\n",
              "      <td>52f5fdba-f8a4-4ec9-8ab4-54b5b98ec009</td>\n",
              "      <td>2399de6b-44a0-4b70-ba0e-c03812399aef</td>\n",
              "      <td>36.7447</td>\n",
              "      <td>2.9742</td>\n",
              "      <td>GSM</td>\n",
              "      <td>25</td>\n",
              "      <td>&lt;NA&gt;</td>\n",
              "      <td>&lt;NA&gt;</td>\n",
              "      <td>&lt;NA&gt;</td>\n",
              "    </tr>\n",
              "    <tr>\n",
              "      <th>2</th>\n",
              "      <td>2c09a65d-8e1a-44cc-8e81-44113d6de813</td>\n",
              "      <td>2399de6b-44a0-4b70-ba0e-c03812399aef</td>\n",
              "      <td>36.7453</td>\n",
              "      <td>2.9849</td>\n",
              "      <td>GSM</td>\n",
              "      <td>25</td>\n",
              "      <td>&lt;NA&gt;</td>\n",
              "      <td>&lt;NA&gt;</td>\n",
              "      <td>&lt;NA&gt;</td>\n",
              "    </tr>\n",
              "    <tr>\n",
              "      <th>3</th>\n",
              "      <td>5eefdaa0-348b-43c5-a7b0-72893c5e6adc</td>\n",
              "      <td>2399de6b-44a0-4b70-ba0e-c03812399aef</td>\n",
              "      <td>36.7491</td>\n",
              "      <td>3.0012</td>\n",
              "      <td>GSM</td>\n",
              "      <td>25</td>\n",
              "      <td>&lt;NA&gt;</td>\n",
              "      <td>&lt;NA&gt;</td>\n",
              "      <td>&lt;NA&gt;</td>\n",
              "    </tr>\n",
              "    <tr>\n",
              "      <th>4</th>\n",
              "      <td>c05e26f7-2784-4346-8587-61a241c2ea23</td>\n",
              "      <td>2399de6b-44a0-4b70-ba0e-c03812399aef</td>\n",
              "      <td>36.7503</td>\n",
              "      <td>3.0027</td>\n",
              "      <td>GSM</td>\n",
              "      <td>25</td>\n",
              "      <td>&lt;NA&gt;</td>\n",
              "      <td>&lt;NA&gt;</td>\n",
              "      <td>&lt;NA&gt;</td>\n",
              "    </tr>\n",
              "  </tbody>\n",
              "</table>\n",
              "</div>"
            ],
            "text/plain": [
              "                                 ict_id                            dataset_id  \\\n",
              "0  cd780642-c84c-4a32-8b75-687172e68040  2399de6b-44a0-4b70-ba0e-c03812399aef   \n",
              "1  52f5fdba-f8a4-4ec9-8ab4-54b5b98ec009  2399de6b-44a0-4b70-ba0e-c03812399aef   \n",
              "2  2c09a65d-8e1a-44cc-8e81-44113d6de813  2399de6b-44a0-4b70-ba0e-c03812399aef   \n",
              "3  5eefdaa0-348b-43c5-a7b0-72893c5e6adc  2399de6b-44a0-4b70-ba0e-c03812399aef   \n",
              "4  c05e26f7-2784-4346-8587-61a241c2ea23  2399de6b-44a0-4b70-ba0e-c03812399aef   \n",
              "\n",
              "       lat     lon radio_type  antenna_height_m backhaul_type  \\\n",
              "0  36.7380  2.9742        GSM                25          <NA>   \n",
              "1  36.7447  2.9742        GSM                25          <NA>   \n",
              "2  36.7453  2.9849        GSM                25          <NA>   \n",
              "3  36.7491  3.0012        GSM                25          <NA>   \n",
              "4  36.7503  3.0027        GSM                25          <NA>   \n",
              "\n",
              "  backhaul_throughput_mbps operator_name  \n",
              "0                     <NA>          <NA>  \n",
              "1                     <NA>          <NA>  \n",
              "2                     <NA>          <NA>  \n",
              "3                     <NA>          <NA>  \n",
              "4                     <NA>          <NA>  "
            ]
          },
          "execution_count": 47,
          "metadata": {},
          "output_type": "execute_result"
        }
      ],
      "source": [
        "formatted_algeria_cell_sites.head()\n",
        "# data_table.DataTable(formatted_algeria_schools, num_rows_per_page=10)"
      ]
    },
    {
      "cell_type": "code",
      "execution_count": null,
      "metadata": {
        "id": "_ktXNcXJSNfJ"
      },
      "outputs": [],
      "source": [
        "formatted_algeria_cell_sites.to_csv(os.path.join(data_directory, \"formatted_algeria_cell_sites.csv\"), index=False)"
      ]
    },
    {
      "cell_type": "markdown",
      "metadata": {
        "id": "KOhUPjdTSNfK"
      },
      "source": [
        "## Transmission node data"
      ]
    },
    {
      "cell_type": "code",
      "execution_count": null,
      "metadata": {
        "id": "kx0puaY4SNfK",
        "outputId": "95b4a387-e566-4d1b-a423-8db55eee8dab"
      },
      "outputs": [
        {
          "data": {
            "text/html": [
              "<style type=\"text/css\">\n",
              "#T_46047 thead {\n",
              "  background-color: #f2f2f2;\n",
              "  font-weight: bold;\n",
              "  border-bottom: 2px solid black;\n",
              "}\n",
              "#T_46047 tbody tr:nth-of-type(odd) {\n",
              "  background-color: #f9f9f9;\n",
              "}\n",
              "#T_46047_row0_col0, #T_46047_row0_col1, #T_46047_row0_col2, #T_46047_row0_col3, #T_46047_row0_col4, #T_46047_row0_col5, #T_46047_row1_col0, #T_46047_row1_col1, #T_46047_row1_col2, #T_46047_row1_col3, #T_46047_row1_col4, #T_46047_row1_col5, #T_46047_row2_col0, #T_46047_row2_col1, #T_46047_row2_col2, #T_46047_row2_col3, #T_46047_row2_col4, #T_46047_row2_col5, #T_46047_row3_col0, #T_46047_row3_col1, #T_46047_row3_col2, #T_46047_row3_col3, #T_46047_row3_col4, #T_46047_row3_col5, #T_46047_row4_col0, #T_46047_row4_col1, #T_46047_row4_col2, #T_46047_row4_col3, #T_46047_row4_col4, #T_46047_row4_col5, #T_46047_row5_col0, #T_46047_row5_col1, #T_46047_row5_col2, #T_46047_row5_col3, #T_46047_row5_col4, #T_46047_row5_col5, #T_46047_row6_col0, #T_46047_row6_col1, #T_46047_row6_col2, #T_46047_row6_col3, #T_46047_row6_col4, #T_46047_row6_col5, #T_46047_row7_col0, #T_46047_row7_col1, #T_46047_row7_col2, #T_46047_row7_col3, #T_46047_row7_col4, #T_46047_row7_col5, #T_46047_row8_col0, #T_46047_row8_col1, #T_46047_row8_col2, #T_46047_row8_col3, #T_46047_row8_col4, #T_46047_row8_col5 {\n",
              "  text-align: left;\n",
              "  border: 1px solid black;\n",
              "  padding: 8px;\n",
              "}\n",
              "</style>\n",
              "<table id=\"T_46047\">\n",
              "  <thead>\n",
              "    <tr>\n",
              "      <th class=\"blank level0\" >&nbsp;</th>\n",
              "      <th id=\"T_46047_level0_col0\" class=\"col_heading level0 col0\" >column_name</th>\n",
              "      <th id=\"T_46047_level0_col1\" class=\"col_heading level0 col1\" >column_type</th>\n",
              "      <th id=\"T_46047_level0_col2\" class=\"col_heading level0 col2\" >levels</th>\n",
              "      <th id=\"T_46047_level0_col3\" class=\"col_heading level0 col3\" >example</th>\n",
              "      <th id=\"T_46047_level0_col4\" class=\"col_heading level0 col4\" >mandatory</th>\n",
              "      <th id=\"T_46047_level0_col5\" class=\"col_heading level0 col5\" >definition</th>\n",
              "    </tr>\n",
              "  </thead>\n",
              "  <tbody>\n",
              "    <tr>\n",
              "      <th id=\"T_46047_level0_row0\" class=\"row_heading level0 row0\" >0</th>\n",
              "      <td id=\"T_46047_row0_col0\" class=\"data row0 col0\" >ict_id</td>\n",
              "      <td id=\"T_46047_row0_col1\" class=\"data row0 col1\" >UUID</td>\n",
              "      <td id=\"T_46047_row0_col2\" class=\"data row0 col2\" ></td>\n",
              "      <td id=\"T_46047_row0_col3\" class=\"data row0 col3\" >123e4567-e89b-12d3-a456-426614174000</td>\n",
              "      <td id=\"T_46047_row0_col4\" class=\"data row0 col4\" >Yes</td>\n",
              "      <td id=\"T_46047_row0_col5\" class=\"data row0 col5\" >Node identifier</td>\n",
              "    </tr>\n",
              "    <tr>\n",
              "      <th id=\"T_46047_level0_row1\" class=\"row_heading level0 row1\" >1</th>\n",
              "      <td id=\"T_46047_row1_col0\" class=\"data row1 col0\" >dataset_id</td>\n",
              "      <td id=\"T_46047_row1_col1\" class=\"data row1 col1\" >UUID</td>\n",
              "      <td id=\"T_46047_row1_col2\" class=\"data row1 col2\" ></td>\n",
              "      <td id=\"T_46047_row1_col3\" class=\"data row1 col3\" >987fcdeb-51a2-12d3-a456-426614174000</td>\n",
              "      <td id=\"T_46047_row1_col4\" class=\"data row1 col4\" >Yes</td>\n",
              "      <td id=\"T_46047_row1_col5\" class=\"data row1 col5\" >Unique identifier for the dataset</td>\n",
              "    </tr>\n",
              "    <tr>\n",
              "      <th id=\"T_46047_level0_row2\" class=\"row_heading level0 row2\" >2</th>\n",
              "      <td id=\"T_46047_row2_col0\" class=\"data row2 col0\" >latitude</td>\n",
              "      <td id=\"T_46047_row2_col1\" class=\"data row2 col1\" >float</td>\n",
              "      <td id=\"T_46047_row2_col2\" class=\"data row2 col2\" ></td>\n",
              "      <td id=\"T_46047_row2_col3\" class=\"data row2 col3\" >38.988755</td>\n",
              "      <td id=\"T_46047_row2_col4\" class=\"data row2 col4\" >Yes</td>\n",
              "      <td id=\"T_46047_row2_col5\" class=\"data row2 col5\" >Geographical latitude</td>\n",
              "    </tr>\n",
              "    <tr>\n",
              "      <th id=\"T_46047_level0_row3\" class=\"row_heading level0 row3\" >3</th>\n",
              "      <td id=\"T_46047_row3_col0\" class=\"data row3 col0\" >longitude</td>\n",
              "      <td id=\"T_46047_row3_col1\" class=\"data row3 col1\" >float</td>\n",
              "      <td id=\"T_46047_row3_col2\" class=\"data row3 col2\" ></td>\n",
              "      <td id=\"T_46047_row3_col3\" class=\"data row3 col3\" >1.401938</td>\n",
              "      <td id=\"T_46047_row3_col4\" class=\"data row3 col4\" >Yes</td>\n",
              "      <td id=\"T_46047_row3_col5\" class=\"data row3 col5\" >Geographical longitude</td>\n",
              "    </tr>\n",
              "    <tr>\n",
              "      <th id=\"T_46047_level0_row4\" class=\"row_heading level0 row4\" >4</th>\n",
              "      <td id=\"T_46047_row4_col0\" class=\"data row4 col0\" >operator_name</td>\n",
              "      <td id=\"T_46047_row4_col1\" class=\"data row4 col1\" >string</td>\n",
              "      <td id=\"T_46047_row4_col2\" class=\"data row4 col2\" ></td>\n",
              "      <td id=\"T_46047_row4_col3\" class=\"data row4 col3\" >TelOperator</td>\n",
              "      <td id=\"T_46047_row4_col4\" class=\"data row4 col4\" >No</td>\n",
              "      <td id=\"T_46047_row4_col5\" class=\"data row4 col5\" >Name of the mobile operator</td>\n",
              "    </tr>\n",
              "    <tr>\n",
              "      <th id=\"T_46047_level0_row5\" class=\"row_heading level0 row5\" >5</th>\n",
              "      <td id=\"T_46047_row5_col0\" class=\"data row5 col0\" >infrastructure_type</td>\n",
              "      <td id=\"T_46047_row5_col1\" class=\"data row5 col1\" >string</td>\n",
              "      <td id=\"T_46047_row5_col2\" class=\"data row5 col2\" >fiber, microwave, other</td>\n",
              "      <td id=\"T_46047_row5_col3\" class=\"data row5 col3\" >fiber</td>\n",
              "      <td id=\"T_46047_row5_col4\" class=\"data row5 col4\" >Yes</td>\n",
              "      <td id=\"T_46047_row5_col5\" class=\"data row5 col5\" >Type of Infrastructure</td>\n",
              "    </tr>\n",
              "    <tr>\n",
              "      <th id=\"T_46047_level0_row6\" class=\"row_heading level0 row6\" >6</th>\n",
              "      <td id=\"T_46047_row6_col0\" class=\"data row6 col0\" >node_status</td>\n",
              "      <td id=\"T_46047_row6_col1\" class=\"data row6 col1\" >string</td>\n",
              "      <td id=\"T_46047_row6_col2\" class=\"data row6 col2\" >operational, planned, under construction</td>\n",
              "      <td id=\"T_46047_row6_col3\" class=\"data row6 col3\" >operational</td>\n",
              "      <td id=\"T_46047_row6_col4\" class=\"data row6 col4\" >Yes</td>\n",
              "      <td id=\"T_46047_row6_col5\" class=\"data row6 col5\" >Status of the node</td>\n",
              "    </tr>\n",
              "    <tr>\n",
              "      <th id=\"T_46047_level0_row7\" class=\"row_heading level0 row7\" >7</th>\n",
              "      <td id=\"T_46047_row7_col0\" class=\"data row7 col0\" >equipped_capacity_mbps</td>\n",
              "      <td id=\"T_46047_row7_col1\" class=\"data row7 col1\" >float</td>\n",
              "      <td id=\"T_46047_row7_col2\" class=\"data row7 col2\" ></td>\n",
              "      <td id=\"T_46047_row7_col3\" class=\"data row7 col3\" >1000</td>\n",
              "      <td id=\"T_46047_row7_col4\" class=\"data row7 col4\" >No</td>\n",
              "      <td id=\"T_46047_row7_col5\" class=\"data row7 col5\" >Equipped bandwidth ready for use to connect subscribers</td>\n",
              "    </tr>\n",
              "    <tr>\n",
              "      <th id=\"T_46047_level0_row8\" class=\"row_heading level0 row8\" >8</th>\n",
              "      <td id=\"T_46047_row8_col0\" class=\"data row8 col0\" >potential_capacity_mbps</td>\n",
              "      <td id=\"T_46047_row8_col1\" class=\"data row8 col1\" >float</td>\n",
              "      <td id=\"T_46047_row8_col2\" class=\"data row8 col2\" ></td>\n",
              "      <td id=\"T_46047_row8_col3\" class=\"data row8 col3\" >2000</td>\n",
              "      <td id=\"T_46047_row8_col4\" class=\"data row8 col4\" >No</td>\n",
              "      <td id=\"T_46047_row8_col5\" class=\"data row8 col5\" >Total theoretical bandwidth available for subscriber connections</td>\n",
              "    </tr>\n",
              "  </tbody>\n",
              "</table>\n"
            ],
            "text/plain": [
              "<pandas.io.formats.style.Styler at 0x176eaaf70>"
            ]
          },
          "metadata": {},
          "output_type": "display_data"
        }
      ],
      "source": [
        "node_metadata = pd.DataFrame({\n",
        "   'column_name': ['ict_id', 'dataset_id', 'latitude', 'longitude', 'operator_name', 'infrastructure_type', 'node_status', 'equipped_capacity_mbps', 'potential_capacity_mbps'],\n",
        "   'column_type': ['UUID', 'UUID', 'float', 'float', 'string', 'string', 'string', 'float', 'float'],\n",
        "   'levels': [\n",
        "       '',  # node_id\n",
        "       '',  # dataset_id\n",
        "       '',  # latitude\n",
        "       '',  # longitude\n",
        "       '',  # operator_name\n",
        "       'fiber, microwave, other',  # infrastructure_type\n",
        "       'operational, planned, under construction',  # node_status\n",
        "       '',  # equipped_capacity_mbps\n",
        "       ''   # potential_capacity_mbps\n",
        "   ],\n",
        "   'example': ['123e4567-e89b-12d3-a456-426614174000', '987fcdeb-51a2-12d3-a456-426614174000', '38.988755', '1.401938', 'TelOperator', 'fiber', 'operational', '1000', '2000'],\n",
        "   'mandatory': ['Yes', 'Yes', 'Yes', 'Yes', 'No', 'Yes', 'Yes', 'No', 'No'],\n",
        "   'definition': [\n",
        "       'Node identifier',\n",
        "       'Unique identifier for the dataset',\n",
        "       'Geographical latitude',\n",
        "       'Geographical longitude',\n",
        "       'Name of the mobile operator',\n",
        "       'Type of Infrastructure',\n",
        "       'Status of the node',\n",
        "       'Equipped bandwidth ready for use to connect subscribers',\n",
        "       'Total theoretical bandwidth available for subscriber connections'\n",
        "   ]\n",
        "})\n",
        "\n",
        "styled_df = node_metadata.style.set_properties(**{\n",
        "   'text-align': 'left',\n",
        "   'border': '1px solid black',\n",
        "   'padding': '8px'\n",
        "}).set_table_styles([\n",
        "   {'selector': 'thead', 'props': [('background-color', '#f2f2f2'), ('font-weight', 'bold'), ('border-bottom', '2px solid black')]},\n",
        "   {'selector': 'tbody tr:nth-of-type(odd)', 'props': [('background-color', '#f9f9f9')]}\n",
        "])\n",
        "display(styled_df)"
      ]
    },
    {
      "cell_type": "code",
      "execution_count": null,
      "metadata": {
        "id": "rNG3hM1LSNfK",
        "outputId": "34048734-e400-421b-fbab-06c62b832543"
      },
      "outputs": [
        {
          "data": {
            "text/plain": [
              "type_infr\n",
              "Fibre Operational    118\n",
              "Name: count, dtype: int64"
            ]
          },
          "execution_count": 49,
          "metadata": {},
          "output_type": "execute_result"
        }
      ],
      "source": [
        "algeria_nodes_gdf[\"type_infr\"].value_counts()"
      ]
    },
    {
      "cell_type": "code",
      "execution_count": null,
      "metadata": {
        "id": "Q4iNwXEbSNfK"
      },
      "outputs": [],
      "source": [
        "# Create blank dataframe with id, latitute and longitude columns\n",
        "formatted_algeria_nodes = extract_lat_lon(algeria_nodes_gdf, id_column='ict_id')\n",
        "formatted_algeria_nodes\n",
        "formatted_algeria_nodes[\"operator_name\"] = pd.NA\n",
        "formatted_algeria_nodes[\"infrastructure_type\"] = \"fiber\"\n",
        "formatted_algeria_nodes[\"node_status\"] = \"operational\"\n",
        "formatted_algeria_nodes[\"equipped_capacity_mbps\"] = pd.NA\n",
        "formatted_algeria_nodes[\"potential_capacity_mbps\"] = pd.NA"
      ]
    },
    {
      "cell_type": "code",
      "execution_count": null,
      "metadata": {
        "id": "DR3XJ66vSNfK",
        "outputId": "596bcea2-4968-4bf6-e1ca-55a32595a45f"
      },
      "outputs": [
        {
          "data": {
            "text/html": [
              "<div>\n",
              "<style scoped>\n",
              "    .dataframe tbody tr th:only-of-type {\n",
              "        vertical-align: middle;\n",
              "    }\n",
              "\n",
              "    .dataframe tbody tr th {\n",
              "        vertical-align: top;\n",
              "    }\n",
              "\n",
              "    .dataframe thead th {\n",
              "        text-align: right;\n",
              "    }\n",
              "</style>\n",
              "<table border=\"1\" class=\"dataframe\">\n",
              "  <thead>\n",
              "    <tr style=\"text-align: right;\">\n",
              "      <th></th>\n",
              "      <th>ict_id</th>\n",
              "      <th>dataset_id</th>\n",
              "      <th>lat</th>\n",
              "      <th>lon</th>\n",
              "      <th>operator_name</th>\n",
              "      <th>infrastructure_type</th>\n",
              "      <th>node_status</th>\n",
              "      <th>equipped_capacity_mbps</th>\n",
              "      <th>potential_capacity_mbps</th>\n",
              "    </tr>\n",
              "  </thead>\n",
              "  <tbody>\n",
              "    <tr>\n",
              "      <th>0</th>\n",
              "      <td>9569e46e-193b-4320-ae83-b7ce0dc8ad0b</td>\n",
              "      <td>1fc239c1-cb5d-4ddf-b6b7-bee5fce84adc</td>\n",
              "      <td>36.480870</td>\n",
              "      <td>2.835004</td>\n",
              "      <td>&lt;NA&gt;</td>\n",
              "      <td>fiber</td>\n",
              "      <td>operational</td>\n",
              "      <td>&lt;NA&gt;</td>\n",
              "      <td>&lt;NA&gt;</td>\n",
              "    </tr>\n",
              "    <tr>\n",
              "      <th>1</th>\n",
              "      <td>9ca9bbb6-300b-4488-bf5b-b8583ee7f4f8</td>\n",
              "      <td>1fc239c1-cb5d-4ddf-b6b7-bee5fce84adc</td>\n",
              "      <td>36.135791</td>\n",
              "      <td>2.915544</td>\n",
              "      <td>&lt;NA&gt;</td>\n",
              "      <td>fiber</td>\n",
              "      <td>operational</td>\n",
              "      <td>&lt;NA&gt;</td>\n",
              "      <td>&lt;NA&gt;</td>\n",
              "    </tr>\n",
              "    <tr>\n",
              "      <th>2</th>\n",
              "      <td>c4932d70-e476-431f-ba1c-bd8553a8aecb</td>\n",
              "      <td>1fc239c1-cb5d-4ddf-b6b7-bee5fce84adc</td>\n",
              "      <td>36.766537</td>\n",
              "      <td>3.467671</td>\n",
              "      <td>&lt;NA&gt;</td>\n",
              "      <td>fiber</td>\n",
              "      <td>operational</td>\n",
              "      <td>&lt;NA&gt;</td>\n",
              "      <td>&lt;NA&gt;</td>\n",
              "    </tr>\n",
              "    <tr>\n",
              "      <th>3</th>\n",
              "      <td>18acbac4-ed20-4335-b8d5-23ef44c52d37</td>\n",
              "      <td>1fc239c1-cb5d-4ddf-b6b7-bee5fce84adc</td>\n",
              "      <td>36.508079</td>\n",
              "      <td>1.314256</td>\n",
              "      <td>&lt;NA&gt;</td>\n",
              "      <td>fiber</td>\n",
              "      <td>operational</td>\n",
              "      <td>&lt;NA&gt;</td>\n",
              "      <td>&lt;NA&gt;</td>\n",
              "    </tr>\n",
              "    <tr>\n",
              "      <th>4</th>\n",
              "      <td>62b1bf0c-3c27-4ff6-93e6-d2d1d71e193f</td>\n",
              "      <td>1fc239c1-cb5d-4ddf-b6b7-bee5fce84adc</td>\n",
              "      <td>35.483203</td>\n",
              "      <td>-0.598996</td>\n",
              "      <td>&lt;NA&gt;</td>\n",
              "      <td>fiber</td>\n",
              "      <td>operational</td>\n",
              "      <td>&lt;NA&gt;</td>\n",
              "      <td>&lt;NA&gt;</td>\n",
              "    </tr>\n",
              "  </tbody>\n",
              "</table>\n",
              "</div>"
            ],
            "text/plain": [
              "                                 ict_id                            dataset_id  \\\n",
              "0  9569e46e-193b-4320-ae83-b7ce0dc8ad0b  1fc239c1-cb5d-4ddf-b6b7-bee5fce84adc   \n",
              "1  9ca9bbb6-300b-4488-bf5b-b8583ee7f4f8  1fc239c1-cb5d-4ddf-b6b7-bee5fce84adc   \n",
              "2  c4932d70-e476-431f-ba1c-bd8553a8aecb  1fc239c1-cb5d-4ddf-b6b7-bee5fce84adc   \n",
              "3  18acbac4-ed20-4335-b8d5-23ef44c52d37  1fc239c1-cb5d-4ddf-b6b7-bee5fce84adc   \n",
              "4  62b1bf0c-3c27-4ff6-93e6-d2d1d71e193f  1fc239c1-cb5d-4ddf-b6b7-bee5fce84adc   \n",
              "\n",
              "         lat       lon operator_name infrastructure_type  node_status  \\\n",
              "0  36.480870  2.835004          <NA>               fiber  operational   \n",
              "1  36.135791  2.915544          <NA>               fiber  operational   \n",
              "2  36.766537  3.467671          <NA>               fiber  operational   \n",
              "3  36.508079  1.314256          <NA>               fiber  operational   \n",
              "4  35.483203 -0.598996          <NA>               fiber  operational   \n",
              "\n",
              "  equipped_capacity_mbps potential_capacity_mbps  \n",
              "0                   <NA>                    <NA>  \n",
              "1                   <NA>                    <NA>  \n",
              "2                   <NA>                    <NA>  \n",
              "3                   <NA>                    <NA>  \n",
              "4                   <NA>                    <NA>  "
            ]
          },
          "execution_count": 51,
          "metadata": {},
          "output_type": "execute_result"
        }
      ],
      "source": [
        "formatted_algeria_nodes.head()\n",
        "# data_table.DataTable(formatted_algeria_schools, num_rows_per_page=10)"
      ]
    },
    {
      "cell_type": "code",
      "execution_count": null,
      "metadata": {
        "id": "gqAHU9YMSNfK"
      },
      "outputs": [],
      "source": [
        "formatted_algeria_nodes.to_csv(os.path.join(data_directory, \"formatted_algeria_nodes.csv\"), index=False)"
      ]
    },
    {
      "cell_type": "markdown",
      "metadata": {
        "id": "ADQeR2AnSNfK"
      },
      "source": [
        "## Mobile coverage"
      ]
    },
    {
      "cell_type": "code",
      "execution_count": null,
      "metadata": {
        "id": "cljZ7Dn7SNfL",
        "outputId": "eacbfa79-542d-4e89-d7f3-10a1706cc25a"
      },
      "outputs": [
        {
          "data": {
            "text/html": [
              "<style type=\"text/css\">\n",
              "#T_6bcb0 thead {\n",
              "  background-color: #f2f2f2;\n",
              "  font-weight: bold;\n",
              "  border-bottom: 2px solid black;\n",
              "}\n",
              "#T_6bcb0 tbody tr:nth-of-type(odd) {\n",
              "  background-color: #f9f9f9;\n",
              "}\n",
              "#T_6bcb0_row0_col0, #T_6bcb0_row0_col1, #T_6bcb0_row0_col2, #T_6bcb0_row0_col3, #T_6bcb0_row0_col4, #T_6bcb0_row0_col5, #T_6bcb0_row1_col0, #T_6bcb0_row1_col1, #T_6bcb0_row1_col2, #T_6bcb0_row1_col3, #T_6bcb0_row1_col4, #T_6bcb0_row1_col5, #T_6bcb0_row2_col0, #T_6bcb0_row2_col1, #T_6bcb0_row2_col2, #T_6bcb0_row2_col3, #T_6bcb0_row2_col4, #T_6bcb0_row2_col5, #T_6bcb0_row3_col0, #T_6bcb0_row3_col1, #T_6bcb0_row3_col2, #T_6bcb0_row3_col3, #T_6bcb0_row3_col4, #T_6bcb0_row3_col5, #T_6bcb0_row4_col0, #T_6bcb0_row4_col1, #T_6bcb0_row4_col2, #T_6bcb0_row4_col3, #T_6bcb0_row4_col4, #T_6bcb0_row4_col5, #T_6bcb0_row5_col0, #T_6bcb0_row5_col1, #T_6bcb0_row5_col2, #T_6bcb0_row5_col3, #T_6bcb0_row5_col4, #T_6bcb0_row5_col5 {\n",
              "  text-align: left;\n",
              "  border: 1px solid black;\n",
              "  padding: 8px;\n",
              "}\n",
              "</style>\n",
              "<table id=\"T_6bcb0\">\n",
              "  <thead>\n",
              "    <tr>\n",
              "      <th class=\"blank level0\" >&nbsp;</th>\n",
              "      <th id=\"T_6bcb0_level0_col0\" class=\"col_heading level0 col0\" >column_name</th>\n",
              "      <th id=\"T_6bcb0_level0_col1\" class=\"col_heading level0 col1\" >column_type</th>\n",
              "      <th id=\"T_6bcb0_level0_col2\" class=\"col_heading level0 col2\" >levels</th>\n",
              "      <th id=\"T_6bcb0_level0_col3\" class=\"col_heading level0 col3\" >example</th>\n",
              "      <th id=\"T_6bcb0_level0_col4\" class=\"col_heading level0 col4\" >mandatory</th>\n",
              "      <th id=\"T_6bcb0_level0_col5\" class=\"col_heading level0 col5\" >definition</th>\n",
              "    </tr>\n",
              "  </thead>\n",
              "  <tbody>\n",
              "    <tr>\n",
              "      <th id=\"T_6bcb0_level0_row0\" class=\"row_heading level0 row0\" >0</th>\n",
              "      <td id=\"T_6bcb0_row0_col0\" class=\"data row0 col0\" >coverage_id</td>\n",
              "      <td id=\"T_6bcb0_row0_col1\" class=\"data row0 col1\" >UUID</td>\n",
              "      <td id=\"T_6bcb0_row0_col2\" class=\"data row0 col2\" ></td>\n",
              "      <td id=\"T_6bcb0_row0_col3\" class=\"data row0 col3\" >123e4567-e89b-12d3-a456-426614174000</td>\n",
              "      <td id=\"T_6bcb0_row0_col4\" class=\"data row0 col4\" >Yes</td>\n",
              "      <td id=\"T_6bcb0_row0_col5\" class=\"data row0 col5\" >Unique identifier for the coverage area</td>\n",
              "    </tr>\n",
              "    <tr>\n",
              "      <th id=\"T_6bcb0_level0_row1\" class=\"row_heading level0 row1\" >1</th>\n",
              "      <td id=\"T_6bcb0_row1_col0\" class=\"data row1 col0\" >dataset_id</td>\n",
              "      <td id=\"T_6bcb0_row1_col1\" class=\"data row1 col1\" >UUID</td>\n",
              "      <td id=\"T_6bcb0_row1_col2\" class=\"data row1 col2\" ></td>\n",
              "      <td id=\"T_6bcb0_row1_col3\" class=\"data row1 col3\" >987fcdeb-51a2-12d3-a456-426614174000</td>\n",
              "      <td id=\"T_6bcb0_row1_col4\" class=\"data row1 col4\" >Yes</td>\n",
              "      <td id=\"T_6bcb0_row1_col5\" class=\"data row1 col5\" >Unique identifier for the dataset</td>\n",
              "    </tr>\n",
              "    <tr>\n",
              "      <th id=\"T_6bcb0_level0_row2\" class=\"row_heading level0 row2\" >2</th>\n",
              "      <td id=\"T_6bcb0_row2_col0\" class=\"data row2 col0\" >signal_strength_dbm</td>\n",
              "      <td id=\"T_6bcb0_row2_col1\" class=\"data row2 col1\" >float</td>\n",
              "      <td id=\"T_6bcb0_row2_col2\" class=\"data row2 col2\" ></td>\n",
              "      <td id=\"T_6bcb0_row2_col3\" class=\"data row2 col3\" >-93</td>\n",
              "      <td id=\"T_6bcb0_row2_col4\" class=\"data row2 col4\" >Yes</td>\n",
              "      <td id=\"T_6bcb0_row2_col5\" class=\"data row2 col5\" >Mobile signal strength in dBm for coverage</td>\n",
              "    </tr>\n",
              "    <tr>\n",
              "      <th id=\"T_6bcb0_level0_row3\" class=\"row_heading level0 row3\" >3</th>\n",
              "      <td id=\"T_6bcb0_row3_col0\" class=\"data row3 col0\" >operator_name</td>\n",
              "      <td id=\"T_6bcb0_row3_col1\" class=\"data row3 col1\" >string</td>\n",
              "      <td id=\"T_6bcb0_row3_col2\" class=\"data row3 col2\" ></td>\n",
              "      <td id=\"T_6bcb0_row3_col3\" class=\"data row3 col3\" >TelOperator</td>\n",
              "      <td id=\"T_6bcb0_row3_col4\" class=\"data row3 col4\" >No</td>\n",
              "      <td id=\"T_6bcb0_row3_col5\" class=\"data row3 col5\" >Name of the mobile operator</td>\n",
              "    </tr>\n",
              "    <tr>\n",
              "      <th id=\"T_6bcb0_level0_row4\" class=\"row_heading level0 row4\" >4</th>\n",
              "      <td id=\"T_6bcb0_row4_col0\" class=\"data row4 col0\" >geometry</td>\n",
              "      <td id=\"T_6bcb0_row4_col1\" class=\"data row4 col1\" >geometry</td>\n",
              "      <td id=\"T_6bcb0_row4_col2\" class=\"data row4 col2\" >polygon</td>\n",
              "      <td id=\"T_6bcb0_row4_col3\" class=\"data row4 col3\" >POLYGON((...))</td>\n",
              "      <td id=\"T_6bcb0_row4_col4\" class=\"data row4 col4\" >Yes</td>\n",
              "      <td id=\"T_6bcb0_row4_col5\" class=\"data row4 col5\" >Polygon geometry of coverage area</td>\n",
              "    </tr>\n",
              "    <tr>\n",
              "      <th id=\"T_6bcb0_level0_row5\" class=\"row_heading level0 row5\" >5</th>\n",
              "      <td id=\"T_6bcb0_row5_col0\" class=\"data row5 col0\" >coverage</td>\n",
              "      <td id=\"T_6bcb0_row5_col1\" class=\"data row5 col1\" >integer</td>\n",
              "      <td id=\"T_6bcb0_row5_col2\" class=\"data row5 col2\" >1</td>\n",
              "      <td id=\"T_6bcb0_row5_col3\" class=\"data row5 col3\" >1</td>\n",
              "      <td id=\"T_6bcb0_row5_col4\" class=\"data row5 col4\" >Yes</td>\n",
              "      <td id=\"T_6bcb0_row5_col5\" class=\"data row5 col5\" >Binary value indicating coverage</td>\n",
              "    </tr>\n",
              "  </tbody>\n",
              "</table>\n"
            ],
            "text/plain": [
              "<pandas.io.formats.style.Styler at 0x17272efa0>"
            ]
          },
          "metadata": {},
          "output_type": "display_data"
        }
      ],
      "source": [
        "coverage_metadata = pd.DataFrame({\n",
        "   'column_name': ['coverage_id', 'dataset_id', 'signal_strength_dbm', 'operator_name', 'geometry', 'coverage'],\n",
        "   'column_type': ['UUID', 'UUID', 'float', 'string', 'geometry', 'integer'],\n",
        "   'levels': [\n",
        "       '',  # coverage_id\n",
        "       '',  # dataset_id\n",
        "       '',  # signal_strength\n",
        "       '',  # operator_name\n",
        "       'polygon',  # geometry\n",
        "       '1'\n",
        "   ],\n",
        "   'example': [\n",
        "       '123e4567-e89b-12d3-a456-426614174000',\n",
        "       '987fcdeb-51a2-12d3-a456-426614174000',\n",
        "       '-93',\n",
        "       'TelOperator',\n",
        "       'POLYGON((...))',\n",
        "       '1'\n",
        "   ],\n",
        "   'mandatory': ['Yes', 'Yes', 'Yes', 'No', 'Yes', 'Yes'],\n",
        "   'definition': [\n",
        "       'Unique identifier for the coverage area',\n",
        "       'Unique identifier for the dataset',\n",
        "       'Mobile signal strength in dBm for coverage',\n",
        "       'Name of the mobile operator',\n",
        "       'Polygon geometry of coverage area',\n",
        "       'Binary value indicating coverage'\n",
        "   ]\n",
        "})\n",
        "\n",
        "styled_df = coverage_metadata.style.set_properties(**{\n",
        "   'text-align': 'left',\n",
        "   'border': '1px solid black',\n",
        "   'padding': '8px'\n",
        "}).set_table_styles([\n",
        "   {'selector': 'thead', 'props': [('background-color', '#f2f2f2'), ('font-weight', 'bold'), ('border-bottom', '2px solid black')]},\n",
        "   {'selector': 'tbody tr:nth-of-type(odd)', 'props': [('background-color', '#f9f9f9')]}\n",
        "])\n",
        "display(styled_df)"
      ]
    },
    {
      "cell_type": "code",
      "execution_count": null,
      "metadata": {
        "id": "s8eXdHQJSNfL",
        "outputId": "a8df59a6-9d7e-4bc4-bfdd-2f51c100832f"
      },
      "outputs": [
        {
          "data": {
            "text/html": [
              "<div>\n",
              "<style scoped>\n",
              "    .dataframe tbody tr th:only-of-type {\n",
              "        vertical-align: middle;\n",
              "    }\n",
              "\n",
              "    .dataframe tbody tr th {\n",
              "        vertical-align: top;\n",
              "    }\n",
              "\n",
              "    .dataframe thead th {\n",
              "        text-align: right;\n",
              "    }\n",
              "</style>\n",
              "<table border=\"1\" class=\"dataframe\">\n",
              "  <thead>\n",
              "    <tr style=\"text-align: right;\">\n",
              "      <th></th>\n",
              "      <th>geometry</th>\n",
              "    </tr>\n",
              "  </thead>\n",
              "  <tbody>\n",
              "    <tr>\n",
              "      <th>0</th>\n",
              "      <td>MULTIPOLYGON (((-8.42331 27.17413, -8.42383 27...</td>\n",
              "    </tr>\n",
              "  </tbody>\n",
              "</table>\n",
              "</div>"
            ],
            "text/plain": [
              "                                            geometry\n",
              "0  MULTIPOLYGON (((-8.42331 27.17413, -8.42383 27..."
            ]
          },
          "execution_count": 53,
          "metadata": {},
          "output_type": "execute_result"
        }
      ],
      "source": [
        "algeria_clipped_mobile_coverage_gdf"
      ]
    },
    {
      "cell_type": "code",
      "execution_count": null,
      "metadata": {
        "id": "WylWNLHoSNfL"
      },
      "outputs": [],
      "source": [
        "# Create blank dataframe with id, latitute and longitude columns\n",
        "formatted_algeria_coverage = algeria_clipped_mobile_coverage_gdf\n",
        "formatted_algeria_coverage[\"coverage\"] = 1\n",
        "formatted_algeria_coverage[\"signal_strength_dbm\"] = -93\n",
        "formatted_algeria_coverage[\"operator_name\"] = pd.NA\n",
        "formatted_algeria_coverage[\"coverage_id\"] = [str(uuid.uuid4()) for _ in range(len(formatted_algeria_coverage))]\n",
        "formatted_algeria_coverage[\"dataset_id\"] = str(uuid.uuid4())"
      ]
    },
    {
      "cell_type": "code",
      "execution_count": null,
      "metadata": {
        "id": "yKFS_M1iSNfL",
        "outputId": "f3d9f085-a993-44f3-dcbb-54c952038c2d"
      },
      "outputs": [
        {
          "data": {
            "text/html": [
              "<div>\n",
              "<style scoped>\n",
              "    .dataframe tbody tr th:only-of-type {\n",
              "        vertical-align: middle;\n",
              "    }\n",
              "\n",
              "    .dataframe tbody tr th {\n",
              "        vertical-align: top;\n",
              "    }\n",
              "\n",
              "    .dataframe thead th {\n",
              "        text-align: right;\n",
              "    }\n",
              "</style>\n",
              "<table border=\"1\" class=\"dataframe\">\n",
              "  <thead>\n",
              "    <tr style=\"text-align: right;\">\n",
              "      <th></th>\n",
              "      <th>geometry</th>\n",
              "      <th>coverage</th>\n",
              "      <th>signal_strength_dbm</th>\n",
              "      <th>operator_name</th>\n",
              "      <th>coverage_id</th>\n",
              "      <th>dataset_id</th>\n",
              "    </tr>\n",
              "  </thead>\n",
              "  <tbody>\n",
              "    <tr>\n",
              "      <th>0</th>\n",
              "      <td>MULTIPOLYGON (((-8.42331 27.17413, -8.42383 27...</td>\n",
              "      <td>1</td>\n",
              "      <td>-93</td>\n",
              "      <td>&lt;NA&gt;</td>\n",
              "      <td>1c88b4c5-fced-4145-9df1-20014bcacb09</td>\n",
              "      <td>e8159e86-71f9-48d3-9662-798c8837adf2</td>\n",
              "    </tr>\n",
              "  </tbody>\n",
              "</table>\n",
              "</div>"
            ],
            "text/plain": [
              "                                            geometry  coverage  \\\n",
              "0  MULTIPOLYGON (((-8.42331 27.17413, -8.42383 27...         1   \n",
              "\n",
              "   signal_strength_dbm operator_name                           coverage_id  \\\n",
              "0                  -93          <NA>  1c88b4c5-fced-4145-9df1-20014bcacb09   \n",
              "\n",
              "                             dataset_id  \n",
              "0  e8159e86-71f9-48d3-9662-798c8837adf2  "
            ]
          },
          "execution_count": 55,
          "metadata": {},
          "output_type": "execute_result"
        }
      ],
      "source": [
        "formatted_algeria_coverage.head()\n",
        "# data_table.DataTable(formatted_algeria_schools, num_rows_per_page=10)"
      ]
    },
    {
      "cell_type": "code",
      "execution_count": null,
      "metadata": {
        "id": "p_UVgn94SNfL"
      },
      "outputs": [],
      "source": [
        "formatted_algeria_coverage.to_file(os.path.join(data_directory, \"formatted_algeria_coverage.geojson\"), driver=\"GeoJSON\")"
      ]
    }
  ],
  "metadata": {
    "kernelspec": {
      "display_name": "inframaptraining",
      "language": "python",
      "name": "python3"
    },
    "language_info": {
      "codemirror_mode": {
        "name": "ipython",
        "version": 3
      },
      "file_extension": ".py",
      "mimetype": "text/x-python",
      "name": "python",
      "nbconvert_exporter": "python",
      "pygments_lexer": "ipython3",
      "version": "3.9.18"
    },
    "colab": {
      "provenance": []
    }
  },
  "nbformat": 4,
  "nbformat_minor": 0
}